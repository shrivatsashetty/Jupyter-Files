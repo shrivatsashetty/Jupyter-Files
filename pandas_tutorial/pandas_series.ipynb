{
 "cells": [
  {
   "cell_type": "code",
   "execution_count": 1,
   "id": "ac422c50",
   "metadata": {},
   "outputs": [],
   "source": [
    "import numpy as np\n",
    "import pandas as pd"
   ]
  },
  {
   "cell_type": "code",
   "execution_count": 2,
   "id": "1d9bf2a3",
   "metadata": {},
   "outputs": [],
   "source": [
    "# creating a pandas series from a simple list"
   ]
  },
  {
   "cell_type": "code",
   "execution_count": 3,
   "id": "635678df",
   "metadata": {},
   "outputs": [],
   "source": [
    "sci_consts = [ 3.14, 2.718, 6.69, 2.999 ]"
   ]
  },
  {
   "cell_type": "code",
   "execution_count": 4,
   "id": "81eb4ec2",
   "metadata": {},
   "outputs": [
    {
     "data": {
      "text/plain": [
       "list"
      ]
     },
     "execution_count": 4,
     "metadata": {},
     "output_type": "execute_result"
    }
   ],
   "source": [
    "type(sci_consts)"
   ]
  },
  {
   "cell_type": "code",
   "execution_count": 5,
   "id": "9b734c7f",
   "metadata": {},
   "outputs": [],
   "source": [
    "mysr = pd.Series(sci_consts) "
   ]
  },
  {
   "cell_type": "code",
   "execution_count": 6,
   "id": "c3984a23",
   "metadata": {},
   "outputs": [
    {
     "data": {
      "text/plain": [
       "0    3.140\n",
       "1    2.718\n",
       "2    6.690\n",
       "3    2.999\n",
       "dtype: float64"
      ]
     },
     "execution_count": 6,
     "metadata": {},
     "output_type": "execute_result"
    }
   ],
   "source": [
    "mysr"
   ]
  },
  {
   "cell_type": "code",
   "execution_count": 7,
   "id": "0b863db6",
   "metadata": {},
   "outputs": [],
   "source": [
    "digits = [0,1,2,3,4,5,6,7,8,9]"
   ]
  },
  {
   "cell_type": "code",
   "execution_count": 8,
   "id": "30dea7c4",
   "metadata": {},
   "outputs": [
    {
     "data": {
      "text/plain": [
       "0    0\n",
       "1    1\n",
       "2    2\n",
       "3    3\n",
       "4    4\n",
       "5    5\n",
       "6    6\n",
       "7    7\n",
       "8    8\n",
       "9    9\n",
       "dtype: int64"
      ]
     },
     "execution_count": 8,
     "metadata": {},
     "output_type": "execute_result"
    }
   ],
   "source": [
    "pd.Series(digits)"
   ]
  },
  {
   "cell_type": "code",
   "execution_count": 9,
   "id": "f05fbadd",
   "metadata": {},
   "outputs": [],
   "source": [
    "# strings are considred as objects\n",
    "# even if one string present in list then whole list considered as object"
   ]
  },
  {
   "cell_type": "code",
   "execution_count": 10,
   "id": "25774af2",
   "metadata": {},
   "outputs": [],
   "source": [
    "names = [\"Hari\",\"Manu\",\"Abin\"]"
   ]
  },
  {
   "cell_type": "code",
   "execution_count": 11,
   "id": "8e57f9a4",
   "metadata": {},
   "outputs": [
    {
     "data": {
      "text/plain": [
       "0    Hari\n",
       "1    Manu\n",
       "2    Abin\n",
       "dtype: object"
      ]
     },
     "execution_count": 11,
     "metadata": {},
     "output_type": "execute_result"
    }
   ],
   "source": [
    "pd.Series(names)"
   ]
  },
  {
   "cell_type": "code",
   "execution_count": 12,
   "id": "d15e0e28",
   "metadata": {},
   "outputs": [],
   "source": [
    " # peresence of one float causes internal conversion to float "
   ]
  },
  {
   "cell_type": "code",
   "execution_count": 13,
   "id": "43bf9e1a",
   "metadata": {},
   "outputs": [],
   "source": [
    "mix1 = [0, 2, 3.23] # dtype: float64"
   ]
  },
  {
   "cell_type": "code",
   "execution_count": 58,
   "id": "0f99cd48",
   "metadata": {},
   "outputs": [
    {
     "data": {
      "text/plain": [
       "0    0.00\n",
       "1    2.00\n",
       "2    3.23\n",
       "dtype: float64"
      ]
     },
     "execution_count": 58,
     "metadata": {},
     "output_type": "execute_result"
    }
   ],
   "source": [
    "pd.Series(mix1) # by default the indexes will start from zero to n-1"
   ]
  },
  {
   "cell_type": "code",
   "execution_count": 15,
   "id": "6a36a720",
   "metadata": {},
   "outputs": [],
   "source": [
    "mix2 = [1,2,\"hi\"] # dtype: object"
   ]
  },
  {
   "cell_type": "code",
   "execution_count": 16,
   "id": "41b133aa",
   "metadata": {},
   "outputs": [
    {
     "data": {
      "text/plain": [
       "0     1\n",
       "1     2\n",
       "2    hi\n",
       "dtype: object"
      ]
     },
     "execution_count": 16,
     "metadata": {},
     "output_type": "execute_result"
    }
   ],
   "source": [
    "pd.Series(mix2)"
   ]
  },
  {
   "cell_type": "code",
   "execution_count": 17,
   "id": "99f2c535",
   "metadata": {},
   "outputs": [],
   "source": [
    "# creating an array of random numbers in range [0,1)"
   ]
  },
  {
   "cell_type": "code",
   "execution_count": 18,
   "id": "f97a6143",
   "metadata": {},
   "outputs": [],
   "source": [
    "random_nums = np.random.rand(15) "
   ]
  },
  {
   "cell_type": "code",
   "execution_count": 19,
   "id": "a6d842c4",
   "metadata": {},
   "outputs": [
    {
     "data": {
      "text/plain": [
       "array([0.42545669, 0.45166923, 0.61018667, 0.10447632, 0.0364281 ,\n",
       "       0.81598937, 0.74297055, 0.78213366, 0.55061757, 0.14765814,\n",
       "       0.08287854, 0.83198347, 0.5534427 , 0.21637074, 0.92322415])"
      ]
     },
     "execution_count": 19,
     "metadata": {},
     "output_type": "execute_result"
    }
   ],
   "source": [
    "random_nums"
   ]
  },
  {
   "cell_type": "code",
   "execution_count": 20,
   "id": "1180834d",
   "metadata": {},
   "outputs": [],
   "source": [
    "rand_series = pd.Series(random_nums)"
   ]
  },
  {
   "cell_type": "code",
   "execution_count": 21,
   "id": "21cf3729",
   "metadata": {},
   "outputs": [
    {
     "data": {
      "text/plain": [
       "0     0.425457\n",
       "1     0.451669\n",
       "2     0.610187\n",
       "3     0.104476\n",
       "4     0.036428\n",
       "5     0.815989\n",
       "6     0.742971\n",
       "7     0.782134\n",
       "8     0.550618\n",
       "9     0.147658\n",
       "10    0.082879\n",
       "11    0.831983\n",
       "12    0.553443\n",
       "13    0.216371\n",
       "14    0.923224\n",
       "dtype: float64"
      ]
     },
     "execution_count": 21,
     "metadata": {},
     "output_type": "execute_result"
    }
   ],
   "source": [
    "rand_series"
   ]
  },
  {
   "cell_type": "code",
   "execution_count": 22,
   "id": "e2f5f67a",
   "metadata": {},
   "outputs": [
    {
     "data": {
      "text/plain": [
       "pandas.core.series.Series"
      ]
     },
     "execution_count": 22,
     "metadata": {},
     "output_type": "execute_result"
    }
   ],
   "source": [
    "type(rand_series)"
   ]
  },
  {
   "cell_type": "code",
   "execution_count": 23,
   "id": "9b71670d",
   "metadata": {},
   "outputs": [],
   "source": [
    "myarr = np.arange(1,30+1).reshape(6,5) # an array having 1 to 30 numbers"
   ]
  },
  {
   "cell_type": "code",
   "execution_count": 24,
   "id": "5c2fb1b4",
   "metadata": {},
   "outputs": [
    {
     "data": {
      "text/plain": [
       "array([[ 1,  2,  3,  4,  5],\n",
       "       [ 6,  7,  8,  9, 10],\n",
       "       [11, 12, 13, 14, 15],\n",
       "       [16, 17, 18, 19, 20],\n",
       "       [21, 22, 23, 24, 25],\n",
       "       [26, 27, 28, 29, 30]])"
      ]
     },
     "execution_count": 24,
     "metadata": {},
     "output_type": "execute_result"
    }
   ],
   "source": [
    "myarr"
   ]
  },
  {
   "cell_type": "code",
   "execution_count": 25,
   "id": "b4547d0c",
   "metadata": {},
   "outputs": [
    {
     "data": {
      "text/plain": [
       "30"
      ]
     },
     "execution_count": 25,
     "metadata": {},
     "output_type": "execute_result"
    }
   ],
   "source": [
    "myarr.size"
   ]
  },
  {
   "cell_type": "code",
   "execution_count": 26,
   "id": "de219639",
   "metadata": {},
   "outputs": [
    {
     "data": {
      "text/plain": [
       "(6, 5)"
      ]
     },
     "execution_count": 26,
     "metadata": {},
     "output_type": "execute_result"
    }
   ],
   "source": [
    "myarr.shape"
   ]
  },
  {
   "cell_type": "code",
   "execution_count": 27,
   "id": "0048ff95",
   "metadata": {},
   "outputs": [],
   "source": [
    "mydf = pd.DataFrame(myarr, index = range(6)) "
   ]
  },
  {
   "cell_type": "code",
   "execution_count": 28,
   "id": "c91d0a11",
   "metadata": {},
   "outputs": [
    {
     "data": {
      "text/html": [
       "<div>\n",
       "<style scoped>\n",
       "    .dataframe tbody tr th:only-of-type {\n",
       "        vertical-align: middle;\n",
       "    }\n",
       "\n",
       "    .dataframe tbody tr th {\n",
       "        vertical-align: top;\n",
       "    }\n",
       "\n",
       "    .dataframe thead th {\n",
       "        text-align: right;\n",
       "    }\n",
       "</style>\n",
       "<table border=\"1\" class=\"dataframe\">\n",
       "  <thead>\n",
       "    <tr style=\"text-align: right;\">\n",
       "      <th></th>\n",
       "      <th>0</th>\n",
       "      <th>1</th>\n",
       "      <th>2</th>\n",
       "      <th>3</th>\n",
       "      <th>4</th>\n",
       "    </tr>\n",
       "  </thead>\n",
       "  <tbody>\n",
       "    <tr>\n",
       "      <th>0</th>\n",
       "      <td>1</td>\n",
       "      <td>2</td>\n",
       "      <td>3</td>\n",
       "      <td>4</td>\n",
       "      <td>5</td>\n",
       "    </tr>\n",
       "    <tr>\n",
       "      <th>1</th>\n",
       "      <td>6</td>\n",
       "      <td>7</td>\n",
       "      <td>8</td>\n",
       "      <td>9</td>\n",
       "      <td>10</td>\n",
       "    </tr>\n",
       "    <tr>\n",
       "      <th>2</th>\n",
       "      <td>11</td>\n",
       "      <td>12</td>\n",
       "      <td>13</td>\n",
       "      <td>14</td>\n",
       "      <td>15</td>\n",
       "    </tr>\n",
       "    <tr>\n",
       "      <th>3</th>\n",
       "      <td>16</td>\n",
       "      <td>17</td>\n",
       "      <td>18</td>\n",
       "      <td>19</td>\n",
       "      <td>20</td>\n",
       "    </tr>\n",
       "    <tr>\n",
       "      <th>4</th>\n",
       "      <td>21</td>\n",
       "      <td>22</td>\n",
       "      <td>23</td>\n",
       "      <td>24</td>\n",
       "      <td>25</td>\n",
       "    </tr>\n",
       "    <tr>\n",
       "      <th>5</th>\n",
       "      <td>26</td>\n",
       "      <td>27</td>\n",
       "      <td>28</td>\n",
       "      <td>29</td>\n",
       "      <td>30</td>\n",
       "    </tr>\n",
       "  </tbody>\n",
       "</table>\n",
       "</div>"
      ],
      "text/plain": [
       "    0   1   2   3   4\n",
       "0   1   2   3   4   5\n",
       "1   6   7   8   9  10\n",
       "2  11  12  13  14  15\n",
       "3  16  17  18  19  20\n",
       "4  21  22  23  24  25\n",
       "5  26  27  28  29  30"
      ]
     },
     "execution_count": 28,
     "metadata": {},
     "output_type": "execute_result"
    }
   ],
   "source": [
    "mydf"
   ]
  },
  {
   "cell_type": "code",
   "execution_count": 29,
   "id": "1b144c56",
   "metadata": {},
   "outputs": [
    {
     "data": {
      "text/plain": [
       "array([0.1, 0.2, 0.3, 0.4, 0.5, 0.6, 0.7, 0.8, 0.9, 1. ])"
      ]
     },
     "execution_count": 29,
     "metadata": {},
     "output_type": "execute_result"
    }
   ],
   "source": [
    "np.linspace(0.1,1,10)"
   ]
  },
  {
   "cell_type": "code",
   "execution_count": 30,
   "id": "55d8e03b",
   "metadata": {},
   "outputs": [
    {
     "data": {
      "text/plain": [
       "'index = np.linspace(0.1,0.5,5)'"
      ]
     },
     "execution_count": 30,
     "metadata": {},
     "output_type": "execute_result"
    }
   ],
   "source": [
    "\"\"\"index = np.linspace(0.1,0.5,5)\"\"\" "
   ]
  },
  {
   "cell_type": "code",
   "execution_count": 31,
   "id": "ae912940",
   "metadata": {},
   "outputs": [],
   "source": [
    "testdf = pd.DataFrame(np.empty((9,5),dtype=int), index = np.linspace(0.2, 1.8, 9))"
   ]
  },
  {
   "cell_type": "code",
   "execution_count": 32,
   "id": "6ecd8f21",
   "metadata": {},
   "outputs": [],
   "source": [
    "testdf.columns = (\"A\",\"B\",\"C\",\"D\",\"E\") # changing the index of the columns"
   ]
  },
  {
   "cell_type": "code",
   "execution_count": 33,
   "id": "2b0523b2",
   "metadata": {},
   "outputs": [
    {
     "data": {
      "text/html": [
       "<div>\n",
       "<style scoped>\n",
       "    .dataframe tbody tr th:only-of-type {\n",
       "        vertical-align: middle;\n",
       "    }\n",
       "\n",
       "    .dataframe tbody tr th {\n",
       "        vertical-align: top;\n",
       "    }\n",
       "\n",
       "    .dataframe thead th {\n",
       "        text-align: right;\n",
       "    }\n",
       "</style>\n",
       "<table border=\"1\" class=\"dataframe\">\n",
       "  <thead>\n",
       "    <tr style=\"text-align: right;\">\n",
       "      <th></th>\n",
       "      <th>A</th>\n",
       "      <th>B</th>\n",
       "      <th>C</th>\n",
       "      <th>D</th>\n",
       "      <th>E</th>\n",
       "    </tr>\n",
       "  </thead>\n",
       "  <tbody>\n",
       "    <tr>\n",
       "      <th>0.2</th>\n",
       "      <td>94465198673273</td>\n",
       "      <td>0</td>\n",
       "      <td>139688389938736</td>\n",
       "      <td>139688389740272</td>\n",
       "      <td>139688367947568</td>\n",
       "    </tr>\n",
       "    <tr>\n",
       "      <th>0.4</th>\n",
       "      <td>139688367828096</td>\n",
       "      <td>139688389154544</td>\n",
       "      <td>139688367947712</td>\n",
       "      <td>139688389335152</td>\n",
       "      <td>139688389161328</td>\n",
       "    </tr>\n",
       "    <tr>\n",
       "      <th>0.6</th>\n",
       "      <td>139688368013424</td>\n",
       "      <td>139688368013616</td>\n",
       "      <td>139688368013872</td>\n",
       "      <td>139688368014064</td>\n",
       "      <td>139688368001536</td>\n",
       "    </tr>\n",
       "    <tr>\n",
       "      <th>0.8</th>\n",
       "      <td>139688389465200</td>\n",
       "      <td>139688390116848</td>\n",
       "      <td>139688368014384</td>\n",
       "      <td>139688368014448</td>\n",
       "      <td>139688378995952</td>\n",
       "    </tr>\n",
       "    <tr>\n",
       "      <th>1.0</th>\n",
       "      <td>139688368014640</td>\n",
       "      <td>139688368014704</td>\n",
       "      <td>139688368014960</td>\n",
       "      <td>139688368015040</td>\n",
       "      <td>139688389153776</td>\n",
       "    </tr>\n",
       "    <tr>\n",
       "      <th>1.2</th>\n",
       "      <td>139688389159920</td>\n",
       "      <td>139688389153840</td>\n",
       "      <td>139688389153904</td>\n",
       "      <td>139688389153968</td>\n",
       "      <td>139688389153712</td>\n",
       "    </tr>\n",
       "    <tr>\n",
       "      <th>1.4</th>\n",
       "      <td>139688388844016</td>\n",
       "      <td>139688388432880</td>\n",
       "      <td>139688389149872</td>\n",
       "      <td>139688389462000</td>\n",
       "      <td>139688389116080</td>\n",
       "    </tr>\n",
       "    <tr>\n",
       "      <th>1.6</th>\n",
       "      <td>139688388218800</td>\n",
       "      <td>139688388913200</td>\n",
       "      <td>139688367127472</td>\n",
       "      <td>139688389739440</td>\n",
       "      <td>139688389735280</td>\n",
       "    </tr>\n",
       "    <tr>\n",
       "      <th>1.8</th>\n",
       "      <td>139688389589040</td>\n",
       "      <td>139688389161008</td>\n",
       "      <td>139688389473200</td>\n",
       "      <td>139688389162544</td>\n",
       "      <td>368</td>\n",
       "    </tr>\n",
       "  </tbody>\n",
       "</table>\n",
       "</div>"
      ],
      "text/plain": [
       "                   A                B                C                D  \\\n",
       "0.2   94465198673273                0  139688389938736  139688389740272   \n",
       "0.4  139688367828096  139688389154544  139688367947712  139688389335152   \n",
       "0.6  139688368013424  139688368013616  139688368013872  139688368014064   \n",
       "0.8  139688389465200  139688390116848  139688368014384  139688368014448   \n",
       "1.0  139688368014640  139688368014704  139688368014960  139688368015040   \n",
       "1.2  139688389159920  139688389153840  139688389153904  139688389153968   \n",
       "1.4  139688388844016  139688388432880  139688389149872  139688389462000   \n",
       "1.6  139688388218800  139688388913200  139688367127472  139688389739440   \n",
       "1.8  139688389589040  139688389161008  139688389473200  139688389162544   \n",
       "\n",
       "                   E  \n",
       "0.2  139688367947568  \n",
       "0.4  139688389161328  \n",
       "0.6  139688368001536  \n",
       "0.8  139688378995952  \n",
       "1.0  139688389153776  \n",
       "1.2  139688389153712  \n",
       "1.4  139688389116080  \n",
       "1.6  139688389735280  \n",
       "1.8              368  "
      ]
     },
     "execution_count": 33,
     "metadata": {},
     "output_type": "execute_result"
    }
   ],
   "source": [
    "testdf"
   ]
  },
  {
   "cell_type": "code",
   "execution_count": 34,
   "id": "52bf5a9f",
   "metadata": {},
   "outputs": [],
   "source": [
    "# Acessing the values"
   ]
  },
  {
   "cell_type": "code",
   "execution_count": 35,
   "id": "4237def8",
   "metadata": {},
   "outputs": [
    {
     "data": {
      "text/plain": [
       "139688367828096"
      ]
     },
     "execution_count": 35,
     "metadata": {},
     "output_type": "execute_result"
    }
   ],
   "source": [
    "testdf['A'][0.4]"
   ]
  },
  {
   "cell_type": "code",
   "execution_count": 56,
   "id": "3930872e",
   "metadata": {},
   "outputs": [
    {
     "data": {
      "text/html": [
       "<div>\n",
       "<style scoped>\n",
       "    .dataframe tbody tr th:only-of-type {\n",
       "        vertical-align: middle;\n",
       "    }\n",
       "\n",
       "    .dataframe tbody tr th {\n",
       "        vertical-align: top;\n",
       "    }\n",
       "\n",
       "    .dataframe thead th {\n",
       "        text-align: right;\n",
       "    }\n",
       "</style>\n",
       "<table border=\"1\" class=\"dataframe\">\n",
       "  <thead>\n",
       "    <tr style=\"text-align: right;\">\n",
       "      <th></th>\n",
       "      <th>0.2</th>\n",
       "      <th>0.4</th>\n",
       "      <th>0.6</th>\n",
       "      <th>0.8</th>\n",
       "      <th>1.0</th>\n",
       "      <th>1.2</th>\n",
       "      <th>1.4</th>\n",
       "      <th>1.6</th>\n",
       "      <th>1.8</th>\n",
       "    </tr>\n",
       "  </thead>\n",
       "  <tbody>\n",
       "    <tr>\n",
       "      <th>A</th>\n",
       "      <td>94465198673273</td>\n",
       "      <td>139688367828096</td>\n",
       "      <td>139688368013424</td>\n",
       "      <td>139688389465200</td>\n",
       "      <td>139688368014640</td>\n",
       "      <td>139688389159920</td>\n",
       "      <td>139688388844016</td>\n",
       "      <td>139688388218800</td>\n",
       "      <td>139688389589040</td>\n",
       "    </tr>\n",
       "    <tr>\n",
       "      <th>B</th>\n",
       "      <td>0</td>\n",
       "      <td>139688389154544</td>\n",
       "      <td>139688368013616</td>\n",
       "      <td>139688390116848</td>\n",
       "      <td>139688368014704</td>\n",
       "      <td>139688389153840</td>\n",
       "      <td>139688388432880</td>\n",
       "      <td>139688388913200</td>\n",
       "      <td>139688389161008</td>\n",
       "    </tr>\n",
       "    <tr>\n",
       "      <th>C</th>\n",
       "      <td>139688389938736</td>\n",
       "      <td>139688367947712</td>\n",
       "      <td>139688368013872</td>\n",
       "      <td>139688368014384</td>\n",
       "      <td>139688368014960</td>\n",
       "      <td>139688389153904</td>\n",
       "      <td>139688389149872</td>\n",
       "      <td>139688367127472</td>\n",
       "      <td>139688389473200</td>\n",
       "    </tr>\n",
       "    <tr>\n",
       "      <th>D</th>\n",
       "      <td>139688389740272</td>\n",
       "      <td>139688389335152</td>\n",
       "      <td>139688368014064</td>\n",
       "      <td>139688368014448</td>\n",
       "      <td>139688368015040</td>\n",
       "      <td>139688389153968</td>\n",
       "      <td>139688389462000</td>\n",
       "      <td>139688389739440</td>\n",
       "      <td>139688389162544</td>\n",
       "    </tr>\n",
       "    <tr>\n",
       "      <th>E</th>\n",
       "      <td>139688367947568</td>\n",
       "      <td>139688389161328</td>\n",
       "      <td>139688368001536</td>\n",
       "      <td>139688378995952</td>\n",
       "      <td>139688389153776</td>\n",
       "      <td>139688389153712</td>\n",
       "      <td>139688389116080</td>\n",
       "      <td>139688389735280</td>\n",
       "      <td>368</td>\n",
       "    </tr>\n",
       "  </tbody>\n",
       "</table>\n",
       "</div>"
      ],
      "text/plain": [
       "               0.2              0.4              0.6              0.8  \\\n",
       "A   94465198673273  139688367828096  139688368013424  139688389465200   \n",
       "B                0  139688389154544  139688368013616  139688390116848   \n",
       "C  139688389938736  139688367947712  139688368013872  139688368014384   \n",
       "D  139688389740272  139688389335152  139688368014064  139688368014448   \n",
       "E  139688367947568  139688389161328  139688368001536  139688378995952   \n",
       "\n",
       "               1.0              1.2              1.4              1.6  \\\n",
       "A  139688368014640  139688389159920  139688388844016  139688388218800   \n",
       "B  139688368014704  139688389153840  139688388432880  139688388913200   \n",
       "C  139688368014960  139688389153904  139688389149872  139688367127472   \n",
       "D  139688368015040  139688389153968  139688389462000  139688389739440   \n",
       "E  139688389153776  139688389153712  139688389116080  139688389735280   \n",
       "\n",
       "               1.8  \n",
       "A  139688389589040  \n",
       "B  139688389161008  \n",
       "C  139688389473200  \n",
       "D  139688389162544  \n",
       "E              368  "
      ]
     },
     "execution_count": 56,
     "metadata": {},
     "output_type": "execute_result"
    }
   ],
   "source": [
    "testdf.T # taking transpose of the dataframe"
   ]
  },
  {
   "cell_type": "code",
   "execution_count": 36,
   "id": "454e4a65",
   "metadata": {},
   "outputs": [],
   "source": [
    "newdf = pd.DataFrame(np.random.rand(300,6),index = np.arange(300))"
   ]
  },
  {
   "cell_type": "code",
   "execution_count": 37,
   "id": "e232ab80",
   "metadata": {},
   "outputs": [
    {
     "data": {
      "text/html": [
       "<div>\n",
       "<style scoped>\n",
       "    .dataframe tbody tr th:only-of-type {\n",
       "        vertical-align: middle;\n",
       "    }\n",
       "\n",
       "    .dataframe tbody tr th {\n",
       "        vertical-align: top;\n",
       "    }\n",
       "\n",
       "    .dataframe thead th {\n",
       "        text-align: right;\n",
       "    }\n",
       "</style>\n",
       "<table border=\"1\" class=\"dataframe\">\n",
       "  <thead>\n",
       "    <tr style=\"text-align: right;\">\n",
       "      <th></th>\n",
       "      <th>0</th>\n",
       "      <th>1</th>\n",
       "      <th>2</th>\n",
       "      <th>3</th>\n",
       "      <th>4</th>\n",
       "      <th>5</th>\n",
       "    </tr>\n",
       "  </thead>\n",
       "  <tbody>\n",
       "    <tr>\n",
       "      <th>0</th>\n",
       "      <td>0.435391</td>\n",
       "      <td>0.534140</td>\n",
       "      <td>0.306042</td>\n",
       "      <td>0.123075</td>\n",
       "      <td>0.605026</td>\n",
       "      <td>0.164266</td>\n",
       "    </tr>\n",
       "    <tr>\n",
       "      <th>1</th>\n",
       "      <td>0.589695</td>\n",
       "      <td>0.109536</td>\n",
       "      <td>0.608898</td>\n",
       "      <td>0.576737</td>\n",
       "      <td>0.628604</td>\n",
       "      <td>0.445131</td>\n",
       "    </tr>\n",
       "    <tr>\n",
       "      <th>2</th>\n",
       "      <td>0.332013</td>\n",
       "      <td>0.022036</td>\n",
       "      <td>0.658656</td>\n",
       "      <td>0.164547</td>\n",
       "      <td>0.249433</td>\n",
       "      <td>0.843319</td>\n",
       "    </tr>\n",
       "    <tr>\n",
       "      <th>3</th>\n",
       "      <td>0.958502</td>\n",
       "      <td>0.931546</td>\n",
       "      <td>0.154910</td>\n",
       "      <td>0.191366</td>\n",
       "      <td>0.681782</td>\n",
       "      <td>0.287797</td>\n",
       "    </tr>\n",
       "    <tr>\n",
       "      <th>4</th>\n",
       "      <td>0.396120</td>\n",
       "      <td>0.977247</td>\n",
       "      <td>0.316857</td>\n",
       "      <td>0.744463</td>\n",
       "      <td>0.789703</td>\n",
       "      <td>0.111381</td>\n",
       "    </tr>\n",
       "    <tr>\n",
       "      <th>...</th>\n",
       "      <td>...</td>\n",
       "      <td>...</td>\n",
       "      <td>...</td>\n",
       "      <td>...</td>\n",
       "      <td>...</td>\n",
       "      <td>...</td>\n",
       "    </tr>\n",
       "    <tr>\n",
       "      <th>295</th>\n",
       "      <td>0.944504</td>\n",
       "      <td>0.537997</td>\n",
       "      <td>0.996802</td>\n",
       "      <td>0.278580</td>\n",
       "      <td>0.391425</td>\n",
       "      <td>0.968639</td>\n",
       "    </tr>\n",
       "    <tr>\n",
       "      <th>296</th>\n",
       "      <td>0.044322</td>\n",
       "      <td>0.532762</td>\n",
       "      <td>0.440676</td>\n",
       "      <td>0.764175</td>\n",
       "      <td>0.866331</td>\n",
       "      <td>0.494827</td>\n",
       "    </tr>\n",
       "    <tr>\n",
       "      <th>297</th>\n",
       "      <td>0.527950</td>\n",
       "      <td>0.707747</td>\n",
       "      <td>0.592214</td>\n",
       "      <td>0.721241</td>\n",
       "      <td>0.639799</td>\n",
       "      <td>0.885851</td>\n",
       "    </tr>\n",
       "    <tr>\n",
       "      <th>298</th>\n",
       "      <td>0.270797</td>\n",
       "      <td>0.010761</td>\n",
       "      <td>0.736861</td>\n",
       "      <td>0.053896</td>\n",
       "      <td>0.923244</td>\n",
       "      <td>0.348800</td>\n",
       "    </tr>\n",
       "    <tr>\n",
       "      <th>299</th>\n",
       "      <td>0.947965</td>\n",
       "      <td>0.214737</td>\n",
       "      <td>0.510790</td>\n",
       "      <td>0.079962</td>\n",
       "      <td>0.824345</td>\n",
       "      <td>0.635146</td>\n",
       "    </tr>\n",
       "  </tbody>\n",
       "</table>\n",
       "<p>300 rows × 6 columns</p>\n",
       "</div>"
      ],
      "text/plain": [
       "            0         1         2         3         4         5\n",
       "0    0.435391  0.534140  0.306042  0.123075  0.605026  0.164266\n",
       "1    0.589695  0.109536  0.608898  0.576737  0.628604  0.445131\n",
       "2    0.332013  0.022036  0.658656  0.164547  0.249433  0.843319\n",
       "3    0.958502  0.931546  0.154910  0.191366  0.681782  0.287797\n",
       "4    0.396120  0.977247  0.316857  0.744463  0.789703  0.111381\n",
       "..        ...       ...       ...       ...       ...       ...\n",
       "295  0.944504  0.537997  0.996802  0.278580  0.391425  0.968639\n",
       "296  0.044322  0.532762  0.440676  0.764175  0.866331  0.494827\n",
       "297  0.527950  0.707747  0.592214  0.721241  0.639799  0.885851\n",
       "298  0.270797  0.010761  0.736861  0.053896  0.923244  0.348800\n",
       "299  0.947965  0.214737  0.510790  0.079962  0.824345  0.635146\n",
       "\n",
       "[300 rows x 6 columns]"
      ]
     },
     "execution_count": 37,
     "metadata": {},
     "output_type": "execute_result"
    }
   ],
   "source": [
    "newdf"
   ]
  },
  {
   "cell_type": "code",
   "execution_count": 38,
   "id": "e4a07cd8",
   "metadata": {},
   "outputs": [
    {
     "data": {
      "text/plain": [
       "pandas.core.frame.DataFrame"
      ]
     },
     "execution_count": 38,
     "metadata": {},
     "output_type": "execute_result"
    }
   ],
   "source": [
    "type(newdf)"
   ]
  },
  {
   "cell_type": "code",
   "execution_count": 39,
   "id": "77b1f824",
   "metadata": {},
   "outputs": [
    {
     "data": {
      "text/html": [
       "<div>\n",
       "<style scoped>\n",
       "    .dataframe tbody tr th:only-of-type {\n",
       "        vertical-align: middle;\n",
       "    }\n",
       "\n",
       "    .dataframe tbody tr th {\n",
       "        vertical-align: top;\n",
       "    }\n",
       "\n",
       "    .dataframe thead th {\n",
       "        text-align: right;\n",
       "    }\n",
       "</style>\n",
       "<table border=\"1\" class=\"dataframe\">\n",
       "  <thead>\n",
       "    <tr style=\"text-align: right;\">\n",
       "      <th></th>\n",
       "      <th>0</th>\n",
       "      <th>1</th>\n",
       "      <th>2</th>\n",
       "      <th>3</th>\n",
       "      <th>4</th>\n",
       "      <th>5</th>\n",
       "    </tr>\n",
       "  </thead>\n",
       "  <tbody>\n",
       "    <tr>\n",
       "      <th>count</th>\n",
       "      <td>300.000000</td>\n",
       "      <td>300.000000</td>\n",
       "      <td>300.000000</td>\n",
       "      <td>300.000000</td>\n",
       "      <td>300.000000</td>\n",
       "      <td>300.000000</td>\n",
       "    </tr>\n",
       "    <tr>\n",
       "      <th>mean</th>\n",
       "      <td>0.517901</td>\n",
       "      <td>0.504486</td>\n",
       "      <td>0.474885</td>\n",
       "      <td>0.514452</td>\n",
       "      <td>0.509285</td>\n",
       "      <td>0.476969</td>\n",
       "    </tr>\n",
       "    <tr>\n",
       "      <th>std</th>\n",
       "      <td>0.289739</td>\n",
       "      <td>0.277474</td>\n",
       "      <td>0.282305</td>\n",
       "      <td>0.281499</td>\n",
       "      <td>0.291276</td>\n",
       "      <td>0.300821</td>\n",
       "    </tr>\n",
       "    <tr>\n",
       "      <th>min</th>\n",
       "      <td>0.000143</td>\n",
       "      <td>0.001836</td>\n",
       "      <td>0.003561</td>\n",
       "      <td>0.007166</td>\n",
       "      <td>0.003533</td>\n",
       "      <td>0.004308</td>\n",
       "    </tr>\n",
       "    <tr>\n",
       "      <th>25%</th>\n",
       "      <td>0.276166</td>\n",
       "      <td>0.271583</td>\n",
       "      <td>0.229990</td>\n",
       "      <td>0.268329</td>\n",
       "      <td>0.261182</td>\n",
       "      <td>0.192547</td>\n",
       "    </tr>\n",
       "    <tr>\n",
       "      <th>50%</th>\n",
       "      <td>0.534229</td>\n",
       "      <td>0.489938</td>\n",
       "      <td>0.442896</td>\n",
       "      <td>0.516380</td>\n",
       "      <td>0.495795</td>\n",
       "      <td>0.464462</td>\n",
       "    </tr>\n",
       "    <tr>\n",
       "      <th>75%</th>\n",
       "      <td>0.763761</td>\n",
       "      <td>0.737499</td>\n",
       "      <td>0.719805</td>\n",
       "      <td>0.757362</td>\n",
       "      <td>0.776028</td>\n",
       "      <td>0.753479</td>\n",
       "    </tr>\n",
       "    <tr>\n",
       "      <th>max</th>\n",
       "      <td>0.995190</td>\n",
       "      <td>0.996545</td>\n",
       "      <td>0.996802</td>\n",
       "      <td>0.998704</td>\n",
       "      <td>0.997106</td>\n",
       "      <td>0.989472</td>\n",
       "    </tr>\n",
       "  </tbody>\n",
       "</table>\n",
       "</div>"
      ],
      "text/plain": [
       "                0           1           2           3           4           5\n",
       "count  300.000000  300.000000  300.000000  300.000000  300.000000  300.000000\n",
       "mean     0.517901    0.504486    0.474885    0.514452    0.509285    0.476969\n",
       "std      0.289739    0.277474    0.282305    0.281499    0.291276    0.300821\n",
       "min      0.000143    0.001836    0.003561    0.007166    0.003533    0.004308\n",
       "25%      0.276166    0.271583    0.229990    0.268329    0.261182    0.192547\n",
       "50%      0.534229    0.489938    0.442896    0.516380    0.495795    0.464462\n",
       "75%      0.763761    0.737499    0.719805    0.757362    0.776028    0.753479\n",
       "max      0.995190    0.996545    0.996802    0.998704    0.997106    0.989472"
      ]
     },
     "execution_count": 39,
     "metadata": {},
     "output_type": "execute_result"
    }
   ],
   "source": [
    "newdf.describe()"
   ]
  },
  {
   "cell_type": "code",
   "execution_count": 40,
   "id": "27650666",
   "metadata": {},
   "outputs": [
    {
     "data": {
      "text/html": [
       "<div>\n",
       "<style scoped>\n",
       "    .dataframe tbody tr th:only-of-type {\n",
       "        vertical-align: middle;\n",
       "    }\n",
       "\n",
       "    .dataframe tbody tr th {\n",
       "        vertical-align: top;\n",
       "    }\n",
       "\n",
       "    .dataframe thead th {\n",
       "        text-align: right;\n",
       "    }\n",
       "</style>\n",
       "<table border=\"1\" class=\"dataframe\">\n",
       "  <thead>\n",
       "    <tr style=\"text-align: right;\">\n",
       "      <th></th>\n",
       "      <th>0</th>\n",
       "      <th>1</th>\n",
       "      <th>2</th>\n",
       "      <th>3</th>\n",
       "      <th>4</th>\n",
       "      <th>5</th>\n",
       "    </tr>\n",
       "  </thead>\n",
       "  <tbody>\n",
       "    <tr>\n",
       "      <th>0</th>\n",
       "      <td>0.435391</td>\n",
       "      <td>0.534140</td>\n",
       "      <td>0.306042</td>\n",
       "      <td>0.123075</td>\n",
       "      <td>0.605026</td>\n",
       "      <td>0.164266</td>\n",
       "    </tr>\n",
       "    <tr>\n",
       "      <th>1</th>\n",
       "      <td>0.589695</td>\n",
       "      <td>0.109536</td>\n",
       "      <td>0.608898</td>\n",
       "      <td>0.576737</td>\n",
       "      <td>0.628604</td>\n",
       "      <td>0.445131</td>\n",
       "    </tr>\n",
       "    <tr>\n",
       "      <th>2</th>\n",
       "      <td>0.332013</td>\n",
       "      <td>0.022036</td>\n",
       "      <td>0.658656</td>\n",
       "      <td>0.164547</td>\n",
       "      <td>0.249433</td>\n",
       "      <td>0.843319</td>\n",
       "    </tr>\n",
       "    <tr>\n",
       "      <th>3</th>\n",
       "      <td>0.958502</td>\n",
       "      <td>0.931546</td>\n",
       "      <td>0.154910</td>\n",
       "      <td>0.191366</td>\n",
       "      <td>0.681782</td>\n",
       "      <td>0.287797</td>\n",
       "    </tr>\n",
       "    <tr>\n",
       "      <th>4</th>\n",
       "      <td>0.396120</td>\n",
       "      <td>0.977247</td>\n",
       "      <td>0.316857</td>\n",
       "      <td>0.744463</td>\n",
       "      <td>0.789703</td>\n",
       "      <td>0.111381</td>\n",
       "    </tr>\n",
       "    <tr>\n",
       "      <th>5</th>\n",
       "      <td>0.805962</td>\n",
       "      <td>0.484088</td>\n",
       "      <td>0.133921</td>\n",
       "      <td>0.176349</td>\n",
       "      <td>0.234873</td>\n",
       "      <td>0.412856</td>\n",
       "    </tr>\n",
       "    <tr>\n",
       "      <th>6</th>\n",
       "      <td>0.854049</td>\n",
       "      <td>0.561037</td>\n",
       "      <td>0.185133</td>\n",
       "      <td>0.981135</td>\n",
       "      <td>0.915203</td>\n",
       "      <td>0.114975</td>\n",
       "    </tr>\n",
       "    <tr>\n",
       "      <th>7</th>\n",
       "      <td>0.184906</td>\n",
       "      <td>0.367437</td>\n",
       "      <td>0.191969</td>\n",
       "      <td>0.904031</td>\n",
       "      <td>0.735010</td>\n",
       "      <td>0.056900</td>\n",
       "    </tr>\n",
       "  </tbody>\n",
       "</table>\n",
       "</div>"
      ],
      "text/plain": [
       "          0         1         2         3         4         5\n",
       "0  0.435391  0.534140  0.306042  0.123075  0.605026  0.164266\n",
       "1  0.589695  0.109536  0.608898  0.576737  0.628604  0.445131\n",
       "2  0.332013  0.022036  0.658656  0.164547  0.249433  0.843319\n",
       "3  0.958502  0.931546  0.154910  0.191366  0.681782  0.287797\n",
       "4  0.396120  0.977247  0.316857  0.744463  0.789703  0.111381\n",
       "5  0.805962  0.484088  0.133921  0.176349  0.234873  0.412856\n",
       "6  0.854049  0.561037  0.185133  0.981135  0.915203  0.114975\n",
       "7  0.184906  0.367437  0.191969  0.904031  0.735010  0.056900"
      ]
     },
     "execution_count": 40,
     "metadata": {},
     "output_type": "execute_result"
    }
   ],
   "source": [
    "newdf.head(8)"
   ]
  },
  {
   "cell_type": "code",
   "execution_count": 41,
   "id": "59c10682",
   "metadata": {},
   "outputs": [
    {
     "data": {
      "text/html": [
       "<div>\n",
       "<style scoped>\n",
       "    .dataframe tbody tr th:only-of-type {\n",
       "        vertical-align: middle;\n",
       "    }\n",
       "\n",
       "    .dataframe tbody tr th {\n",
       "        vertical-align: top;\n",
       "    }\n",
       "\n",
       "    .dataframe thead th {\n",
       "        text-align: right;\n",
       "    }\n",
       "</style>\n",
       "<table border=\"1\" class=\"dataframe\">\n",
       "  <thead>\n",
       "    <tr style=\"text-align: right;\">\n",
       "      <th></th>\n",
       "      <th>0</th>\n",
       "      <th>1</th>\n",
       "      <th>2</th>\n",
       "      <th>3</th>\n",
       "      <th>4</th>\n",
       "      <th>5</th>\n",
       "    </tr>\n",
       "  </thead>\n",
       "  <tbody>\n",
       "    <tr>\n",
       "      <th>292</th>\n",
       "      <td>0.841553</td>\n",
       "      <td>0.100753</td>\n",
       "      <td>0.429864</td>\n",
       "      <td>0.424920</td>\n",
       "      <td>0.246719</td>\n",
       "      <td>0.308121</td>\n",
       "    </tr>\n",
       "    <tr>\n",
       "      <th>293</th>\n",
       "      <td>0.164424</td>\n",
       "      <td>0.787307</td>\n",
       "      <td>0.636119</td>\n",
       "      <td>0.731136</td>\n",
       "      <td>0.020173</td>\n",
       "      <td>0.612445</td>\n",
       "    </tr>\n",
       "    <tr>\n",
       "      <th>294</th>\n",
       "      <td>0.848483</td>\n",
       "      <td>0.261390</td>\n",
       "      <td>0.948646</td>\n",
       "      <td>0.712524</td>\n",
       "      <td>0.547764</td>\n",
       "      <td>0.528776</td>\n",
       "    </tr>\n",
       "    <tr>\n",
       "      <th>295</th>\n",
       "      <td>0.944504</td>\n",
       "      <td>0.537997</td>\n",
       "      <td>0.996802</td>\n",
       "      <td>0.278580</td>\n",
       "      <td>0.391425</td>\n",
       "      <td>0.968639</td>\n",
       "    </tr>\n",
       "    <tr>\n",
       "      <th>296</th>\n",
       "      <td>0.044322</td>\n",
       "      <td>0.532762</td>\n",
       "      <td>0.440676</td>\n",
       "      <td>0.764175</td>\n",
       "      <td>0.866331</td>\n",
       "      <td>0.494827</td>\n",
       "    </tr>\n",
       "    <tr>\n",
       "      <th>297</th>\n",
       "      <td>0.527950</td>\n",
       "      <td>0.707747</td>\n",
       "      <td>0.592214</td>\n",
       "      <td>0.721241</td>\n",
       "      <td>0.639799</td>\n",
       "      <td>0.885851</td>\n",
       "    </tr>\n",
       "    <tr>\n",
       "      <th>298</th>\n",
       "      <td>0.270797</td>\n",
       "      <td>0.010761</td>\n",
       "      <td>0.736861</td>\n",
       "      <td>0.053896</td>\n",
       "      <td>0.923244</td>\n",
       "      <td>0.348800</td>\n",
       "    </tr>\n",
       "    <tr>\n",
       "      <th>299</th>\n",
       "      <td>0.947965</td>\n",
       "      <td>0.214737</td>\n",
       "      <td>0.510790</td>\n",
       "      <td>0.079962</td>\n",
       "      <td>0.824345</td>\n",
       "      <td>0.635146</td>\n",
       "    </tr>\n",
       "  </tbody>\n",
       "</table>\n",
       "</div>"
      ],
      "text/plain": [
       "            0         1         2         3         4         5\n",
       "292  0.841553  0.100753  0.429864  0.424920  0.246719  0.308121\n",
       "293  0.164424  0.787307  0.636119  0.731136  0.020173  0.612445\n",
       "294  0.848483  0.261390  0.948646  0.712524  0.547764  0.528776\n",
       "295  0.944504  0.537997  0.996802  0.278580  0.391425  0.968639\n",
       "296  0.044322  0.532762  0.440676  0.764175  0.866331  0.494827\n",
       "297  0.527950  0.707747  0.592214  0.721241  0.639799  0.885851\n",
       "298  0.270797  0.010761  0.736861  0.053896  0.923244  0.348800\n",
       "299  0.947965  0.214737  0.510790  0.079962  0.824345  0.635146"
      ]
     },
     "execution_count": 41,
     "metadata": {},
     "output_type": "execute_result"
    }
   ],
   "source": [
    "newdf.tail(8)"
   ]
  },
  {
   "cell_type": "code",
   "execution_count": 42,
   "id": "3a99d3ec",
   "metadata": {},
   "outputs": [
    {
     "data": {
      "text/plain": [
       "0    float64\n",
       "1    float64\n",
       "2    float64\n",
       "3    float64\n",
       "4    float64\n",
       "5    float64\n",
       "dtype: object"
      ]
     },
     "execution_count": 42,
     "metadata": {},
     "output_type": "execute_result"
    }
   ],
   "source": [
    "newdf.dtypes"
   ]
  },
  {
   "cell_type": "code",
   "execution_count": 43,
   "id": "9c3cd0c2",
   "metadata": {},
   "outputs": [
    {
     "data": {
      "text/plain": [
       "0.17779395104339057"
      ]
     },
     "execution_count": 43,
     "metadata": {},
     "output_type": "execute_result"
    }
   ],
   "source": [
    "newdf[5][115] "
   ]
  },
  {
   "cell_type": "code",
   "execution_count": 44,
   "id": "c76c4e44",
   "metadata": {},
   "outputs": [
    {
     "name": "stderr",
     "output_type": "stream",
     "text": [
      "/tmp/ipykernel_14062/732091781.py:3: SettingWithCopyWarning: \n",
      "A value is trying to be set on a copy of a slice from a DataFrame\n",
      "\n",
      "See the caveats in the documentation: https://pandas.pydata.org/pandas-docs/stable/user_guide/indexing.html#returning-a-view-versus-a-copy\n",
      "  newdf[1][1] = \"Tq\"\n"
     ]
    }
   ],
   "source": [
    "# mutating the data-frame, raises a warning though\n",
    "newdf[5][3] = \"Hii\"\n",
    "newdf[1][1] = \"Tq\""
   ]
  },
  {
   "cell_type": "code",
   "execution_count": 45,
   "id": "dd2f255a",
   "metadata": {},
   "outputs": [
    {
     "data": {
      "text/html": [
       "<div>\n",
       "<style scoped>\n",
       "    .dataframe tbody tr th:only-of-type {\n",
       "        vertical-align: middle;\n",
       "    }\n",
       "\n",
       "    .dataframe tbody tr th {\n",
       "        vertical-align: top;\n",
       "    }\n",
       "\n",
       "    .dataframe thead th {\n",
       "        text-align: right;\n",
       "    }\n",
       "</style>\n",
       "<table border=\"1\" class=\"dataframe\">\n",
       "  <thead>\n",
       "    <tr style=\"text-align: right;\">\n",
       "      <th></th>\n",
       "      <th>0</th>\n",
       "      <th>1</th>\n",
       "      <th>2</th>\n",
       "      <th>3</th>\n",
       "      <th>4</th>\n",
       "      <th>5</th>\n",
       "    </tr>\n",
       "  </thead>\n",
       "  <tbody>\n",
       "    <tr>\n",
       "      <th>0</th>\n",
       "      <td>0.435391</td>\n",
       "      <td>0.53414</td>\n",
       "      <td>0.306042</td>\n",
       "      <td>0.123075</td>\n",
       "      <td>0.605026</td>\n",
       "      <td>0.164266</td>\n",
       "    </tr>\n",
       "    <tr>\n",
       "      <th>1</th>\n",
       "      <td>0.589695</td>\n",
       "      <td>Tq</td>\n",
       "      <td>0.608898</td>\n",
       "      <td>0.576737</td>\n",
       "      <td>0.628604</td>\n",
       "      <td>0.445131</td>\n",
       "    </tr>\n",
       "    <tr>\n",
       "      <th>2</th>\n",
       "      <td>0.332013</td>\n",
       "      <td>0.022036</td>\n",
       "      <td>0.658656</td>\n",
       "      <td>0.164547</td>\n",
       "      <td>0.249433</td>\n",
       "      <td>0.843319</td>\n",
       "    </tr>\n",
       "    <tr>\n",
       "      <th>3</th>\n",
       "      <td>0.958502</td>\n",
       "      <td>0.931546</td>\n",
       "      <td>0.154910</td>\n",
       "      <td>0.191366</td>\n",
       "      <td>0.681782</td>\n",
       "      <td>Hii</td>\n",
       "    </tr>\n",
       "    <tr>\n",
       "      <th>4</th>\n",
       "      <td>0.396120</td>\n",
       "      <td>0.977247</td>\n",
       "      <td>0.316857</td>\n",
       "      <td>0.744463</td>\n",
       "      <td>0.789703</td>\n",
       "      <td>0.111381</td>\n",
       "    </tr>\n",
       "    <tr>\n",
       "      <th>...</th>\n",
       "      <td>...</td>\n",
       "      <td>...</td>\n",
       "      <td>...</td>\n",
       "      <td>...</td>\n",
       "      <td>...</td>\n",
       "      <td>...</td>\n",
       "    </tr>\n",
       "    <tr>\n",
       "      <th>295</th>\n",
       "      <td>0.944504</td>\n",
       "      <td>0.537997</td>\n",
       "      <td>0.996802</td>\n",
       "      <td>0.278580</td>\n",
       "      <td>0.391425</td>\n",
       "      <td>0.968639</td>\n",
       "    </tr>\n",
       "    <tr>\n",
       "      <th>296</th>\n",
       "      <td>0.044322</td>\n",
       "      <td>0.532762</td>\n",
       "      <td>0.440676</td>\n",
       "      <td>0.764175</td>\n",
       "      <td>0.866331</td>\n",
       "      <td>0.494827</td>\n",
       "    </tr>\n",
       "    <tr>\n",
       "      <th>297</th>\n",
       "      <td>0.527950</td>\n",
       "      <td>0.707747</td>\n",
       "      <td>0.592214</td>\n",
       "      <td>0.721241</td>\n",
       "      <td>0.639799</td>\n",
       "      <td>0.885851</td>\n",
       "    </tr>\n",
       "    <tr>\n",
       "      <th>298</th>\n",
       "      <td>0.270797</td>\n",
       "      <td>0.010761</td>\n",
       "      <td>0.736861</td>\n",
       "      <td>0.053896</td>\n",
       "      <td>0.923244</td>\n",
       "      <td>0.3488</td>\n",
       "    </tr>\n",
       "    <tr>\n",
       "      <th>299</th>\n",
       "      <td>0.947965</td>\n",
       "      <td>0.214737</td>\n",
       "      <td>0.510790</td>\n",
       "      <td>0.079962</td>\n",
       "      <td>0.824345</td>\n",
       "      <td>0.635146</td>\n",
       "    </tr>\n",
       "  </tbody>\n",
       "</table>\n",
       "<p>300 rows × 6 columns</p>\n",
       "</div>"
      ],
      "text/plain": [
       "            0         1         2         3         4         5\n",
       "0    0.435391   0.53414  0.306042  0.123075  0.605026  0.164266\n",
       "1    0.589695        Tq  0.608898  0.576737  0.628604  0.445131\n",
       "2    0.332013  0.022036  0.658656  0.164547  0.249433  0.843319\n",
       "3    0.958502  0.931546  0.154910  0.191366  0.681782       Hii\n",
       "4    0.396120  0.977247  0.316857  0.744463  0.789703  0.111381\n",
       "..        ...       ...       ...       ...       ...       ...\n",
       "295  0.944504  0.537997  0.996802  0.278580  0.391425  0.968639\n",
       "296  0.044322  0.532762  0.440676  0.764175  0.866331  0.494827\n",
       "297  0.527950  0.707747  0.592214  0.721241  0.639799  0.885851\n",
       "298  0.270797  0.010761  0.736861  0.053896  0.923244    0.3488\n",
       "299  0.947965  0.214737  0.510790  0.079962  0.824345  0.635146\n",
       "\n",
       "[300 rows x 6 columns]"
      ]
     },
     "execution_count": 45,
     "metadata": {},
     "output_type": "execute_result"
    }
   ],
   "source": [
    "newdf"
   ]
  },
  {
   "cell_type": "code",
   "execution_count": 46,
   "id": "b4259c70",
   "metadata": {},
   "outputs": [
    {
     "data": {
      "text/plain": [
       "0    float64\n",
       "1     object\n",
       "2    float64\n",
       "3    float64\n",
       "4    float64\n",
       "5     object\n",
       "dtype: object"
      ]
     },
     "execution_count": 46,
     "metadata": {},
     "output_type": "execute_result"
    }
   ],
   "source": [
    "newdf.dtypes"
   ]
  },
  {
   "cell_type": "code",
   "execution_count": 48,
   "id": "5ecd15ce",
   "metadata": {},
   "outputs": [
    {
     "data": {
      "text/plain": [
       "RangeIndex(start=0, stop=6, step=1)"
      ]
     },
     "execution_count": 48,
     "metadata": {},
     "output_type": "execute_result"
    }
   ],
   "source": [
    "newdf.columns"
   ]
  },
  {
   "cell_type": "code",
   "execution_count": 52,
   "id": "19442994",
   "metadata": {},
   "outputs": [
    {
     "data": {
      "text/plain": [
       "array([[ 1,  2,  3,  4,  5],\n",
       "       [ 6,  7,  8,  9, 10],\n",
       "       [11, 12, 13, 14, 15],\n",
       "       [16, 17, 18, 19, 20],\n",
       "       [21, 22, 23, 24, 25],\n",
       "       [26, 27, 28, 29, 30]])"
      ]
     },
     "execution_count": 52,
     "metadata": {},
     "output_type": "execute_result"
    }
   ],
   "source": [
    "myarr"
   ]
  },
  {
   "cell_type": "code",
   "execution_count": 51,
   "id": "0fbedbfa",
   "metadata": {},
   "outputs": [
    {
     "data": {
      "text/plain": [
       "array([[ 1,  6, 11, 16, 21, 26],\n",
       "       [ 2,  7, 12, 17, 22, 27],\n",
       "       [ 3,  8, 13, 18, 23, 28],\n",
       "       [ 4,  9, 14, 19, 24, 29],\n",
       "       [ 5, 10, 15, 20, 25, 30]])"
      ]
     },
     "execution_count": 51,
     "metadata": {},
     "output_type": "execute_result"
    }
   ],
   "source": [
    "myarr.T # taking transpose of an array"
   ]
  },
  {
   "cell_type": "code",
   "execution_count": null,
   "id": "307f7d4b",
   "metadata": {},
   "outputs": [],
   "source": []
  }
 ],
 "metadata": {
  "kernelspec": {
   "display_name": "Python 3 (ipykernel)",
   "language": "python",
   "name": "python3"
  },
  "language_info": {
   "codemirror_mode": {
    "name": "ipython",
    "version": 3
   },
   "file_extension": ".py",
   "mimetype": "text/x-python",
   "name": "python",
   "nbconvert_exporter": "python",
   "pygments_lexer": "ipython3",
   "version": "3.10.6"
  }
 },
 "nbformat": 4,
 "nbformat_minor": 5
}
