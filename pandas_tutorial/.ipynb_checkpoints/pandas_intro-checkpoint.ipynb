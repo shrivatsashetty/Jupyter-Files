{
 "cells": [
  {
   "cell_type": "code",
   "execution_count": 1,
   "id": "6c8ce016",
   "metadata": {},
   "outputs": [],
   "source": [
    "import numpy as np\n",
    "import pandas as pd"
   ]
  },
  {
   "cell_type": "code",
   "execution_count": 2,
   "id": "98104d60",
   "metadata": {},
   "outputs": [
    {
     "name": "stdout",
     "output_type": "stream",
     "text": [
      "2.0.3\n"
     ]
    }
   ],
   "source": [
    "print(pd.__version__) # check pandas version"
   ]
  },
  {
   "cell_type": "code",
   "execution_count": 3,
   "id": "0fa06c20",
   "metadata": {},
   "outputs": [],
   "source": [
    "data = { \n",
    "    \"names\" : [\"Anup\",\"Aman\",\"Vinay\",\"Rohan\"], \n",
    "    \"marks\" : [80,67,89,90],\n",
    "    \"native\": [\"Hebri\",\"Mandarthi\",\"Kundapura\",\"Mangalore\"]\n",
    "\n",
    "}"
   ]
  },
  {
   "cell_type": "code",
   "execution_count": 4,
   "id": "3c6ce4fb",
   "metadata": {},
   "outputs": [],
   "source": [
    "df = pd.DataFrame(data)"
   ]
  },
  {
   "cell_type": "code",
   "execution_count": 5,
   "id": "dd48d3ec",
   "metadata": {},
   "outputs": [
    {
     "data": {
      "text/html": [
       "<div>\n",
       "<style scoped>\n",
       "    .dataframe tbody tr th:only-of-type {\n",
       "        vertical-align: middle;\n",
       "    }\n",
       "\n",
       "    .dataframe tbody tr th {\n",
       "        vertical-align: top;\n",
       "    }\n",
       "\n",
       "    .dataframe thead th {\n",
       "        text-align: right;\n",
       "    }\n",
       "</style>\n",
       "<table border=\"1\" class=\"dataframe\">\n",
       "  <thead>\n",
       "    <tr style=\"text-align: right;\">\n",
       "      <th></th>\n",
       "      <th>names</th>\n",
       "      <th>marks</th>\n",
       "      <th>native</th>\n",
       "    </tr>\n",
       "  </thead>\n",
       "  <tbody>\n",
       "    <tr>\n",
       "      <th>0</th>\n",
       "      <td>Anup</td>\n",
       "      <td>80</td>\n",
       "      <td>Hebri</td>\n",
       "    </tr>\n",
       "    <tr>\n",
       "      <th>1</th>\n",
       "      <td>Aman</td>\n",
       "      <td>67</td>\n",
       "      <td>Mandarthi</td>\n",
       "    </tr>\n",
       "    <tr>\n",
       "      <th>2</th>\n",
       "      <td>Vinay</td>\n",
       "      <td>89</td>\n",
       "      <td>Kundapura</td>\n",
       "    </tr>\n",
       "    <tr>\n",
       "      <th>3</th>\n",
       "      <td>Rohan</td>\n",
       "      <td>90</td>\n",
       "      <td>Mangalore</td>\n",
       "    </tr>\n",
       "  </tbody>\n",
       "</table>\n",
       "</div>"
      ],
      "text/plain": [
       "   names  marks     native\n",
       "0   Anup     80      Hebri\n",
       "1   Aman     67  Mandarthi\n",
       "2  Vinay     89  Kundapura\n",
       "3  Rohan     90  Mangalore"
      ]
     },
     "execution_count": 5,
     "metadata": {},
     "output_type": "execute_result"
    }
   ],
   "source": [
    "df "
   ]
  },
  {
   "cell_type": "code",
   "execution_count": 7,
   "id": "a33d0810",
   "metadata": {},
   "outputs": [],
   "source": [
    "df.to_csv('~/Program-Files/Jupyter-Files/data-files/marks.csv')"
   ]
  },
  {
   "cell_type": "code",
   "execution_count": 8,
   "id": "cdbf42ee",
   "metadata": {},
   "outputs": [],
   "source": [
    "df.to_csv('~/Program-Files/Jupyter-Files/data-files/marks_indexless.csv',index=False)"
   ]
  },
  {
   "cell_type": "code",
   "execution_count": 9,
   "id": "e56f2027",
   "metadata": {},
   "outputs": [
    {
     "data": {
      "text/html": [
       "<div>\n",
       "<style scoped>\n",
       "    .dataframe tbody tr th:only-of-type {\n",
       "        vertical-align: middle;\n",
       "    }\n",
       "\n",
       "    .dataframe tbody tr th {\n",
       "        vertical-align: top;\n",
       "    }\n",
       "\n",
       "    .dataframe thead th {\n",
       "        text-align: right;\n",
       "    }\n",
       "</style>\n",
       "<table border=\"1\" class=\"dataframe\">\n",
       "  <thead>\n",
       "    <tr style=\"text-align: right;\">\n",
       "      <th></th>\n",
       "      <th>names</th>\n",
       "      <th>marks</th>\n",
       "      <th>native</th>\n",
       "    </tr>\n",
       "  </thead>\n",
       "  <tbody>\n",
       "    <tr>\n",
       "      <th>0</th>\n",
       "      <td>Anup</td>\n",
       "      <td>80</td>\n",
       "      <td>Hebri</td>\n",
       "    </tr>\n",
       "    <tr>\n",
       "      <th>1</th>\n",
       "      <td>Aman</td>\n",
       "      <td>67</td>\n",
       "      <td>Mandarthi</td>\n",
       "    </tr>\n",
       "  </tbody>\n",
       "</table>\n",
       "</div>"
      ],
      "text/plain": [
       "  names  marks     native\n",
       "0  Anup     80      Hebri\n",
       "1  Aman     67  Mandarthi"
      ]
     },
     "execution_count": 9,
     "metadata": {},
     "output_type": "execute_result"
    }
   ],
   "source": [
    "df .head(2) # show first to rows"
   ]
  },
  {
   "cell_type": "code",
   "execution_count": 10,
   "id": "db2ece93",
   "metadata": {
    "scrolled": true
   },
   "outputs": [
    {
     "data": {
      "text/html": [
       "<div>\n",
       "<style scoped>\n",
       "    .dataframe tbody tr th:only-of-type {\n",
       "        vertical-align: middle;\n",
       "    }\n",
       "\n",
       "    .dataframe tbody tr th {\n",
       "        vertical-align: top;\n",
       "    }\n",
       "\n",
       "    .dataframe thead th {\n",
       "        text-align: right;\n",
       "    }\n",
       "</style>\n",
       "<table border=\"1\" class=\"dataframe\">\n",
       "  <thead>\n",
       "    <tr style=\"text-align: right;\">\n",
       "      <th></th>\n",
       "      <th>names</th>\n",
       "      <th>marks</th>\n",
       "      <th>native</th>\n",
       "    </tr>\n",
       "  </thead>\n",
       "  <tbody>\n",
       "    <tr>\n",
       "      <th>2</th>\n",
       "      <td>Vinay</td>\n",
       "      <td>89</td>\n",
       "      <td>Kundapura</td>\n",
       "    </tr>\n",
       "    <tr>\n",
       "      <th>3</th>\n",
       "      <td>Rohan</td>\n",
       "      <td>90</td>\n",
       "      <td>Mangalore</td>\n",
       "    </tr>\n",
       "  </tbody>\n",
       "</table>\n",
       "</div>"
      ],
      "text/plain": [
       "   names  marks     native\n",
       "2  Vinay     89  Kundapura\n",
       "3  Rohan     90  Mangalore"
      ]
     },
     "execution_count": 10,
     "metadata": {},
     "output_type": "execute_result"
    }
   ],
   "source": [
    "df.tail(2) # last two rows"
   ]
  },
  {
   "cell_type": "code",
   "execution_count": 11,
   "id": "f8a80d43",
   "metadata": {},
   "outputs": [
    {
     "data": {
      "text/html": [
       "<div>\n",
       "<style scoped>\n",
       "    .dataframe tbody tr th:only-of-type {\n",
       "        vertical-align: middle;\n",
       "    }\n",
       "\n",
       "    .dataframe tbody tr th {\n",
       "        vertical-align: top;\n",
       "    }\n",
       "\n",
       "    .dataframe thead th {\n",
       "        text-align: right;\n",
       "    }\n",
       "</style>\n",
       "<table border=\"1\" class=\"dataframe\">\n",
       "  <thead>\n",
       "    <tr style=\"text-align: right;\">\n",
       "      <th></th>\n",
       "      <th>marks</th>\n",
       "    </tr>\n",
       "  </thead>\n",
       "  <tbody>\n",
       "    <tr>\n",
       "      <th>count</th>\n",
       "      <td>4.000000</td>\n",
       "    </tr>\n",
       "    <tr>\n",
       "      <th>mean</th>\n",
       "      <td>81.500000</td>\n",
       "    </tr>\n",
       "    <tr>\n",
       "      <th>std</th>\n",
       "      <td>10.661457</td>\n",
       "    </tr>\n",
       "    <tr>\n",
       "      <th>min</th>\n",
       "      <td>67.000000</td>\n",
       "    </tr>\n",
       "    <tr>\n",
       "      <th>25%</th>\n",
       "      <td>76.750000</td>\n",
       "    </tr>\n",
       "    <tr>\n",
       "      <th>50%</th>\n",
       "      <td>84.500000</td>\n",
       "    </tr>\n",
       "    <tr>\n",
       "      <th>75%</th>\n",
       "      <td>89.250000</td>\n",
       "    </tr>\n",
       "    <tr>\n",
       "      <th>max</th>\n",
       "      <td>90.000000</td>\n",
       "    </tr>\n",
       "  </tbody>\n",
       "</table>\n",
       "</div>"
      ],
      "text/plain": [
       "           marks\n",
       "count   4.000000\n",
       "mean   81.500000\n",
       "std    10.661457\n",
       "min    67.000000\n",
       "25%    76.750000\n",
       "50%    84.500000\n",
       "75%    89.250000\n",
       "max    90.000000"
      ]
     },
     "execution_count": 11,
     "metadata": {},
     "output_type": "execute_result"
    }
   ],
   "source": [
    "df.describe()"
   ]
  },
  {
   "cell_type": "code",
   "execution_count": 12,
   "id": "02eb6152",
   "metadata": {},
   "outputs": [],
   "source": [
    "emp = pd.read_csv('./../data-files/employees.csv') # relative path to file"
   ]
  },
  {
   "cell_type": "code",
   "execution_count": 13,
   "id": "6c158782",
   "metadata": {},
   "outputs": [
    {
     "data": {
      "text/html": [
       "<div>\n",
       "<style scoped>\n",
       "    .dataframe tbody tr th:only-of-type {\n",
       "        vertical-align: middle;\n",
       "    }\n",
       "\n",
       "    .dataframe tbody tr th {\n",
       "        vertical-align: top;\n",
       "    }\n",
       "\n",
       "    .dataframe thead th {\n",
       "        text-align: right;\n",
       "    }\n",
       "</style>\n",
       "<table border=\"1\" class=\"dataframe\">\n",
       "  <thead>\n",
       "    <tr style=\"text-align: right;\">\n",
       "      <th></th>\n",
       "      <th>Names</th>\n",
       "      <th>Email</th>\n",
       "      <th>Phone Number</th>\n",
       "      <th>Address</th>\n",
       "    </tr>\n",
       "  </thead>\n",
       "  <tbody>\n",
       "    <tr>\n",
       "      <th>0</th>\n",
       "      <td>Bob Smith</td>\n",
       "      <td>bob@example.com</td>\n",
       "      <td>123-456-7890</td>\n",
       "      <td>123 Fake Street</td>\n",
       "    </tr>\n",
       "    <tr>\n",
       "      <th>1</th>\n",
       "      <td>Mike Jones</td>\n",
       "      <td>mike@example.com</td>\n",
       "      <td>098-765-4321</td>\n",
       "      <td>321 Fake Avenue</td>\n",
       "    </tr>\n",
       "    <tr>\n",
       "      <th>2</th>\n",
       "      <td>Manya Shetty</td>\n",
       "      <td>manyas@example.com</td>\n",
       "      <td>020-998-7667</td>\n",
       "      <td>456 New York</td>\n",
       "    </tr>\n",
       "    <tr>\n",
       "      <th>3</th>\n",
       "      <td>Jane Doe</td>\n",
       "      <td>jane@example.com</td>\n",
       "      <td>112-345-6792</td>\n",
       "      <td>745 Park Avenue</td>\n",
       "    </tr>\n",
       "  </tbody>\n",
       "</table>\n",
       "</div>"
      ],
      "text/plain": [
       "          Names               Email  Phone Number          Address\n",
       "0     Bob Smith     bob@example.com  123-456-7890  123 Fake Street\n",
       "1    Mike Jones    mike@example.com  098-765-4321  321 Fake Avenue\n",
       "2  Manya Shetty  manyas@example.com  020-998-7667     456 New York\n",
       "3      Jane Doe    jane@example.com  112-345-6792  745 Park Avenue"
      ]
     },
     "execution_count": 13,
     "metadata": {},
     "output_type": "execute_result"
    }
   ],
   "source": [
    "emp # emp is a data frame"
   ]
  },
  {
   "cell_type": "code",
   "execution_count": 14,
   "id": "fe196e88",
   "metadata": {},
   "outputs": [
    {
     "name": "stdout",
     "output_type": "stream",
     "text": [
      "<class 'pandas.core.frame.DataFrame'>\n"
     ]
    }
   ],
   "source": [
    "print(type(emp))"
   ]
  },
  {
   "cell_type": "code",
   "execution_count": 15,
   "id": "16eb1abc",
   "metadata": {},
   "outputs": [
    {
     "data": {
      "text/plain": [
       "0       Bob Smith\n",
       "1      Mike Jones\n",
       "2    Manya Shetty\n",
       "3        Jane Doe\n",
       "Name: Names, dtype: object"
      ]
     },
     "execution_count": 15,
     "metadata": {},
     "output_type": "execute_result"
    }
   ],
   "source": [
    "emp[\"Names\"] # to get only name of all employees"
   ]
  },
  {
   "cell_type": "code",
   "execution_count": 16,
   "id": "e581f711",
   "metadata": {},
   "outputs": [
    {
     "data": {
      "text/plain": [
       "'Mike Jones'"
      ]
     },
     "execution_count": 16,
     "metadata": {},
     "output_type": "execute_result"
    }
   ],
   "source": [
    "emp[\"Names\"][1] # name at index 2"
   ]
  },
  {
   "cell_type": "code",
   "execution_count": 17,
   "id": "2794b5ac",
   "metadata": {},
   "outputs": [],
   "source": [
    "# manipulating the data \n",
    "\n",
    "emp['Names'][3] = \"Jhon Sams\"\n",
    "emp['Email'][3] = \"jhon@example.com\"\n",
    "emp[\"Address\"][1] = \"001 New Avenue\"\n",
    "emp['Names'][1] = \"Mary Jones\"\n",
    "emp[\"Email\"][1] = \"maryj@sample.com\""
   ]
  },
  {
   "cell_type": "code",
   "execution_count": 18,
   "id": "1ef66ff9",
   "metadata": {},
   "outputs": [
    {
     "data": {
      "text/html": [
       "<div>\n",
       "<style scoped>\n",
       "    .dataframe tbody tr th:only-of-type {\n",
       "        vertical-align: middle;\n",
       "    }\n",
       "\n",
       "    .dataframe tbody tr th {\n",
       "        vertical-align: top;\n",
       "    }\n",
       "\n",
       "    .dataframe thead th {\n",
       "        text-align: right;\n",
       "    }\n",
       "</style>\n",
       "<table border=\"1\" class=\"dataframe\">\n",
       "  <thead>\n",
       "    <tr style=\"text-align: right;\">\n",
       "      <th></th>\n",
       "      <th>Names</th>\n",
       "      <th>Email</th>\n",
       "      <th>Phone Number</th>\n",
       "      <th>Address</th>\n",
       "    </tr>\n",
       "  </thead>\n",
       "  <tbody>\n",
       "    <tr>\n",
       "      <th>0</th>\n",
       "      <td>Bob Smith</td>\n",
       "      <td>bob@example.com</td>\n",
       "      <td>123-456-7890</td>\n",
       "      <td>123 Fake Street</td>\n",
       "    </tr>\n",
       "    <tr>\n",
       "      <th>1</th>\n",
       "      <td>Mary Jones</td>\n",
       "      <td>maryj@sample.com</td>\n",
       "      <td>098-765-4321</td>\n",
       "      <td>001 New Avenue</td>\n",
       "    </tr>\n",
       "    <tr>\n",
       "      <th>2</th>\n",
       "      <td>Manya Shetty</td>\n",
       "      <td>manyas@example.com</td>\n",
       "      <td>020-998-7667</td>\n",
       "      <td>456 New York</td>\n",
       "    </tr>\n",
       "    <tr>\n",
       "      <th>3</th>\n",
       "      <td>Jhon Sams</td>\n",
       "      <td>jhon@example.com</td>\n",
       "      <td>112-345-6792</td>\n",
       "      <td>745 Park Avenue</td>\n",
       "    </tr>\n",
       "  </tbody>\n",
       "</table>\n",
       "</div>"
      ],
      "text/plain": [
       "          Names               Email  Phone Number          Address\n",
       "0     Bob Smith     bob@example.com  123-456-7890  123 Fake Street\n",
       "1    Mary Jones    maryj@sample.com  098-765-4321   001 New Avenue\n",
       "2  Manya Shetty  manyas@example.com  020-998-7667     456 New York\n",
       "3     Jhon Sams    jhon@example.com  112-345-6792  745 Park Avenue"
      ]
     },
     "execution_count": 18,
     "metadata": {},
     "output_type": "execute_result"
    }
   ],
   "source": [
    "emp"
   ]
  },
  {
   "cell_type": "code",
   "execution_count": 19,
   "id": "ed9cc1f3",
   "metadata": {},
   "outputs": [],
   "source": [
    "emp.to_csv('./../data-files/employees_modified.csv')"
   ]
  },
  {
   "cell_type": "code",
   "execution_count": 20,
   "id": "1f2e386c",
   "metadata": {},
   "outputs": [
    {
     "data": {
      "text/html": [
       "<div>\n",
       "<style scoped>\n",
       "    .dataframe tbody tr th:only-of-type {\n",
       "        vertical-align: middle;\n",
       "    }\n",
       "\n",
       "    .dataframe tbody tr th {\n",
       "        vertical-align: top;\n",
       "    }\n",
       "\n",
       "    .dataframe thead th {\n",
       "        text-align: right;\n",
       "    }\n",
       "</style>\n",
       "<table border=\"1\" class=\"dataframe\">\n",
       "  <thead>\n",
       "    <tr style=\"text-align: right;\">\n",
       "      <th></th>\n",
       "      <th>Names</th>\n",
       "      <th>Email</th>\n",
       "      <th>Phone Number</th>\n",
       "      <th>Address</th>\n",
       "    </tr>\n",
       "  </thead>\n",
       "  <tbody>\n",
       "    <tr>\n",
       "      <th>0</th>\n",
       "      <td>Bob Smith</td>\n",
       "      <td>bob@example.com</td>\n",
       "      <td>123-456-7890</td>\n",
       "      <td>123 Fake Street</td>\n",
       "    </tr>\n",
       "    <tr>\n",
       "      <th>1</th>\n",
       "      <td>Mary Jones</td>\n",
       "      <td>maryj@sample.com</td>\n",
       "      <td>098-765-4321</td>\n",
       "      <td>001 New Avenue</td>\n",
       "    </tr>\n",
       "    <tr>\n",
       "      <th>2</th>\n",
       "      <td>Manya Shetty</td>\n",
       "      <td>manyas@example.com</td>\n",
       "      <td>020-998-7667</td>\n",
       "      <td>456 New York</td>\n",
       "    </tr>\n",
       "    <tr>\n",
       "      <th>3</th>\n",
       "      <td>Jhon Sams</td>\n",
       "      <td>jhon@example.com</td>\n",
       "      <td>112-345-6792</td>\n",
       "      <td>745 Park Avenue</td>\n",
       "    </tr>\n",
       "  </tbody>\n",
       "</table>\n",
       "</div>"
      ],
      "text/plain": [
       "          Names               Email  Phone Number          Address\n",
       "0     Bob Smith     bob@example.com  123-456-7890  123 Fake Street\n",
       "1    Mary Jones    maryj@sample.com  098-765-4321   001 New Avenue\n",
       "2  Manya Shetty  manyas@example.com  020-998-7667     456 New York\n",
       "3     Jhon Sams    jhon@example.com  112-345-6792  745 Park Avenue"
      ]
     },
     "execution_count": 20,
     "metadata": {},
     "output_type": "execute_result"
    }
   ],
   "source": [
    "emp"
   ]
  },
  {
   "cell_type": "code",
   "execution_count": 21,
   "id": "9552cdc8",
   "metadata": {},
   "outputs": [],
   "source": [
    "# Changing the indices of the rows"
   ]
  },
  {
   "cell_type": "code",
   "execution_count": 22,
   "id": "badf2587",
   "metadata": {},
   "outputs": [],
   "source": [
    "emp.index = [\"First\",\"Second\",\"Third\",\"Fourth\"] # row indices can also be strings "
   ]
  },
  {
   "cell_type": "code",
   "execution_count": 23,
   "id": "6f4d027b",
   "metadata": {},
   "outputs": [
    {
     "data": {
      "text/html": [
       "<div>\n",
       "<style scoped>\n",
       "    .dataframe tbody tr th:only-of-type {\n",
       "        vertical-align: middle;\n",
       "    }\n",
       "\n",
       "    .dataframe tbody tr th {\n",
       "        vertical-align: top;\n",
       "    }\n",
       "\n",
       "    .dataframe thead th {\n",
       "        text-align: right;\n",
       "    }\n",
       "</style>\n",
       "<table border=\"1\" class=\"dataframe\">\n",
       "  <thead>\n",
       "    <tr style=\"text-align: right;\">\n",
       "      <th></th>\n",
       "      <th>Names</th>\n",
       "      <th>Email</th>\n",
       "      <th>Phone Number</th>\n",
       "      <th>Address</th>\n",
       "    </tr>\n",
       "  </thead>\n",
       "  <tbody>\n",
       "    <tr>\n",
       "      <th>First</th>\n",
       "      <td>Bob Smith</td>\n",
       "      <td>bob@example.com</td>\n",
       "      <td>123-456-7890</td>\n",
       "      <td>123 Fake Street</td>\n",
       "    </tr>\n",
       "    <tr>\n",
       "      <th>Second</th>\n",
       "      <td>Mary Jones</td>\n",
       "      <td>maryj@sample.com</td>\n",
       "      <td>098-765-4321</td>\n",
       "      <td>001 New Avenue</td>\n",
       "    </tr>\n",
       "    <tr>\n",
       "      <th>Third</th>\n",
       "      <td>Manya Shetty</td>\n",
       "      <td>manyas@example.com</td>\n",
       "      <td>020-998-7667</td>\n",
       "      <td>456 New York</td>\n",
       "    </tr>\n",
       "    <tr>\n",
       "      <th>Fourth</th>\n",
       "      <td>Jhon Sams</td>\n",
       "      <td>jhon@example.com</td>\n",
       "      <td>112-345-6792</td>\n",
       "      <td>745 Park Avenue</td>\n",
       "    </tr>\n",
       "  </tbody>\n",
       "</table>\n",
       "</div>"
      ],
      "text/plain": [
       "               Names               Email  Phone Number          Address\n",
       "First      Bob Smith     bob@example.com  123-456-7890  123 Fake Street\n",
       "Second    Mary Jones    maryj@sample.com  098-765-4321   001 New Avenue\n",
       "Third   Manya Shetty  manyas@example.com  020-998-7667     456 New York\n",
       "Fourth     Jhon Sams    jhon@example.com  112-345-6792  745 Park Avenue"
      ]
     },
     "execution_count": 23,
     "metadata": {},
     "output_type": "execute_result"
    }
   ],
   "source": [
    "emp"
   ]
  },
  {
   "cell_type": "code",
   "execution_count": 24,
   "id": "75025592",
   "metadata": {},
   "outputs": [
    {
     "data": {
      "text/plain": [
       "pandas.core.frame.DataFrame"
      ]
     },
     "execution_count": 24,
     "metadata": {},
     "output_type": "execute_result"
    }
   ],
   "source": [
    "type(emp) # emp is a pandas data-frame"
   ]
  },
  {
   "cell_type": "code",
   "execution_count": 25,
   "id": "17b3f8c5",
   "metadata": {},
   "outputs": [],
   "source": [
    "emp.index = [1,2,3,4] # changing the index of rows"
   ]
  },
  {
   "cell_type": "code",
   "execution_count": 26,
   "id": "f0a7feb0",
   "metadata": {},
   "outputs": [
    {
     "data": {
      "text/html": [
       "<div>\n",
       "<style scoped>\n",
       "    .dataframe tbody tr th:only-of-type {\n",
       "        vertical-align: middle;\n",
       "    }\n",
       "\n",
       "    .dataframe tbody tr th {\n",
       "        vertical-align: top;\n",
       "    }\n",
       "\n",
       "    .dataframe thead th {\n",
       "        text-align: right;\n",
       "    }\n",
       "</style>\n",
       "<table border=\"1\" class=\"dataframe\">\n",
       "  <thead>\n",
       "    <tr style=\"text-align: right;\">\n",
       "      <th></th>\n",
       "      <th>Names</th>\n",
       "      <th>Email</th>\n",
       "      <th>Phone Number</th>\n",
       "      <th>Address</th>\n",
       "    </tr>\n",
       "  </thead>\n",
       "  <tbody>\n",
       "    <tr>\n",
       "      <th>1</th>\n",
       "      <td>Bob Smith</td>\n",
       "      <td>bob@example.com</td>\n",
       "      <td>123-456-7890</td>\n",
       "      <td>123 Fake Street</td>\n",
       "    </tr>\n",
       "    <tr>\n",
       "      <th>2</th>\n",
       "      <td>Mary Jones</td>\n",
       "      <td>maryj@sample.com</td>\n",
       "      <td>098-765-4321</td>\n",
       "      <td>001 New Avenue</td>\n",
       "    </tr>\n",
       "    <tr>\n",
       "      <th>3</th>\n",
       "      <td>Manya Shetty</td>\n",
       "      <td>manyas@example.com</td>\n",
       "      <td>020-998-7667</td>\n",
       "      <td>456 New York</td>\n",
       "    </tr>\n",
       "    <tr>\n",
       "      <th>4</th>\n",
       "      <td>Jhon Sams</td>\n",
       "      <td>jhon@example.com</td>\n",
       "      <td>112-345-6792</td>\n",
       "      <td>745 Park Avenue</td>\n",
       "    </tr>\n",
       "  </tbody>\n",
       "</table>\n",
       "</div>"
      ],
      "text/plain": [
       "          Names               Email  Phone Number          Address\n",
       "1     Bob Smith     bob@example.com  123-456-7890  123 Fake Street\n",
       "2    Mary Jones    maryj@sample.com  098-765-4321   001 New Avenue\n",
       "3  Manya Shetty  manyas@example.com  020-998-7667     456 New York\n",
       "4     Jhon Sams    jhon@example.com  112-345-6792  745 Park Avenue"
      ]
     },
     "execution_count": 26,
     "metadata": {},
     "output_type": "execute_result"
    }
   ],
   "source": [
    "emp # emp is a Data Frame"
   ]
  },
  {
   "cell_type": "code",
   "execution_count": 27,
   "id": "1cb7e3d7",
   "metadata": {},
   "outputs": [],
   "source": [
    "# creating an array with random elements in given shape"
   ]
  },
  {
   "cell_type": "code",
   "execution_count": 28,
   "id": "0478281e",
   "metadata": {},
   "outputs": [],
   "source": [
    "myarr1 = np.random.rand(15) "
   ]
  },
  {
   "cell_type": "code",
   "execution_count": 29,
   "id": "7bb12c56",
   "metadata": {},
   "outputs": [
    {
     "data": {
      "text/plain": [
       "array([0.99331684, 0.31327907, 0.93223315, 0.67670656, 0.52782193,\n",
       "       0.56520784, 0.89807279, 0.50038192, 0.03494253, 0.64624254,\n",
       "       0.99478889, 0.16916903, 0.60684947, 0.83716412, 0.8982604 ])"
      ]
     },
     "execution_count": 29,
     "metadata": {},
     "output_type": "execute_result"
    }
   ],
   "source": [
    "myarr1"
   ]
  },
  {
   "cell_type": "code",
   "execution_count": 30,
   "id": "0805448d",
   "metadata": {},
   "outputs": [
    {
     "data": {
      "text/plain": [
       "(15,)"
      ]
     },
     "execution_count": 30,
     "metadata": {},
     "output_type": "execute_result"
    }
   ],
   "source": [
    "myarr1.shape"
   ]
  },
  {
   "cell_type": "code",
   "execution_count": 31,
   "id": "7af3b557",
   "metadata": {},
   "outputs": [],
   "source": [
    "myarr2 = np.random.randn(10)"
   ]
  },
  {
   "cell_type": "code",
   "execution_count": 32,
   "id": "5634b902",
   "metadata": {},
   "outputs": [
    {
     "data": {
      "text/plain": [
       "array([-0.92444307,  0.50074979,  0.00862115, -0.94787896,  0.43245048,\n",
       "        1.28568654, -1.0182109 ,  1.71450353, -0.37455108,  0.65561012])"
      ]
     },
     "execution_count": 32,
     "metadata": {},
     "output_type": "execute_result"
    }
   ],
   "source": [
    "myarr2"
   ]
  },
  {
   "cell_type": "code",
   "execution_count": null,
   "id": "4e7eee3b",
   "metadata": {},
   "outputs": [],
   "source": []
  }
 ],
 "metadata": {
  "kernelspec": {
   "display_name": "Python 3 (ipykernel)",
   "language": "python",
   "name": "python3"
  },
  "language_info": {
   "codemirror_mode": {
    "name": "ipython",
    "version": 3
   },
   "file_extension": ".py",
   "mimetype": "text/x-python",
   "name": "python",
   "nbconvert_exporter": "python",
   "pygments_lexer": "ipython3",
   "version": "3.10.6"
  }
 },
 "nbformat": 4,
 "nbformat_minor": 5
}
