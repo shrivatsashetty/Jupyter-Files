{
 "cells": [
  {
   "cell_type": "code",
   "execution_count": 1,
   "id": "7e046a9a",
   "metadata": {},
   "outputs": [],
   "source": [
    "import numpy as np\n",
    "import pandas as pd"
   ]
  },
  {
   "cell_type": "code",
   "execution_count": 2,
   "id": "4e72a4ee",
   "metadata": {},
   "outputs": [],
   "source": [
    "# creating a pandas series from a simple list"
   ]
  },
  {
   "cell_type": "code",
   "execution_count": 3,
   "id": "4a1ac961",
   "metadata": {},
   "outputs": [],
   "source": [
    "sci_consts = [ 3.14, 2.718, 6.69, 2.999 ]"
   ]
  },
  {
   "cell_type": "code",
   "execution_count": 4,
   "id": "81777513",
   "metadata": {},
   "outputs": [
    {
     "data": {
      "text/plain": [
       "list"
      ]
     },
     "execution_count": 4,
     "metadata": {},
     "output_type": "execute_result"
    }
   ],
   "source": [
    "type(sci_consts)"
   ]
  },
  {
   "cell_type": "code",
   "execution_count": 5,
   "id": "79cc514e",
   "metadata": {},
   "outputs": [],
   "source": [
    "mysr = pd.Series(sci_consts) "
   ]
  },
  {
   "cell_type": "code",
   "execution_count": 6,
   "id": "f7b1adda",
   "metadata": {},
   "outputs": [
    {
     "data": {
      "text/plain": [
       "0    3.140\n",
       "1    2.718\n",
       "2    6.690\n",
       "3    2.999\n",
       "dtype: float64"
      ]
     },
     "execution_count": 6,
     "metadata": {},
     "output_type": "execute_result"
    }
   ],
   "source": [
    "mysr"
   ]
  },
  {
   "cell_type": "code",
   "execution_count": 7,
   "id": "f1a62738",
   "metadata": {},
   "outputs": [],
   "source": [
    "digits = [0,1,2,3,4,5,6,7,8,9]"
   ]
  },
  {
   "cell_type": "code",
   "execution_count": 8,
   "id": "ded23b43",
   "metadata": {},
   "outputs": [
    {
     "data": {
      "text/plain": [
       "0    0\n",
       "1    1\n",
       "2    2\n",
       "3    3\n",
       "4    4\n",
       "5    5\n",
       "6    6\n",
       "7    7\n",
       "8    8\n",
       "9    9\n",
       "dtype: int64"
      ]
     },
     "execution_count": 8,
     "metadata": {},
     "output_type": "execute_result"
    }
   ],
   "source": [
    "pd.Series(digits)"
   ]
  },
  {
   "cell_type": "code",
   "execution_count": 9,
   "id": "44357757",
   "metadata": {},
   "outputs": [],
   "source": [
    "# strings are considred as objects\n",
    "# even if one string present in list then whole list considered as object"
   ]
  },
  {
   "cell_type": "code",
   "execution_count": 10,
   "id": "8b501dbe",
   "metadata": {},
   "outputs": [],
   "source": [
    "names = [\"Hari\",\"Manu\",\"Abin\"]"
   ]
  },
  {
   "cell_type": "code",
   "execution_count": 11,
   "id": "ddc59238",
   "metadata": {},
   "outputs": [
    {
     "data": {
      "text/plain": [
       "0    Hari\n",
       "1    Manu\n",
       "2    Abin\n",
       "dtype: object"
      ]
     },
     "execution_count": 11,
     "metadata": {},
     "output_type": "execute_result"
    }
   ],
   "source": [
    "pd.Series(names)"
   ]
  },
  {
   "cell_type": "code",
   "execution_count": 12,
   "id": "86bb9520",
   "metadata": {},
   "outputs": [],
   "source": [
    " # perecence of one float causes internal conversion to float "
   ]
  },
  {
   "cell_type": "code",
   "execution_count": 13,
   "id": "b469cbde",
   "metadata": {},
   "outputs": [],
   "source": [
    "mix1 = [0, 2, 3.23] # dtype: float64"
   ]
  },
  {
   "cell_type": "code",
   "execution_count": 14,
   "id": "8fe56d50",
   "metadata": {},
   "outputs": [
    {
     "data": {
      "text/plain": [
       "0    0.00\n",
       "1    2.00\n",
       "2    3.23\n",
       "dtype: float64"
      ]
     },
     "execution_count": 14,
     "metadata": {},
     "output_type": "execute_result"
    }
   ],
   "source": [
    "pd.Series(mix1) "
   ]
  },
  {
   "cell_type": "code",
   "execution_count": 15,
   "id": "a68c88a2",
   "metadata": {},
   "outputs": [],
   "source": [
    "mix2 = [1,2,\"hi\"] # dtype: object"
   ]
  },
  {
   "cell_type": "code",
   "execution_count": 16,
   "id": "c0402543",
   "metadata": {},
   "outputs": [
    {
     "data": {
      "text/plain": [
       "0     1\n",
       "1     2\n",
       "2    hi\n",
       "dtype: object"
      ]
     },
     "execution_count": 16,
     "metadata": {},
     "output_type": "execute_result"
    }
   ],
   "source": [
    "pd.Series(mix2)"
   ]
  },
  {
   "cell_type": "code",
   "execution_count": 17,
   "id": "8ba0050f",
   "metadata": {},
   "outputs": [],
   "source": [
    "# creating an array of random numbers in range [0,1)"
   ]
  },
  {
   "cell_type": "code",
   "execution_count": 18,
   "id": "2ff3ccc0",
   "metadata": {},
   "outputs": [],
   "source": [
    "random_nums = np.random.rand(15) "
   ]
  },
  {
   "cell_type": "code",
   "execution_count": 19,
   "id": "4674dec4",
   "metadata": {},
   "outputs": [
    {
     "data": {
      "text/plain": [
       "array([0.76425299, 0.04227508, 0.54646251, 0.91688959, 0.46218801,\n",
       "       0.59481928, 0.80855921, 0.45445426, 0.74993513, 0.99627706,\n",
       "       0.20765659, 0.46776876, 0.99042789, 0.82720784, 0.60379338])"
      ]
     },
     "execution_count": 19,
     "metadata": {},
     "output_type": "execute_result"
    }
   ],
   "source": [
    "random_nums"
   ]
  },
  {
   "cell_type": "code",
   "execution_count": 20,
   "id": "8c14c689",
   "metadata": {},
   "outputs": [],
   "source": [
    "r_series = pd.Series(random_nums)"
   ]
  },
  {
   "cell_type": "code",
   "execution_count": 21,
   "id": "18891d43",
   "metadata": {},
   "outputs": [
    {
     "data": {
      "text/plain": [
       "0     0.764253\n",
       "1     0.042275\n",
       "2     0.546463\n",
       "3     0.916890\n",
       "4     0.462188\n",
       "5     0.594819\n",
       "6     0.808559\n",
       "7     0.454454\n",
       "8     0.749935\n",
       "9     0.996277\n",
       "10    0.207657\n",
       "11    0.467769\n",
       "12    0.990428\n",
       "13    0.827208\n",
       "14    0.603793\n",
       "dtype: float64"
      ]
     },
     "execution_count": 21,
     "metadata": {},
     "output_type": "execute_result"
    }
   ],
   "source": [
    "r_series"
   ]
  },
  {
   "cell_type": "code",
   "execution_count": 22,
   "id": "6f845916",
   "metadata": {},
   "outputs": [
    {
     "data": {
      "text/plain": [
       "pandas.core.series.Series"
      ]
     },
     "execution_count": 22,
     "metadata": {},
     "output_type": "execute_result"
    }
   ],
   "source": [
    "type(r_series)"
   ]
  },
  {
   "cell_type": "code",
   "execution_count": 23,
   "id": "f7c917c8",
   "metadata": {},
   "outputs": [],
   "source": [
    "myarr = np.arange(1,30+1).reshape(6,5)"
   ]
  },
  {
   "cell_type": "code",
   "execution_count": 24,
   "id": "6a52a7a6",
   "metadata": {},
   "outputs": [
    {
     "data": {
      "text/plain": [
       "array([[ 1,  2,  3,  4,  5],\n",
       "       [ 6,  7,  8,  9, 10],\n",
       "       [11, 12, 13, 14, 15],\n",
       "       [16, 17, 18, 19, 20],\n",
       "       [21, 22, 23, 24, 25],\n",
       "       [26, 27, 28, 29, 30]])"
      ]
     },
     "execution_count": 24,
     "metadata": {},
     "output_type": "execute_result"
    }
   ],
   "source": [
    "myarr"
   ]
  },
  {
   "cell_type": "code",
   "execution_count": 25,
   "id": "1b4f9ad6",
   "metadata": {},
   "outputs": [
    {
     "data": {
      "text/plain": [
       "30"
      ]
     },
     "execution_count": 25,
     "metadata": {},
     "output_type": "execute_result"
    }
   ],
   "source": [
    "myarr.size"
   ]
  },
  {
   "cell_type": "code",
   "execution_count": 26,
   "id": "e2e2654e",
   "metadata": {},
   "outputs": [
    {
     "data": {
      "text/plain": [
       "(6, 5)"
      ]
     },
     "execution_count": 26,
     "metadata": {},
     "output_type": "execute_result"
    }
   ],
   "source": [
    "myarr.shape"
   ]
  },
  {
   "cell_type": "code",
   "execution_count": 27,
   "id": "ceb73de3",
   "metadata": {},
   "outputs": [],
   "source": [
    "mydf = pd.DataFrame(myarr ,index = range(6)) # or also, index = range(6) will do"
   ]
  },
  {
   "cell_type": "code",
   "execution_count": 28,
   "id": "f4bdb065",
   "metadata": {},
   "outputs": [
    {
     "data": {
      "text/html": [
       "<div>\n",
       "<style scoped>\n",
       "    .dataframe tbody tr th:only-of-type {\n",
       "        vertical-align: middle;\n",
       "    }\n",
       "\n",
       "    .dataframe tbody tr th {\n",
       "        vertical-align: top;\n",
       "    }\n",
       "\n",
       "    .dataframe thead th {\n",
       "        text-align: right;\n",
       "    }\n",
       "</style>\n",
       "<table border=\"1\" class=\"dataframe\">\n",
       "  <thead>\n",
       "    <tr style=\"text-align: right;\">\n",
       "      <th></th>\n",
       "      <th>0</th>\n",
       "      <th>1</th>\n",
       "      <th>2</th>\n",
       "      <th>3</th>\n",
       "      <th>4</th>\n",
       "    </tr>\n",
       "  </thead>\n",
       "  <tbody>\n",
       "    <tr>\n",
       "      <th>0</th>\n",
       "      <td>1</td>\n",
       "      <td>2</td>\n",
       "      <td>3</td>\n",
       "      <td>4</td>\n",
       "      <td>5</td>\n",
       "    </tr>\n",
       "    <tr>\n",
       "      <th>1</th>\n",
       "      <td>6</td>\n",
       "      <td>7</td>\n",
       "      <td>8</td>\n",
       "      <td>9</td>\n",
       "      <td>10</td>\n",
       "    </tr>\n",
       "    <tr>\n",
       "      <th>2</th>\n",
       "      <td>11</td>\n",
       "      <td>12</td>\n",
       "      <td>13</td>\n",
       "      <td>14</td>\n",
       "      <td>15</td>\n",
       "    </tr>\n",
       "    <tr>\n",
       "      <th>3</th>\n",
       "      <td>16</td>\n",
       "      <td>17</td>\n",
       "      <td>18</td>\n",
       "      <td>19</td>\n",
       "      <td>20</td>\n",
       "    </tr>\n",
       "    <tr>\n",
       "      <th>4</th>\n",
       "      <td>21</td>\n",
       "      <td>22</td>\n",
       "      <td>23</td>\n",
       "      <td>24</td>\n",
       "      <td>25</td>\n",
       "    </tr>\n",
       "    <tr>\n",
       "      <th>5</th>\n",
       "      <td>26</td>\n",
       "      <td>27</td>\n",
       "      <td>28</td>\n",
       "      <td>29</td>\n",
       "      <td>30</td>\n",
       "    </tr>\n",
       "  </tbody>\n",
       "</table>\n",
       "</div>"
      ],
      "text/plain": [
       "    0   1   2   3   4\n",
       "0   1   2   3   4   5\n",
       "1   6   7   8   9  10\n",
       "2  11  12  13  14  15\n",
       "3  16  17  18  19  20\n",
       "4  21  22  23  24  25\n",
       "5  26  27  28  29  30"
      ]
     },
     "execution_count": 28,
     "metadata": {},
     "output_type": "execute_result"
    }
   ],
   "source": [
    "mydf"
   ]
  },
  {
   "cell_type": "code",
   "execution_count": 29,
   "id": "9ebfe6f5",
   "metadata": {},
   "outputs": [
    {
     "data": {
      "text/plain": [
       "array([0.1, 0.2, 0.3, 0.4, 0.5, 0.6, 0.7, 0.8, 0.9, 1. ])"
      ]
     },
     "execution_count": 29,
     "metadata": {},
     "output_type": "execute_result"
    }
   ],
   "source": [
    "np.linspace(0.1,1,10)"
   ]
  },
  {
   "cell_type": "code",
   "execution_count": 30,
   "id": "62cb1d61",
   "metadata": {},
   "outputs": [
    {
     "data": {
      "text/plain": [
       "'index = np.linspace(0.1,0.5,5)'"
      ]
     },
     "execution_count": 30,
     "metadata": {},
     "output_type": "execute_result"
    }
   ],
   "source": [
    "\"\"\"index = np.linspace(0.1,0.5,5)\"\"\" "
   ]
  },
  {
   "cell_type": "code",
   "execution_count": 31,
   "id": "0b296966",
   "metadata": {},
   "outputs": [],
   "source": [
    "testdf = pd.DataFrame(np.empty((9,5),dtype=int), index = np.linspace(0.2, 1.8, 9))"
   ]
  },
  {
   "cell_type": "code",
   "execution_count": 32,
   "id": "9f86d124",
   "metadata": {},
   "outputs": [],
   "source": [
    "testdf.columns = (\"A\",\"B\",\"C\",\"D\",\"E\") # changing the index of the columns"
   ]
  },
  {
   "cell_type": "code",
   "execution_count": 33,
   "id": "fddbb3a9",
   "metadata": {},
   "outputs": [
    {
     "data": {
      "text/html": [
       "<div>\n",
       "<style scoped>\n",
       "    .dataframe tbody tr th:only-of-type {\n",
       "        vertical-align: middle;\n",
       "    }\n",
       "\n",
       "    .dataframe tbody tr th {\n",
       "        vertical-align: top;\n",
       "    }\n",
       "\n",
       "    .dataframe thead th {\n",
       "        text-align: right;\n",
       "    }\n",
       "</style>\n",
       "<table border=\"1\" class=\"dataframe\">\n",
       "  <thead>\n",
       "    <tr style=\"text-align: right;\">\n",
       "      <th></th>\n",
       "      <th>A</th>\n",
       "      <th>B</th>\n",
       "      <th>C</th>\n",
       "      <th>D</th>\n",
       "      <th>E</th>\n",
       "    </tr>\n",
       "  </thead>\n",
       "  <tbody>\n",
       "    <tr>\n",
       "      <th>0.2</th>\n",
       "      <td>94825834606656</td>\n",
       "      <td>0</td>\n",
       "      <td>7596482351528965216</td>\n",
       "      <td>4332498163879013230</td>\n",
       "      <td>3400000511170344040</td>\n",
       "    </tr>\n",
       "    <tr>\n",
       "      <th>0.4</th>\n",
       "      <td>8083525243310596464</td>\n",
       "      <td>8245860438837912697</td>\n",
       "      <td>8314036812346568551</td>\n",
       "      <td>8391102703357355053</td>\n",
       "      <td>7310315466577961569</td>\n",
       "    </tr>\n",
       "    <tr>\n",
       "      <th>0.6</th>\n",
       "      <td>3415246296534441842</td>\n",
       "      <td>7598247067624761716</td>\n",
       "      <td>2552535435543737189</td>\n",
       "      <td>7002380974707598959</td>\n",
       "      <td>6935107355761797484</td>\n",
       "    </tr>\n",
       "    <tr>\n",
       "      <th>0.8</th>\n",
       "      <td>2314885435961007967</td>\n",
       "      <td>7308339910404490528</td>\n",
       "      <td>3255293428008749683</td>\n",
       "      <td>2308707431035514157</td>\n",
       "      <td>8079526168553857056</td>\n",
       "    </tr>\n",
       "    <tr>\n",
       "      <th>1.0</th>\n",
       "      <td>7306076016096849508</td>\n",
       "      <td>7453001577199137900</td>\n",
       "      <td>4428290096503138405</td>\n",
       "      <td>3181645120959164711</td>\n",
       "      <td>8314893310714277920</td>\n",
       "    </tr>\n",
       "    <tr>\n",
       "      <th>1.2</th>\n",
       "      <td>2314885530449949757</td>\n",
       "      <td>8389191687757195604</td>\n",
       "      <td>6568632433391847777</td>\n",
       "      <td>2842749248999534887</td>\n",
       "      <td>8746382040773369900</td>\n",
       "    </tr>\n",
       "    <tr>\n",
       "      <th>1.4</th>\n",
       "      <td>7214822846184040307</td>\n",
       "      <td>3758007788076497249</td>\n",
       "      <td>3196754687414068256</td>\n",
       "      <td>2314885530818453514</td>\n",
       "      <td>2314885530818453536</td>\n",
       "    </tr>\n",
       "    <tr>\n",
       "      <th>1.6</th>\n",
       "      <td>8104636977814446112</td>\n",
       "      <td>7234308676128292197</td>\n",
       "      <td>7952006975220640869</td>\n",
       "      <td>7310017433541500275</td>\n",
       "      <td>723435938770271601</td>\n",
       "    </tr>\n",
       "    <tr>\n",
       "      <th>1.8</th>\n",
       "      <td>2334386692386988064</td>\n",
       "      <td>7234315298837586016</td>\n",
       "      <td>7881706585693642848</td>\n",
       "      <td>7309468778417714277</td>\n",
       "      <td>8583987767403768163</td>\n",
       "    </tr>\n",
       "  </tbody>\n",
       "</table>\n",
       "</div>"
      ],
      "text/plain": [
       "                       A                    B                    C  \\\n",
       "0.2       94825834606656                    0  7596482351528965216   \n",
       "0.4  8083525243310596464  8245860438837912697  8314036812346568551   \n",
       "0.6  3415246296534441842  7598247067624761716  2552535435543737189   \n",
       "0.8  2314885435961007967  7308339910404490528  3255293428008749683   \n",
       "1.0  7306076016096849508  7453001577199137900  4428290096503138405   \n",
       "1.2  2314885530449949757  8389191687757195604  6568632433391847777   \n",
       "1.4  7214822846184040307  3758007788076497249  3196754687414068256   \n",
       "1.6  8104636977814446112  7234308676128292197  7952006975220640869   \n",
       "1.8  2334386692386988064  7234315298837586016  7881706585693642848   \n",
       "\n",
       "                       D                    E  \n",
       "0.2  4332498163879013230  3400000511170344040  \n",
       "0.4  8391102703357355053  7310315466577961569  \n",
       "0.6  7002380974707598959  6935107355761797484  \n",
       "0.8  2308707431035514157  8079526168553857056  \n",
       "1.0  3181645120959164711  8314893310714277920  \n",
       "1.2  2842749248999534887  8746382040773369900  \n",
       "1.4  2314885530818453514  2314885530818453536  \n",
       "1.6  7310017433541500275   723435938770271601  \n",
       "1.8  7309468778417714277  8583987767403768163  "
      ]
     },
     "execution_count": 33,
     "metadata": {},
     "output_type": "execute_result"
    }
   ],
   "source": [
    "testdf"
   ]
  },
  {
   "cell_type": "code",
   "execution_count": 34,
   "id": "849123f1",
   "metadata": {},
   "outputs": [],
   "source": [
    "# Acessing the values"
   ]
  },
  {
   "cell_type": "code",
   "execution_count": 35,
   "id": "7b5a5e37",
   "metadata": {},
   "outputs": [
    {
     "data": {
      "text/plain": [
       "8083525243310596464"
      ]
     },
     "execution_count": 35,
     "metadata": {},
     "output_type": "execute_result"
    }
   ],
   "source": [
    "testdf['A'][0.4]"
   ]
  },
  {
   "cell_type": "code",
   "execution_count": 36,
   "id": "0d58c3d3",
   "metadata": {},
   "outputs": [],
   "source": [
    "newdf = pd.DataFrame(np.random.rand(300,6),index = np.arange(300))"
   ]
  },
  {
   "cell_type": "code",
   "execution_count": 37,
   "id": "35fdc937",
   "metadata": {},
   "outputs": [
    {
     "data": {
      "text/html": [
       "<div>\n",
       "<style scoped>\n",
       "    .dataframe tbody tr th:only-of-type {\n",
       "        vertical-align: middle;\n",
       "    }\n",
       "\n",
       "    .dataframe tbody tr th {\n",
       "        vertical-align: top;\n",
       "    }\n",
       "\n",
       "    .dataframe thead th {\n",
       "        text-align: right;\n",
       "    }\n",
       "</style>\n",
       "<table border=\"1\" class=\"dataframe\">\n",
       "  <thead>\n",
       "    <tr style=\"text-align: right;\">\n",
       "      <th></th>\n",
       "      <th>0</th>\n",
       "      <th>1</th>\n",
       "      <th>2</th>\n",
       "      <th>3</th>\n",
       "      <th>4</th>\n",
       "      <th>5</th>\n",
       "    </tr>\n",
       "  </thead>\n",
       "  <tbody>\n",
       "    <tr>\n",
       "      <th>0</th>\n",
       "      <td>0.542852</td>\n",
       "      <td>0.302081</td>\n",
       "      <td>0.461033</td>\n",
       "      <td>0.212910</td>\n",
       "      <td>0.685985</td>\n",
       "      <td>0.901183</td>\n",
       "    </tr>\n",
       "    <tr>\n",
       "      <th>1</th>\n",
       "      <td>0.031905</td>\n",
       "      <td>0.708537</td>\n",
       "      <td>0.621902</td>\n",
       "      <td>0.455636</td>\n",
       "      <td>0.821668</td>\n",
       "      <td>0.712625</td>\n",
       "    </tr>\n",
       "    <tr>\n",
       "      <th>2</th>\n",
       "      <td>0.089212</td>\n",
       "      <td>0.916271</td>\n",
       "      <td>0.582801</td>\n",
       "      <td>0.543488</td>\n",
       "      <td>0.614283</td>\n",
       "      <td>0.767441</td>\n",
       "    </tr>\n",
       "    <tr>\n",
       "      <th>3</th>\n",
       "      <td>0.534970</td>\n",
       "      <td>0.004584</td>\n",
       "      <td>0.420170</td>\n",
       "      <td>0.670182</td>\n",
       "      <td>0.519374</td>\n",
       "      <td>0.124350</td>\n",
       "    </tr>\n",
       "    <tr>\n",
       "      <th>4</th>\n",
       "      <td>0.145144</td>\n",
       "      <td>0.696913</td>\n",
       "      <td>0.933423</td>\n",
       "      <td>0.362984</td>\n",
       "      <td>0.728647</td>\n",
       "      <td>0.166713</td>\n",
       "    </tr>\n",
       "    <tr>\n",
       "      <th>...</th>\n",
       "      <td>...</td>\n",
       "      <td>...</td>\n",
       "      <td>...</td>\n",
       "      <td>...</td>\n",
       "      <td>...</td>\n",
       "      <td>...</td>\n",
       "    </tr>\n",
       "    <tr>\n",
       "      <th>295</th>\n",
       "      <td>0.807092</td>\n",
       "      <td>0.730131</td>\n",
       "      <td>0.002979</td>\n",
       "      <td>0.154867</td>\n",
       "      <td>0.776241</td>\n",
       "      <td>0.116238</td>\n",
       "    </tr>\n",
       "    <tr>\n",
       "      <th>296</th>\n",
       "      <td>0.155191</td>\n",
       "      <td>0.857200</td>\n",
       "      <td>0.146372</td>\n",
       "      <td>0.543077</td>\n",
       "      <td>0.640962</td>\n",
       "      <td>0.300089</td>\n",
       "    </tr>\n",
       "    <tr>\n",
       "      <th>297</th>\n",
       "      <td>0.607727</td>\n",
       "      <td>0.657847</td>\n",
       "      <td>0.194611</td>\n",
       "      <td>0.551244</td>\n",
       "      <td>0.531439</td>\n",
       "      <td>0.234583</td>\n",
       "    </tr>\n",
       "    <tr>\n",
       "      <th>298</th>\n",
       "      <td>0.057981</td>\n",
       "      <td>0.019169</td>\n",
       "      <td>0.202191</td>\n",
       "      <td>0.508309</td>\n",
       "      <td>0.544723</td>\n",
       "      <td>0.329895</td>\n",
       "    </tr>\n",
       "    <tr>\n",
       "      <th>299</th>\n",
       "      <td>0.030219</td>\n",
       "      <td>0.927459</td>\n",
       "      <td>0.683445</td>\n",
       "      <td>0.475373</td>\n",
       "      <td>0.093970</td>\n",
       "      <td>0.959105</td>\n",
       "    </tr>\n",
       "  </tbody>\n",
       "</table>\n",
       "<p>300 rows × 6 columns</p>\n",
       "</div>"
      ],
      "text/plain": [
       "            0         1         2         3         4         5\n",
       "0    0.542852  0.302081  0.461033  0.212910  0.685985  0.901183\n",
       "1    0.031905  0.708537  0.621902  0.455636  0.821668  0.712625\n",
       "2    0.089212  0.916271  0.582801  0.543488  0.614283  0.767441\n",
       "3    0.534970  0.004584  0.420170  0.670182  0.519374  0.124350\n",
       "4    0.145144  0.696913  0.933423  0.362984  0.728647  0.166713\n",
       "..        ...       ...       ...       ...       ...       ...\n",
       "295  0.807092  0.730131  0.002979  0.154867  0.776241  0.116238\n",
       "296  0.155191  0.857200  0.146372  0.543077  0.640962  0.300089\n",
       "297  0.607727  0.657847  0.194611  0.551244  0.531439  0.234583\n",
       "298  0.057981  0.019169  0.202191  0.508309  0.544723  0.329895\n",
       "299  0.030219  0.927459  0.683445  0.475373  0.093970  0.959105\n",
       "\n",
       "[300 rows x 6 columns]"
      ]
     },
     "execution_count": 37,
     "metadata": {},
     "output_type": "execute_result"
    }
   ],
   "source": [
    "newdf"
   ]
  },
  {
   "cell_type": "code",
   "execution_count": 38,
   "id": "2405a033",
   "metadata": {},
   "outputs": [
    {
     "data": {
      "text/plain": [
       "pandas.core.frame.DataFrame"
      ]
     },
     "execution_count": 38,
     "metadata": {},
     "output_type": "execute_result"
    }
   ],
   "source": [
    "type(newdf)"
   ]
  },
  {
   "cell_type": "code",
   "execution_count": 39,
   "id": "3ec57b35",
   "metadata": {},
   "outputs": [
    {
     "data": {
      "text/html": [
       "<div>\n",
       "<style scoped>\n",
       "    .dataframe tbody tr th:only-of-type {\n",
       "        vertical-align: middle;\n",
       "    }\n",
       "\n",
       "    .dataframe tbody tr th {\n",
       "        vertical-align: top;\n",
       "    }\n",
       "\n",
       "    .dataframe thead th {\n",
       "        text-align: right;\n",
       "    }\n",
       "</style>\n",
       "<table border=\"1\" class=\"dataframe\">\n",
       "  <thead>\n",
       "    <tr style=\"text-align: right;\">\n",
       "      <th></th>\n",
       "      <th>0</th>\n",
       "      <th>1</th>\n",
       "      <th>2</th>\n",
       "      <th>3</th>\n",
       "      <th>4</th>\n",
       "      <th>5</th>\n",
       "    </tr>\n",
       "  </thead>\n",
       "  <tbody>\n",
       "    <tr>\n",
       "      <th>count</th>\n",
       "      <td>300.000000</td>\n",
       "      <td>300.000000</td>\n",
       "      <td>300.000000</td>\n",
       "      <td>300.000000</td>\n",
       "      <td>300.000000</td>\n",
       "      <td>300.000000</td>\n",
       "    </tr>\n",
       "    <tr>\n",
       "      <th>mean</th>\n",
       "      <td>0.477206</td>\n",
       "      <td>0.505126</td>\n",
       "      <td>0.498681</td>\n",
       "      <td>0.481203</td>\n",
       "      <td>0.476759</td>\n",
       "      <td>0.511846</td>\n",
       "    </tr>\n",
       "    <tr>\n",
       "      <th>std</th>\n",
       "      <td>0.292059</td>\n",
       "      <td>0.284066</td>\n",
       "      <td>0.293433</td>\n",
       "      <td>0.288972</td>\n",
       "      <td>0.284783</td>\n",
       "      <td>0.296013</td>\n",
       "    </tr>\n",
       "    <tr>\n",
       "      <th>min</th>\n",
       "      <td>0.000495</td>\n",
       "      <td>0.004584</td>\n",
       "      <td>0.002979</td>\n",
       "      <td>0.000737</td>\n",
       "      <td>0.001558</td>\n",
       "      <td>0.001580</td>\n",
       "    </tr>\n",
       "    <tr>\n",
       "      <th>25%</th>\n",
       "      <td>0.217116</td>\n",
       "      <td>0.279958</td>\n",
       "      <td>0.244380</td>\n",
       "      <td>0.231015</td>\n",
       "      <td>0.242924</td>\n",
       "      <td>0.258612</td>\n",
       "    </tr>\n",
       "    <tr>\n",
       "      <th>50%</th>\n",
       "      <td>0.448490</td>\n",
       "      <td>0.505488</td>\n",
       "      <td>0.501158</td>\n",
       "      <td>0.464051</td>\n",
       "      <td>0.473624</td>\n",
       "      <td>0.525811</td>\n",
       "    </tr>\n",
       "    <tr>\n",
       "      <th>75%</th>\n",
       "      <td>0.742965</td>\n",
       "      <td>0.750740</td>\n",
       "      <td>0.751816</td>\n",
       "      <td>0.751178</td>\n",
       "      <td>0.722202</td>\n",
       "      <td>0.771000</td>\n",
       "    </tr>\n",
       "    <tr>\n",
       "      <th>max</th>\n",
       "      <td>0.998692</td>\n",
       "      <td>0.990856</td>\n",
       "      <td>0.997748</td>\n",
       "      <td>0.995081</td>\n",
       "      <td>0.994625</td>\n",
       "      <td>0.997613</td>\n",
       "    </tr>\n",
       "  </tbody>\n",
       "</table>\n",
       "</div>"
      ],
      "text/plain": [
       "                0           1           2           3           4           5\n",
       "count  300.000000  300.000000  300.000000  300.000000  300.000000  300.000000\n",
       "mean     0.477206    0.505126    0.498681    0.481203    0.476759    0.511846\n",
       "std      0.292059    0.284066    0.293433    0.288972    0.284783    0.296013\n",
       "min      0.000495    0.004584    0.002979    0.000737    0.001558    0.001580\n",
       "25%      0.217116    0.279958    0.244380    0.231015    0.242924    0.258612\n",
       "50%      0.448490    0.505488    0.501158    0.464051    0.473624    0.525811\n",
       "75%      0.742965    0.750740    0.751816    0.751178    0.722202    0.771000\n",
       "max      0.998692    0.990856    0.997748    0.995081    0.994625    0.997613"
      ]
     },
     "execution_count": 39,
     "metadata": {},
     "output_type": "execute_result"
    }
   ],
   "source": [
    "newdf.describe()"
   ]
  },
  {
   "cell_type": "code",
   "execution_count": 40,
   "id": "e03529ef",
   "metadata": {},
   "outputs": [
    {
     "data": {
      "text/html": [
       "<div>\n",
       "<style scoped>\n",
       "    .dataframe tbody tr th:only-of-type {\n",
       "        vertical-align: middle;\n",
       "    }\n",
       "\n",
       "    .dataframe tbody tr th {\n",
       "        vertical-align: top;\n",
       "    }\n",
       "\n",
       "    .dataframe thead th {\n",
       "        text-align: right;\n",
       "    }\n",
       "</style>\n",
       "<table border=\"1\" class=\"dataframe\">\n",
       "  <thead>\n",
       "    <tr style=\"text-align: right;\">\n",
       "      <th></th>\n",
       "      <th>0</th>\n",
       "      <th>1</th>\n",
       "      <th>2</th>\n",
       "      <th>3</th>\n",
       "      <th>4</th>\n",
       "      <th>5</th>\n",
       "    </tr>\n",
       "  </thead>\n",
       "  <tbody>\n",
       "    <tr>\n",
       "      <th>0</th>\n",
       "      <td>0.542852</td>\n",
       "      <td>0.302081</td>\n",
       "      <td>0.461033</td>\n",
       "      <td>0.212910</td>\n",
       "      <td>0.685985</td>\n",
       "      <td>0.901183</td>\n",
       "    </tr>\n",
       "    <tr>\n",
       "      <th>1</th>\n",
       "      <td>0.031905</td>\n",
       "      <td>0.708537</td>\n",
       "      <td>0.621902</td>\n",
       "      <td>0.455636</td>\n",
       "      <td>0.821668</td>\n",
       "      <td>0.712625</td>\n",
       "    </tr>\n",
       "    <tr>\n",
       "      <th>2</th>\n",
       "      <td>0.089212</td>\n",
       "      <td>0.916271</td>\n",
       "      <td>0.582801</td>\n",
       "      <td>0.543488</td>\n",
       "      <td>0.614283</td>\n",
       "      <td>0.767441</td>\n",
       "    </tr>\n",
       "    <tr>\n",
       "      <th>3</th>\n",
       "      <td>0.534970</td>\n",
       "      <td>0.004584</td>\n",
       "      <td>0.420170</td>\n",
       "      <td>0.670182</td>\n",
       "      <td>0.519374</td>\n",
       "      <td>0.124350</td>\n",
       "    </tr>\n",
       "    <tr>\n",
       "      <th>4</th>\n",
       "      <td>0.145144</td>\n",
       "      <td>0.696913</td>\n",
       "      <td>0.933423</td>\n",
       "      <td>0.362984</td>\n",
       "      <td>0.728647</td>\n",
       "      <td>0.166713</td>\n",
       "    </tr>\n",
       "    <tr>\n",
       "      <th>5</th>\n",
       "      <td>0.070448</td>\n",
       "      <td>0.315813</td>\n",
       "      <td>0.509882</td>\n",
       "      <td>0.993515</td>\n",
       "      <td>0.246582</td>\n",
       "      <td>0.596450</td>\n",
       "    </tr>\n",
       "    <tr>\n",
       "      <th>6</th>\n",
       "      <td>0.125197</td>\n",
       "      <td>0.420289</td>\n",
       "      <td>0.315196</td>\n",
       "      <td>0.490520</td>\n",
       "      <td>0.880686</td>\n",
       "      <td>0.729361</td>\n",
       "    </tr>\n",
       "    <tr>\n",
       "      <th>7</th>\n",
       "      <td>0.636845</td>\n",
       "      <td>0.352511</td>\n",
       "      <td>0.047024</td>\n",
       "      <td>0.698556</td>\n",
       "      <td>0.953765</td>\n",
       "      <td>0.651883</td>\n",
       "    </tr>\n",
       "  </tbody>\n",
       "</table>\n",
       "</div>"
      ],
      "text/plain": [
       "          0         1         2         3         4         5\n",
       "0  0.542852  0.302081  0.461033  0.212910  0.685985  0.901183\n",
       "1  0.031905  0.708537  0.621902  0.455636  0.821668  0.712625\n",
       "2  0.089212  0.916271  0.582801  0.543488  0.614283  0.767441\n",
       "3  0.534970  0.004584  0.420170  0.670182  0.519374  0.124350\n",
       "4  0.145144  0.696913  0.933423  0.362984  0.728647  0.166713\n",
       "5  0.070448  0.315813  0.509882  0.993515  0.246582  0.596450\n",
       "6  0.125197  0.420289  0.315196  0.490520  0.880686  0.729361\n",
       "7  0.636845  0.352511  0.047024  0.698556  0.953765  0.651883"
      ]
     },
     "execution_count": 40,
     "metadata": {},
     "output_type": "execute_result"
    }
   ],
   "source": [
    "newdf.head(8)"
   ]
  },
  {
   "cell_type": "code",
   "execution_count": 41,
   "id": "038f422a",
   "metadata": {},
   "outputs": [
    {
     "data": {
      "text/html": [
       "<div>\n",
       "<style scoped>\n",
       "    .dataframe tbody tr th:only-of-type {\n",
       "        vertical-align: middle;\n",
       "    }\n",
       "\n",
       "    .dataframe tbody tr th {\n",
       "        vertical-align: top;\n",
       "    }\n",
       "\n",
       "    .dataframe thead th {\n",
       "        text-align: right;\n",
       "    }\n",
       "</style>\n",
       "<table border=\"1\" class=\"dataframe\">\n",
       "  <thead>\n",
       "    <tr style=\"text-align: right;\">\n",
       "      <th></th>\n",
       "      <th>0</th>\n",
       "      <th>1</th>\n",
       "      <th>2</th>\n",
       "      <th>3</th>\n",
       "      <th>4</th>\n",
       "      <th>5</th>\n",
       "    </tr>\n",
       "  </thead>\n",
       "  <tbody>\n",
       "    <tr>\n",
       "      <th>292</th>\n",
       "      <td>0.927081</td>\n",
       "      <td>0.099309</td>\n",
       "      <td>0.745494</td>\n",
       "      <td>0.054713</td>\n",
       "      <td>0.649648</td>\n",
       "      <td>0.267233</td>\n",
       "    </tr>\n",
       "    <tr>\n",
       "      <th>293</th>\n",
       "      <td>0.711462</td>\n",
       "      <td>0.950505</td>\n",
       "      <td>0.285379</td>\n",
       "      <td>0.382816</td>\n",
       "      <td>0.718407</td>\n",
       "      <td>0.034530</td>\n",
       "    </tr>\n",
       "    <tr>\n",
       "      <th>294</th>\n",
       "      <td>0.333234</td>\n",
       "      <td>0.761091</td>\n",
       "      <td>0.355216</td>\n",
       "      <td>0.817844</td>\n",
       "      <td>0.532133</td>\n",
       "      <td>0.638723</td>\n",
       "    </tr>\n",
       "    <tr>\n",
       "      <th>295</th>\n",
       "      <td>0.807092</td>\n",
       "      <td>0.730131</td>\n",
       "      <td>0.002979</td>\n",
       "      <td>0.154867</td>\n",
       "      <td>0.776241</td>\n",
       "      <td>0.116238</td>\n",
       "    </tr>\n",
       "    <tr>\n",
       "      <th>296</th>\n",
       "      <td>0.155191</td>\n",
       "      <td>0.857200</td>\n",
       "      <td>0.146372</td>\n",
       "      <td>0.543077</td>\n",
       "      <td>0.640962</td>\n",
       "      <td>0.300089</td>\n",
       "    </tr>\n",
       "    <tr>\n",
       "      <th>297</th>\n",
       "      <td>0.607727</td>\n",
       "      <td>0.657847</td>\n",
       "      <td>0.194611</td>\n",
       "      <td>0.551244</td>\n",
       "      <td>0.531439</td>\n",
       "      <td>0.234583</td>\n",
       "    </tr>\n",
       "    <tr>\n",
       "      <th>298</th>\n",
       "      <td>0.057981</td>\n",
       "      <td>0.019169</td>\n",
       "      <td>0.202191</td>\n",
       "      <td>0.508309</td>\n",
       "      <td>0.544723</td>\n",
       "      <td>0.329895</td>\n",
       "    </tr>\n",
       "    <tr>\n",
       "      <th>299</th>\n",
       "      <td>0.030219</td>\n",
       "      <td>0.927459</td>\n",
       "      <td>0.683445</td>\n",
       "      <td>0.475373</td>\n",
       "      <td>0.093970</td>\n",
       "      <td>0.959105</td>\n",
       "    </tr>\n",
       "  </tbody>\n",
       "</table>\n",
       "</div>"
      ],
      "text/plain": [
       "            0         1         2         3         4         5\n",
       "292  0.927081  0.099309  0.745494  0.054713  0.649648  0.267233\n",
       "293  0.711462  0.950505  0.285379  0.382816  0.718407  0.034530\n",
       "294  0.333234  0.761091  0.355216  0.817844  0.532133  0.638723\n",
       "295  0.807092  0.730131  0.002979  0.154867  0.776241  0.116238\n",
       "296  0.155191  0.857200  0.146372  0.543077  0.640962  0.300089\n",
       "297  0.607727  0.657847  0.194611  0.551244  0.531439  0.234583\n",
       "298  0.057981  0.019169  0.202191  0.508309  0.544723  0.329895\n",
       "299  0.030219  0.927459  0.683445  0.475373  0.093970  0.959105"
      ]
     },
     "execution_count": 41,
     "metadata": {},
     "output_type": "execute_result"
    }
   ],
   "source": [
    "newdf.tail(8)"
   ]
  },
  {
   "cell_type": "code",
   "execution_count": 42,
   "id": "639a8480",
   "metadata": {},
   "outputs": [
    {
     "data": {
      "text/plain": [
       "0    float64\n",
       "1    float64\n",
       "2    float64\n",
       "3    float64\n",
       "4    float64\n",
       "5    float64\n",
       "dtype: object"
      ]
     },
     "execution_count": 42,
     "metadata": {},
     "output_type": "execute_result"
    }
   ],
   "source": [
    "newdf.dtypes"
   ]
  },
  {
   "cell_type": "code",
   "execution_count": 43,
   "id": "f0f71b9c",
   "metadata": {},
   "outputs": [
    {
     "data": {
      "text/plain": [
       "0.2428458499674636"
      ]
     },
     "execution_count": 43,
     "metadata": {},
     "output_type": "execute_result"
    }
   ],
   "source": [
    "newdf[5][115] #"
   ]
  },
  {
   "cell_type": "code",
   "execution_count": 50,
   "id": "6e0ba8da",
   "metadata": {},
   "outputs": [],
   "source": [
    "# mutating the data-frame, raises a warning though\n",
    "newdf[5][3] = \"Hii\"\n",
    "newdf[1][1] = \"Tq\""
   ]
  },
  {
   "cell_type": "code",
   "execution_count": 51,
   "id": "e1cd3b7a",
   "metadata": {},
   "outputs": [
    {
     "data": {
      "text/html": [
       "<div>\n",
       "<style scoped>\n",
       "    .dataframe tbody tr th:only-of-type {\n",
       "        vertical-align: middle;\n",
       "    }\n",
       "\n",
       "    .dataframe tbody tr th {\n",
       "        vertical-align: top;\n",
       "    }\n",
       "\n",
       "    .dataframe thead th {\n",
       "        text-align: right;\n",
       "    }\n",
       "</style>\n",
       "<table border=\"1\" class=\"dataframe\">\n",
       "  <thead>\n",
       "    <tr style=\"text-align: right;\">\n",
       "      <th></th>\n",
       "      <th>0</th>\n",
       "      <th>1</th>\n",
       "      <th>2</th>\n",
       "      <th>3</th>\n",
       "      <th>4</th>\n",
       "      <th>5</th>\n",
       "    </tr>\n",
       "  </thead>\n",
       "  <tbody>\n",
       "    <tr>\n",
       "      <th>0</th>\n",
       "      <td>0.542852</td>\n",
       "      <td>0.302081</td>\n",
       "      <td>0.461033</td>\n",
       "      <td>0.212910</td>\n",
       "      <td>0.685985</td>\n",
       "      <td>0.901183</td>\n",
       "    </tr>\n",
       "    <tr>\n",
       "      <th>1</th>\n",
       "      <td>0.031905</td>\n",
       "      <td>Tq</td>\n",
       "      <td>0.621902</td>\n",
       "      <td>0.455636</td>\n",
       "      <td>0.821668</td>\n",
       "      <td>0.712625</td>\n",
       "    </tr>\n",
       "    <tr>\n",
       "      <th>2</th>\n",
       "      <td>0.089212</td>\n",
       "      <td>0.916271</td>\n",
       "      <td>0.582801</td>\n",
       "      <td>0.543488</td>\n",
       "      <td>0.614283</td>\n",
       "      <td>0.767441</td>\n",
       "    </tr>\n",
       "    <tr>\n",
       "      <th>3</th>\n",
       "      <td>0.534970</td>\n",
       "      <td>0.004584</td>\n",
       "      <td>0.420170</td>\n",
       "      <td>0.670182</td>\n",
       "      <td>0.519374</td>\n",
       "      <td>Hii</td>\n",
       "    </tr>\n",
       "    <tr>\n",
       "      <th>4</th>\n",
       "      <td>0.145144</td>\n",
       "      <td>0.696913</td>\n",
       "      <td>0.933423</td>\n",
       "      <td>0.362984</td>\n",
       "      <td>0.728647</td>\n",
       "      <td>0.166713</td>\n",
       "    </tr>\n",
       "    <tr>\n",
       "      <th>...</th>\n",
       "      <td>...</td>\n",
       "      <td>...</td>\n",
       "      <td>...</td>\n",
       "      <td>...</td>\n",
       "      <td>...</td>\n",
       "      <td>...</td>\n",
       "    </tr>\n",
       "    <tr>\n",
       "      <th>295</th>\n",
       "      <td>0.807092</td>\n",
       "      <td>0.730131</td>\n",
       "      <td>0.002979</td>\n",
       "      <td>0.154867</td>\n",
       "      <td>0.776241</td>\n",
       "      <td>0.116238</td>\n",
       "    </tr>\n",
       "    <tr>\n",
       "      <th>296</th>\n",
       "      <td>0.155191</td>\n",
       "      <td>0.8572</td>\n",
       "      <td>0.146372</td>\n",
       "      <td>0.543077</td>\n",
       "      <td>0.640962</td>\n",
       "      <td>0.300089</td>\n",
       "    </tr>\n",
       "    <tr>\n",
       "      <th>297</th>\n",
       "      <td>0.607727</td>\n",
       "      <td>0.657847</td>\n",
       "      <td>0.194611</td>\n",
       "      <td>0.551244</td>\n",
       "      <td>0.531439</td>\n",
       "      <td>0.234583</td>\n",
       "    </tr>\n",
       "    <tr>\n",
       "      <th>298</th>\n",
       "      <td>0.057981</td>\n",
       "      <td>0.019169</td>\n",
       "      <td>0.202191</td>\n",
       "      <td>0.508309</td>\n",
       "      <td>0.544723</td>\n",
       "      <td>0.329895</td>\n",
       "    </tr>\n",
       "    <tr>\n",
       "      <th>299</th>\n",
       "      <td>0.030219</td>\n",
       "      <td>0.927459</td>\n",
       "      <td>0.683445</td>\n",
       "      <td>0.475373</td>\n",
       "      <td>0.093970</td>\n",
       "      <td>0.959105</td>\n",
       "    </tr>\n",
       "  </tbody>\n",
       "</table>\n",
       "<p>300 rows × 6 columns</p>\n",
       "</div>"
      ],
      "text/plain": [
       "            0         1         2         3         4         5\n",
       "0    0.542852  0.302081  0.461033  0.212910  0.685985  0.901183\n",
       "1    0.031905        Tq  0.621902  0.455636  0.821668  0.712625\n",
       "2    0.089212  0.916271  0.582801  0.543488  0.614283  0.767441\n",
       "3    0.534970  0.004584  0.420170  0.670182  0.519374       Hii\n",
       "4    0.145144  0.696913  0.933423  0.362984  0.728647  0.166713\n",
       "..        ...       ...       ...       ...       ...       ...\n",
       "295  0.807092  0.730131  0.002979  0.154867  0.776241  0.116238\n",
       "296  0.155191    0.8572  0.146372  0.543077  0.640962  0.300089\n",
       "297  0.607727  0.657847  0.194611  0.551244  0.531439  0.234583\n",
       "298  0.057981  0.019169  0.202191  0.508309  0.544723  0.329895\n",
       "299  0.030219  0.927459  0.683445  0.475373  0.093970  0.959105\n",
       "\n",
       "[300 rows x 6 columns]"
      ]
     },
     "execution_count": 51,
     "metadata": {},
     "output_type": "execute_result"
    }
   ],
   "source": [
    "newdf"
   ]
  },
  {
   "cell_type": "code",
   "execution_count": 48,
   "id": "e2312d0d",
   "metadata": {},
   "outputs": [
    {
     "data": {
      "text/plain": [
       "0    float64\n",
       "1     object\n",
       "2    float64\n",
       "3    float64\n",
       "4    float64\n",
       "5     object\n",
       "dtype: object"
      ]
     },
     "execution_count": 48,
     "metadata": {},
     "output_type": "execute_result"
    }
   ],
   "source": [
    "newdf.dtypes"
   ]
  },
  {
   "cell_type": "code",
   "execution_count": null,
   "id": "adf4401f",
   "metadata": {},
   "outputs": [],
   "source": []
  }
 ],
 "metadata": {
  "kernelspec": {
   "display_name": "Python 3 (ipykernel)",
   "language": "python",
   "name": "python3"
  },
  "language_info": {
   "codemirror_mode": {
    "name": "ipython",
    "version": 3
   },
   "file_extension": ".py",
   "mimetype": "text/x-python",
   "name": "python",
   "nbconvert_exporter": "python",
   "pygments_lexer": "ipython3",
   "version": "3.10.6"
  }
 },
 "nbformat": 4,
 "nbformat_minor": 5
}
