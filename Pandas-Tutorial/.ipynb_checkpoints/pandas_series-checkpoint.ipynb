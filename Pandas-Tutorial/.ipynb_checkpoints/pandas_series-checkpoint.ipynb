{
 "cells": [
  {
   "cell_type": "code",
   "execution_count": 1,
   "id": "ac422c50",
   "metadata": {},
   "outputs": [],
   "source": [
    "import numpy as np\n",
    "import pandas as pd"
   ]
  },
  {
   "cell_type": "code",
   "execution_count": 2,
   "id": "1d9bf2a3",
   "metadata": {},
   "outputs": [],
   "source": [
    "# creating a pandas series from a simple list"
   ]
  },
  {
   "cell_type": "code",
   "execution_count": 3,
   "id": "635678df",
   "metadata": {},
   "outputs": [],
   "source": [
    "sci_consts = [ 3.14, 2.718, 6.69, 2.999 ]"
   ]
  },
  {
   "cell_type": "code",
   "execution_count": 4,
   "id": "81eb4ec2",
   "metadata": {},
   "outputs": [
    {
     "data": {
      "text/plain": [
       "list"
      ]
     },
     "execution_count": 4,
     "metadata": {},
     "output_type": "execute_result"
    }
   ],
   "source": [
    "type(sci_consts)"
   ]
  },
  {
   "cell_type": "code",
   "execution_count": 5,
   "id": "9b734c7f",
   "metadata": {},
   "outputs": [],
   "source": [
    "mysr = pd.Series(sci_consts) "
   ]
  },
  {
   "cell_type": "code",
   "execution_count": 6,
   "id": "c3984a23",
   "metadata": {},
   "outputs": [
    {
     "data": {
      "text/plain": [
       "0    3.140\n",
       "1    2.718\n",
       "2    6.690\n",
       "3    2.999\n",
       "dtype: float64"
      ]
     },
     "execution_count": 6,
     "metadata": {},
     "output_type": "execute_result"
    }
   ],
   "source": [
    "mysr"
   ]
  },
  {
   "cell_type": "code",
   "execution_count": 7,
   "id": "0b863db6",
   "metadata": {},
   "outputs": [],
   "source": [
    "digits = [0,1,2,3,4,5,6,7,8,9]"
   ]
  },
  {
   "cell_type": "code",
   "execution_count": 8,
   "id": "30dea7c4",
   "metadata": {},
   "outputs": [
    {
     "data": {
      "text/plain": [
       "0    0\n",
       "1    1\n",
       "2    2\n",
       "3    3\n",
       "4    4\n",
       "5    5\n",
       "6    6\n",
       "7    7\n",
       "8    8\n",
       "9    9\n",
       "dtype: int64"
      ]
     },
     "execution_count": 8,
     "metadata": {},
     "output_type": "execute_result"
    }
   ],
   "source": [
    "pd.Series(digits)"
   ]
  },
  {
   "cell_type": "code",
   "execution_count": 9,
   "id": "f05fbadd",
   "metadata": {},
   "outputs": [],
   "source": [
    "# strings are considred as objects\n",
    "# even if one string present in list then whole list considered as object"
   ]
  },
  {
   "cell_type": "code",
   "execution_count": 10,
   "id": "25774af2",
   "metadata": {},
   "outputs": [],
   "source": [
    "names = [\"Hari\",\"Manu\",\"Abin\"]"
   ]
  },
  {
   "cell_type": "code",
   "execution_count": 11,
   "id": "8e57f9a4",
   "metadata": {},
   "outputs": [
    {
     "data": {
      "text/plain": [
       "0    Hari\n",
       "1    Manu\n",
       "2    Abin\n",
       "dtype: object"
      ]
     },
     "execution_count": 11,
     "metadata": {},
     "output_type": "execute_result"
    }
   ],
   "source": [
    "pd.Series(names)"
   ]
  },
  {
   "cell_type": "code",
   "execution_count": 12,
   "id": "d15e0e28",
   "metadata": {},
   "outputs": [],
   "source": [
    " # peresence of one float causes internal conversion to float "
   ]
  },
  {
   "cell_type": "code",
   "execution_count": 13,
   "id": "43bf9e1a",
   "metadata": {},
   "outputs": [],
   "source": [
    "mix1 = [0, 2, 3.23] # dtype: float64"
   ]
  },
  {
   "cell_type": "code",
   "execution_count": 14,
   "id": "0f99cd48",
   "metadata": {},
   "outputs": [
    {
     "data": {
      "text/plain": [
       "0    0.00\n",
       "1    2.00\n",
       "2    3.23\n",
       "dtype: float64"
      ]
     },
     "execution_count": 14,
     "metadata": {},
     "output_type": "execute_result"
    }
   ],
   "source": [
    "pd.Series(mix1) # by default the indexes will start from zero to n-1"
   ]
  },
  {
   "cell_type": "code",
   "execution_count": 15,
   "id": "6a36a720",
   "metadata": {},
   "outputs": [],
   "source": [
    "mix2 = [1,2,\"hi\"] # dtype: object"
   ]
  },
  {
   "cell_type": "code",
   "execution_count": 16,
   "id": "41b133aa",
   "metadata": {},
   "outputs": [
    {
     "data": {
      "text/plain": [
       "0     1\n",
       "1     2\n",
       "2    hi\n",
       "dtype: object"
      ]
     },
     "execution_count": 16,
     "metadata": {},
     "output_type": "execute_result"
    }
   ],
   "source": [
    "pd.Series(mix2)"
   ]
  },
  {
   "cell_type": "code",
   "execution_count": 17,
   "id": "99f2c535",
   "metadata": {},
   "outputs": [],
   "source": [
    "# creating an array of random numbers in range [0,1)"
   ]
  },
  {
   "cell_type": "code",
   "execution_count": 18,
   "id": "f97a6143",
   "metadata": {},
   "outputs": [],
   "source": [
    "random_nums = np.random.rand(15) "
   ]
  },
  {
   "cell_type": "code",
   "execution_count": 19,
   "id": "a6d842c4",
   "metadata": {},
   "outputs": [
    {
     "data": {
      "text/plain": [
       "array([0.68579972, 0.07325671, 0.88596614, 0.83348595, 0.88137266,\n",
       "       0.97247315, 0.98017449, 0.44363736, 0.15670654, 0.3923779 ,\n",
       "       0.58566698, 0.08138414, 0.0154109 , 0.99933282, 0.10093927])"
      ]
     },
     "execution_count": 19,
     "metadata": {},
     "output_type": "execute_result"
    }
   ],
   "source": [
    "random_nums"
   ]
  },
  {
   "cell_type": "code",
   "execution_count": 20,
   "id": "1180834d",
   "metadata": {},
   "outputs": [],
   "source": [
    "rand_series = pd.Series(random_nums)"
   ]
  },
  {
   "cell_type": "code",
   "execution_count": 21,
   "id": "21cf3729",
   "metadata": {},
   "outputs": [
    {
     "data": {
      "text/plain": [
       "0     0.685800\n",
       "1     0.073257\n",
       "2     0.885966\n",
       "3     0.833486\n",
       "4     0.881373\n",
       "5     0.972473\n",
       "6     0.980174\n",
       "7     0.443637\n",
       "8     0.156707\n",
       "9     0.392378\n",
       "10    0.585667\n",
       "11    0.081384\n",
       "12    0.015411\n",
       "13    0.999333\n",
       "14    0.100939\n",
       "dtype: float64"
      ]
     },
     "execution_count": 21,
     "metadata": {},
     "output_type": "execute_result"
    }
   ],
   "source": [
    "rand_series"
   ]
  },
  {
   "cell_type": "code",
   "execution_count": 22,
   "id": "e2f5f67a",
   "metadata": {},
   "outputs": [
    {
     "data": {
      "text/plain": [
       "pandas.core.series.Series"
      ]
     },
     "execution_count": 22,
     "metadata": {},
     "output_type": "execute_result"
    }
   ],
   "source": [
    "type(rand_series)"
   ]
  },
  {
   "cell_type": "code",
   "execution_count": 23,
   "id": "9b71670d",
   "metadata": {},
   "outputs": [],
   "source": [
    "myarr = np.arange(1,30+1).reshape(6,5) # an array having 1 to 30 numbers"
   ]
  },
  {
   "cell_type": "code",
   "execution_count": 24,
   "id": "5c2fb1b4",
   "metadata": {},
   "outputs": [
    {
     "data": {
      "text/plain": [
       "array([[ 1,  2,  3,  4,  5],\n",
       "       [ 6,  7,  8,  9, 10],\n",
       "       [11, 12, 13, 14, 15],\n",
       "       [16, 17, 18, 19, 20],\n",
       "       [21, 22, 23, 24, 25],\n",
       "       [26, 27, 28, 29, 30]])"
      ]
     },
     "execution_count": 24,
     "metadata": {},
     "output_type": "execute_result"
    }
   ],
   "source": [
    "myarr"
   ]
  },
  {
   "cell_type": "code",
   "execution_count": 25,
   "id": "b4547d0c",
   "metadata": {},
   "outputs": [
    {
     "data": {
      "text/plain": [
       "30"
      ]
     },
     "execution_count": 25,
     "metadata": {},
     "output_type": "execute_result"
    }
   ],
   "source": [
    "myarr.size"
   ]
  },
  {
   "cell_type": "code",
   "execution_count": 26,
   "id": "de219639",
   "metadata": {},
   "outputs": [
    {
     "data": {
      "text/plain": [
       "(6, 5)"
      ]
     },
     "execution_count": 26,
     "metadata": {},
     "output_type": "execute_result"
    }
   ],
   "source": [
    "myarr.shape"
   ]
  },
  {
   "cell_type": "code",
   "execution_count": 27,
   "id": "0048ff95",
   "metadata": {},
   "outputs": [],
   "source": [
    "mydf = pd.DataFrame(myarr, index = range(6)) "
   ]
  },
  {
   "cell_type": "code",
   "execution_count": 28,
   "id": "c91d0a11",
   "metadata": {},
   "outputs": [
    {
     "data": {
      "text/html": [
       "<div>\n",
       "<style scoped>\n",
       "    .dataframe tbody tr th:only-of-type {\n",
       "        vertical-align: middle;\n",
       "    }\n",
       "\n",
       "    .dataframe tbody tr th {\n",
       "        vertical-align: top;\n",
       "    }\n",
       "\n",
       "    .dataframe thead th {\n",
       "        text-align: right;\n",
       "    }\n",
       "</style>\n",
       "<table border=\"1\" class=\"dataframe\">\n",
       "  <thead>\n",
       "    <tr style=\"text-align: right;\">\n",
       "      <th></th>\n",
       "      <th>0</th>\n",
       "      <th>1</th>\n",
       "      <th>2</th>\n",
       "      <th>3</th>\n",
       "      <th>4</th>\n",
       "    </tr>\n",
       "  </thead>\n",
       "  <tbody>\n",
       "    <tr>\n",
       "      <th>0</th>\n",
       "      <td>1</td>\n",
       "      <td>2</td>\n",
       "      <td>3</td>\n",
       "      <td>4</td>\n",
       "      <td>5</td>\n",
       "    </tr>\n",
       "    <tr>\n",
       "      <th>1</th>\n",
       "      <td>6</td>\n",
       "      <td>7</td>\n",
       "      <td>8</td>\n",
       "      <td>9</td>\n",
       "      <td>10</td>\n",
       "    </tr>\n",
       "    <tr>\n",
       "      <th>2</th>\n",
       "      <td>11</td>\n",
       "      <td>12</td>\n",
       "      <td>13</td>\n",
       "      <td>14</td>\n",
       "      <td>15</td>\n",
       "    </tr>\n",
       "    <tr>\n",
       "      <th>3</th>\n",
       "      <td>16</td>\n",
       "      <td>17</td>\n",
       "      <td>18</td>\n",
       "      <td>19</td>\n",
       "      <td>20</td>\n",
       "    </tr>\n",
       "    <tr>\n",
       "      <th>4</th>\n",
       "      <td>21</td>\n",
       "      <td>22</td>\n",
       "      <td>23</td>\n",
       "      <td>24</td>\n",
       "      <td>25</td>\n",
       "    </tr>\n",
       "    <tr>\n",
       "      <th>5</th>\n",
       "      <td>26</td>\n",
       "      <td>27</td>\n",
       "      <td>28</td>\n",
       "      <td>29</td>\n",
       "      <td>30</td>\n",
       "    </tr>\n",
       "  </tbody>\n",
       "</table>\n",
       "</div>"
      ],
      "text/plain": [
       "    0   1   2   3   4\n",
       "0   1   2   3   4   5\n",
       "1   6   7   8   9  10\n",
       "2  11  12  13  14  15\n",
       "3  16  17  18  19  20\n",
       "4  21  22  23  24  25\n",
       "5  26  27  28  29  30"
      ]
     },
     "execution_count": 28,
     "metadata": {},
     "output_type": "execute_result"
    }
   ],
   "source": [
    "mydf"
   ]
  },
  {
   "cell_type": "code",
   "execution_count": 29,
   "id": "1b144c56",
   "metadata": {},
   "outputs": [
    {
     "data": {
      "text/plain": [
       "array([0.1, 0.2, 0.3, 0.4, 0.5, 0.6, 0.7, 0.8, 0.9, 1. ])"
      ]
     },
     "execution_count": 29,
     "metadata": {},
     "output_type": "execute_result"
    }
   ],
   "source": [
    "np.linspace(0.1,1,10)"
   ]
  },
  {
   "cell_type": "code",
   "execution_count": 30,
   "id": "55d8e03b",
   "metadata": {},
   "outputs": [
    {
     "data": {
      "text/plain": [
       "'index = np.linspace(0.1,0.5,5)'"
      ]
     },
     "execution_count": 30,
     "metadata": {},
     "output_type": "execute_result"
    }
   ],
   "source": [
    "\"\"\"index = np.linspace(0.1,0.5,5)\"\"\" "
   ]
  },
  {
   "cell_type": "code",
   "execution_count": 31,
   "id": "ae912940",
   "metadata": {},
   "outputs": [],
   "source": [
    "testdf = pd.DataFrame(np.empty((9,5),dtype=int), index = np.linspace(0.2, 1.8, 9))"
   ]
  },
  {
   "cell_type": "code",
   "execution_count": 32,
   "id": "6ecd8f21",
   "metadata": {},
   "outputs": [],
   "source": [
    "testdf.columns = (\"A\",\"B\",\"C\",\"D\",\"E\") # changing the index of the columns"
   ]
  },
  {
   "cell_type": "code",
   "execution_count": 33,
   "id": "2b0523b2",
   "metadata": {},
   "outputs": [
    {
     "data": {
      "text/html": [
       "<div>\n",
       "<style scoped>\n",
       "    .dataframe tbody tr th:only-of-type {\n",
       "        vertical-align: middle;\n",
       "    }\n",
       "\n",
       "    .dataframe tbody tr th {\n",
       "        vertical-align: top;\n",
       "    }\n",
       "\n",
       "    .dataframe thead th {\n",
       "        text-align: right;\n",
       "    }\n",
       "</style>\n",
       "<table border=\"1\" class=\"dataframe\">\n",
       "  <thead>\n",
       "    <tr style=\"text-align: right;\">\n",
       "      <th></th>\n",
       "      <th>A</th>\n",
       "      <th>B</th>\n",
       "      <th>C</th>\n",
       "      <th>D</th>\n",
       "      <th>E</th>\n",
       "    </tr>\n",
       "  </thead>\n",
       "  <tbody>\n",
       "    <tr>\n",
       "      <th>0.2</th>\n",
       "      <td>94289272241000</td>\n",
       "      <td>0</td>\n",
       "      <td>139803135610416</td>\n",
       "      <td>139803135411952</td>\n",
       "      <td>139803113652528</td>\n",
       "    </tr>\n",
       "    <tr>\n",
       "      <th>0.4</th>\n",
       "      <td>139803113467008</td>\n",
       "      <td>139803134826224</td>\n",
       "      <td>139803113652672</td>\n",
       "      <td>139803135006832</td>\n",
       "      <td>139803134833008</td>\n",
       "    </tr>\n",
       "    <tr>\n",
       "      <th>0.6</th>\n",
       "      <td>139803113652784</td>\n",
       "      <td>139803113652976</td>\n",
       "      <td>139803113653232</td>\n",
       "      <td>139803113653424</td>\n",
       "      <td>139803113641008</td>\n",
       "    </tr>\n",
       "    <tr>\n",
       "      <th>0.8</th>\n",
       "      <td>139803135136880</td>\n",
       "      <td>139803135788528</td>\n",
       "      <td>139803113653744</td>\n",
       "      <td>139803113653808</td>\n",
       "      <td>139803124634800</td>\n",
       "    </tr>\n",
       "    <tr>\n",
       "      <th>1.0</th>\n",
       "      <td>139803113654000</td>\n",
       "      <td>139803113654064</td>\n",
       "      <td>139803113654320</td>\n",
       "      <td>139803113654400</td>\n",
       "      <td>139803134825456</td>\n",
       "    </tr>\n",
       "    <tr>\n",
       "      <th>1.2</th>\n",
       "      <td>139803134831600</td>\n",
       "      <td>139803134825520</td>\n",
       "      <td>139803134825584</td>\n",
       "      <td>139803134825648</td>\n",
       "      <td>139803134825392</td>\n",
       "    </tr>\n",
       "    <tr>\n",
       "      <th>1.4</th>\n",
       "      <td>139803134515696</td>\n",
       "      <td>139803134104560</td>\n",
       "      <td>139803134821552</td>\n",
       "      <td>139803135133680</td>\n",
       "      <td>139803134787760</td>\n",
       "    </tr>\n",
       "    <tr>\n",
       "      <th>1.6</th>\n",
       "      <td>139803133890480</td>\n",
       "      <td>139803134584880</td>\n",
       "      <td>139803114847792</td>\n",
       "      <td>139803135411120</td>\n",
       "      <td>139803135406960</td>\n",
       "    </tr>\n",
       "    <tr>\n",
       "      <th>1.8</th>\n",
       "      <td>139803135260720</td>\n",
       "      <td>139803134832688</td>\n",
       "      <td>139803135144880</td>\n",
       "      <td>139803134834224</td>\n",
       "      <td>368</td>\n",
       "    </tr>\n",
       "  </tbody>\n",
       "</table>\n",
       "</div>"
      ],
      "text/plain": [
       "                   A                B                C                D  \\\n",
       "0.2   94289272241000                0  139803135610416  139803135411952   \n",
       "0.4  139803113467008  139803134826224  139803113652672  139803135006832   \n",
       "0.6  139803113652784  139803113652976  139803113653232  139803113653424   \n",
       "0.8  139803135136880  139803135788528  139803113653744  139803113653808   \n",
       "1.0  139803113654000  139803113654064  139803113654320  139803113654400   \n",
       "1.2  139803134831600  139803134825520  139803134825584  139803134825648   \n",
       "1.4  139803134515696  139803134104560  139803134821552  139803135133680   \n",
       "1.6  139803133890480  139803134584880  139803114847792  139803135411120   \n",
       "1.8  139803135260720  139803134832688  139803135144880  139803134834224   \n",
       "\n",
       "                   E  \n",
       "0.2  139803113652528  \n",
       "0.4  139803134833008  \n",
       "0.6  139803113641008  \n",
       "0.8  139803124634800  \n",
       "1.0  139803134825456  \n",
       "1.2  139803134825392  \n",
       "1.4  139803134787760  \n",
       "1.6  139803135406960  \n",
       "1.8              368  "
      ]
     },
     "execution_count": 33,
     "metadata": {},
     "output_type": "execute_result"
    }
   ],
   "source": [
    "testdf"
   ]
  },
  {
   "cell_type": "code",
   "execution_count": 34,
   "id": "52bf5a9f",
   "metadata": {},
   "outputs": [],
   "source": [
    "# Acessing the values"
   ]
  },
  {
   "cell_type": "code",
   "execution_count": 35,
   "id": "4237def8",
   "metadata": {},
   "outputs": [
    {
     "data": {
      "text/plain": [
       "139803113467008"
      ]
     },
     "execution_count": 35,
     "metadata": {},
     "output_type": "execute_result"
    }
   ],
   "source": [
    "testdf['A'][0.4]"
   ]
  },
  {
   "cell_type": "code",
   "execution_count": 36,
   "id": "3930872e",
   "metadata": {},
   "outputs": [
    {
     "data": {
      "text/html": [
       "<div>\n",
       "<style scoped>\n",
       "    .dataframe tbody tr th:only-of-type {\n",
       "        vertical-align: middle;\n",
       "    }\n",
       "\n",
       "    .dataframe tbody tr th {\n",
       "        vertical-align: top;\n",
       "    }\n",
       "\n",
       "    .dataframe thead th {\n",
       "        text-align: right;\n",
       "    }\n",
       "</style>\n",
       "<table border=\"1\" class=\"dataframe\">\n",
       "  <thead>\n",
       "    <tr style=\"text-align: right;\">\n",
       "      <th></th>\n",
       "      <th>0.2</th>\n",
       "      <th>0.4</th>\n",
       "      <th>0.6</th>\n",
       "      <th>0.8</th>\n",
       "      <th>1.0</th>\n",
       "      <th>1.2</th>\n",
       "      <th>1.4</th>\n",
       "      <th>1.6</th>\n",
       "      <th>1.8</th>\n",
       "    </tr>\n",
       "  </thead>\n",
       "  <tbody>\n",
       "    <tr>\n",
       "      <th>A</th>\n",
       "      <td>94289272241000</td>\n",
       "      <td>139803113467008</td>\n",
       "      <td>139803113652784</td>\n",
       "      <td>139803135136880</td>\n",
       "      <td>139803113654000</td>\n",
       "      <td>139803134831600</td>\n",
       "      <td>139803134515696</td>\n",
       "      <td>139803133890480</td>\n",
       "      <td>139803135260720</td>\n",
       "    </tr>\n",
       "    <tr>\n",
       "      <th>B</th>\n",
       "      <td>0</td>\n",
       "      <td>139803134826224</td>\n",
       "      <td>139803113652976</td>\n",
       "      <td>139803135788528</td>\n",
       "      <td>139803113654064</td>\n",
       "      <td>139803134825520</td>\n",
       "      <td>139803134104560</td>\n",
       "      <td>139803134584880</td>\n",
       "      <td>139803134832688</td>\n",
       "    </tr>\n",
       "    <tr>\n",
       "      <th>C</th>\n",
       "      <td>139803135610416</td>\n",
       "      <td>139803113652672</td>\n",
       "      <td>139803113653232</td>\n",
       "      <td>139803113653744</td>\n",
       "      <td>139803113654320</td>\n",
       "      <td>139803134825584</td>\n",
       "      <td>139803134821552</td>\n",
       "      <td>139803114847792</td>\n",
       "      <td>139803135144880</td>\n",
       "    </tr>\n",
       "    <tr>\n",
       "      <th>D</th>\n",
       "      <td>139803135411952</td>\n",
       "      <td>139803135006832</td>\n",
       "      <td>139803113653424</td>\n",
       "      <td>139803113653808</td>\n",
       "      <td>139803113654400</td>\n",
       "      <td>139803134825648</td>\n",
       "      <td>139803135133680</td>\n",
       "      <td>139803135411120</td>\n",
       "      <td>139803134834224</td>\n",
       "    </tr>\n",
       "    <tr>\n",
       "      <th>E</th>\n",
       "      <td>139803113652528</td>\n",
       "      <td>139803134833008</td>\n",
       "      <td>139803113641008</td>\n",
       "      <td>139803124634800</td>\n",
       "      <td>139803134825456</td>\n",
       "      <td>139803134825392</td>\n",
       "      <td>139803134787760</td>\n",
       "      <td>139803135406960</td>\n",
       "      <td>368</td>\n",
       "    </tr>\n",
       "  </tbody>\n",
       "</table>\n",
       "</div>"
      ],
      "text/plain": [
       "               0.2              0.4              0.6              0.8  \\\n",
       "A   94289272241000  139803113467008  139803113652784  139803135136880   \n",
       "B                0  139803134826224  139803113652976  139803135788528   \n",
       "C  139803135610416  139803113652672  139803113653232  139803113653744   \n",
       "D  139803135411952  139803135006832  139803113653424  139803113653808   \n",
       "E  139803113652528  139803134833008  139803113641008  139803124634800   \n",
       "\n",
       "               1.0              1.2              1.4              1.6  \\\n",
       "A  139803113654000  139803134831600  139803134515696  139803133890480   \n",
       "B  139803113654064  139803134825520  139803134104560  139803134584880   \n",
       "C  139803113654320  139803134825584  139803134821552  139803114847792   \n",
       "D  139803113654400  139803134825648  139803135133680  139803135411120   \n",
       "E  139803134825456  139803134825392  139803134787760  139803135406960   \n",
       "\n",
       "               1.8  \n",
       "A  139803135260720  \n",
       "B  139803134832688  \n",
       "C  139803135144880  \n",
       "D  139803134834224  \n",
       "E              368  "
      ]
     },
     "execution_count": 36,
     "metadata": {},
     "output_type": "execute_result"
    }
   ],
   "source": [
    "testdf.T # taking transpose of the dataframe"
   ]
  },
  {
   "cell_type": "code",
   "execution_count": 37,
   "id": "454e4a65",
   "metadata": {},
   "outputs": [],
   "source": [
    "newdf = pd.DataFrame(np.random.rand(300,6),index = np.arange(300))"
   ]
  },
  {
   "cell_type": "code",
   "execution_count": 38,
   "id": "e232ab80",
   "metadata": {},
   "outputs": [
    {
     "data": {
      "text/html": [
       "<div>\n",
       "<style scoped>\n",
       "    .dataframe tbody tr th:only-of-type {\n",
       "        vertical-align: middle;\n",
       "    }\n",
       "\n",
       "    .dataframe tbody tr th {\n",
       "        vertical-align: top;\n",
       "    }\n",
       "\n",
       "    .dataframe thead th {\n",
       "        text-align: right;\n",
       "    }\n",
       "</style>\n",
       "<table border=\"1\" class=\"dataframe\">\n",
       "  <thead>\n",
       "    <tr style=\"text-align: right;\">\n",
       "      <th></th>\n",
       "      <th>0</th>\n",
       "      <th>1</th>\n",
       "      <th>2</th>\n",
       "      <th>3</th>\n",
       "      <th>4</th>\n",
       "      <th>5</th>\n",
       "    </tr>\n",
       "  </thead>\n",
       "  <tbody>\n",
       "    <tr>\n",
       "      <th>0</th>\n",
       "      <td>0.357639</td>\n",
       "      <td>0.413809</td>\n",
       "      <td>0.914230</td>\n",
       "      <td>0.112138</td>\n",
       "      <td>0.180895</td>\n",
       "      <td>0.794762</td>\n",
       "    </tr>\n",
       "    <tr>\n",
       "      <th>1</th>\n",
       "      <td>0.549146</td>\n",
       "      <td>0.755584</td>\n",
       "      <td>0.333722</td>\n",
       "      <td>0.462887</td>\n",
       "      <td>0.818644</td>\n",
       "      <td>0.941976</td>\n",
       "    </tr>\n",
       "    <tr>\n",
       "      <th>2</th>\n",
       "      <td>0.053611</td>\n",
       "      <td>0.031760</td>\n",
       "      <td>0.142191</td>\n",
       "      <td>0.986711</td>\n",
       "      <td>0.317914</td>\n",
       "      <td>0.057681</td>\n",
       "    </tr>\n",
       "    <tr>\n",
       "      <th>3</th>\n",
       "      <td>0.539467</td>\n",
       "      <td>0.479716</td>\n",
       "      <td>0.623971</td>\n",
       "      <td>0.220219</td>\n",
       "      <td>0.043050</td>\n",
       "      <td>0.194866</td>\n",
       "    </tr>\n",
       "    <tr>\n",
       "      <th>4</th>\n",
       "      <td>0.952016</td>\n",
       "      <td>0.439789</td>\n",
       "      <td>0.496625</td>\n",
       "      <td>0.767611</td>\n",
       "      <td>0.196192</td>\n",
       "      <td>0.901185</td>\n",
       "    </tr>\n",
       "    <tr>\n",
       "      <th>...</th>\n",
       "      <td>...</td>\n",
       "      <td>...</td>\n",
       "      <td>...</td>\n",
       "      <td>...</td>\n",
       "      <td>...</td>\n",
       "      <td>...</td>\n",
       "    </tr>\n",
       "    <tr>\n",
       "      <th>295</th>\n",
       "      <td>0.316267</td>\n",
       "      <td>0.215729</td>\n",
       "      <td>0.820555</td>\n",
       "      <td>0.711764</td>\n",
       "      <td>0.423014</td>\n",
       "      <td>0.361745</td>\n",
       "    </tr>\n",
       "    <tr>\n",
       "      <th>296</th>\n",
       "      <td>0.379220</td>\n",
       "      <td>0.266539</td>\n",
       "      <td>0.360699</td>\n",
       "      <td>0.856993</td>\n",
       "      <td>0.292892</td>\n",
       "      <td>0.709032</td>\n",
       "    </tr>\n",
       "    <tr>\n",
       "      <th>297</th>\n",
       "      <td>0.659804</td>\n",
       "      <td>0.443282</td>\n",
       "      <td>0.526278</td>\n",
       "      <td>0.045622</td>\n",
       "      <td>0.851947</td>\n",
       "      <td>0.677020</td>\n",
       "    </tr>\n",
       "    <tr>\n",
       "      <th>298</th>\n",
       "      <td>0.101283</td>\n",
       "      <td>0.591223</td>\n",
       "      <td>0.651709</td>\n",
       "      <td>0.394781</td>\n",
       "      <td>0.287535</td>\n",
       "      <td>0.678117</td>\n",
       "    </tr>\n",
       "    <tr>\n",
       "      <th>299</th>\n",
       "      <td>0.018376</td>\n",
       "      <td>0.574222</td>\n",
       "      <td>0.948061</td>\n",
       "      <td>0.429952</td>\n",
       "      <td>0.568233</td>\n",
       "      <td>0.069313</td>\n",
       "    </tr>\n",
       "  </tbody>\n",
       "</table>\n",
       "<p>300 rows × 6 columns</p>\n",
       "</div>"
      ],
      "text/plain": [
       "            0         1         2         3         4         5\n",
       "0    0.357639  0.413809  0.914230  0.112138  0.180895  0.794762\n",
       "1    0.549146  0.755584  0.333722  0.462887  0.818644  0.941976\n",
       "2    0.053611  0.031760  0.142191  0.986711  0.317914  0.057681\n",
       "3    0.539467  0.479716  0.623971  0.220219  0.043050  0.194866\n",
       "4    0.952016  0.439789  0.496625  0.767611  0.196192  0.901185\n",
       "..        ...       ...       ...       ...       ...       ...\n",
       "295  0.316267  0.215729  0.820555  0.711764  0.423014  0.361745\n",
       "296  0.379220  0.266539  0.360699  0.856993  0.292892  0.709032\n",
       "297  0.659804  0.443282  0.526278  0.045622  0.851947  0.677020\n",
       "298  0.101283  0.591223  0.651709  0.394781  0.287535  0.678117\n",
       "299  0.018376  0.574222  0.948061  0.429952  0.568233  0.069313\n",
       "\n",
       "[300 rows x 6 columns]"
      ]
     },
     "execution_count": 38,
     "metadata": {},
     "output_type": "execute_result"
    }
   ],
   "source": [
    "newdf"
   ]
  },
  {
   "cell_type": "code",
   "execution_count": 39,
   "id": "e4a07cd8",
   "metadata": {},
   "outputs": [
    {
     "data": {
      "text/plain": [
       "pandas.core.frame.DataFrame"
      ]
     },
     "execution_count": 39,
     "metadata": {},
     "output_type": "execute_result"
    }
   ],
   "source": [
    "type(newdf)"
   ]
  },
  {
   "cell_type": "code",
   "execution_count": 40,
   "id": "77b1f824",
   "metadata": {},
   "outputs": [
    {
     "data": {
      "text/html": [
       "<div>\n",
       "<style scoped>\n",
       "    .dataframe tbody tr th:only-of-type {\n",
       "        vertical-align: middle;\n",
       "    }\n",
       "\n",
       "    .dataframe tbody tr th {\n",
       "        vertical-align: top;\n",
       "    }\n",
       "\n",
       "    .dataframe thead th {\n",
       "        text-align: right;\n",
       "    }\n",
       "</style>\n",
       "<table border=\"1\" class=\"dataframe\">\n",
       "  <thead>\n",
       "    <tr style=\"text-align: right;\">\n",
       "      <th></th>\n",
       "      <th>0</th>\n",
       "      <th>1</th>\n",
       "      <th>2</th>\n",
       "      <th>3</th>\n",
       "      <th>4</th>\n",
       "      <th>5</th>\n",
       "    </tr>\n",
       "  </thead>\n",
       "  <tbody>\n",
       "    <tr>\n",
       "      <th>count</th>\n",
       "      <td>300.000000</td>\n",
       "      <td>300.000000</td>\n",
       "      <td>300.000000</td>\n",
       "      <td>300.000000</td>\n",
       "      <td>300.000000</td>\n",
       "      <td>300.000000</td>\n",
       "    </tr>\n",
       "    <tr>\n",
       "      <th>mean</th>\n",
       "      <td>0.486330</td>\n",
       "      <td>0.486124</td>\n",
       "      <td>0.498493</td>\n",
       "      <td>0.510599</td>\n",
       "      <td>0.487709</td>\n",
       "      <td>0.483970</td>\n",
       "    </tr>\n",
       "    <tr>\n",
       "      <th>std</th>\n",
       "      <td>0.268055</td>\n",
       "      <td>0.291861</td>\n",
       "      <td>0.296479</td>\n",
       "      <td>0.282264</td>\n",
       "      <td>0.289278</td>\n",
       "      <td>0.281900</td>\n",
       "    </tr>\n",
       "    <tr>\n",
       "      <th>min</th>\n",
       "      <td>0.007088</td>\n",
       "      <td>0.002950</td>\n",
       "      <td>0.000165</td>\n",
       "      <td>0.001130</td>\n",
       "      <td>0.003485</td>\n",
       "      <td>0.011507</td>\n",
       "    </tr>\n",
       "    <tr>\n",
       "      <th>25%</th>\n",
       "      <td>0.267382</td>\n",
       "      <td>0.223942</td>\n",
       "      <td>0.232823</td>\n",
       "      <td>0.274848</td>\n",
       "      <td>0.244081</td>\n",
       "      <td>0.233065</td>\n",
       "    </tr>\n",
       "    <tr>\n",
       "      <th>50%</th>\n",
       "      <td>0.467757</td>\n",
       "      <td>0.489746</td>\n",
       "      <td>0.501046</td>\n",
       "      <td>0.539850</td>\n",
       "      <td>0.482044</td>\n",
       "      <td>0.488386</td>\n",
       "    </tr>\n",
       "    <tr>\n",
       "      <th>75%</th>\n",
       "      <td>0.703702</td>\n",
       "      <td>0.754868</td>\n",
       "      <td>0.753768</td>\n",
       "      <td>0.741595</td>\n",
       "      <td>0.744401</td>\n",
       "      <td>0.733402</td>\n",
       "    </tr>\n",
       "    <tr>\n",
       "      <th>max</th>\n",
       "      <td>0.999769</td>\n",
       "      <td>0.989640</td>\n",
       "      <td>0.996479</td>\n",
       "      <td>0.997351</td>\n",
       "      <td>0.991346</td>\n",
       "      <td>0.999086</td>\n",
       "    </tr>\n",
       "  </tbody>\n",
       "</table>\n",
       "</div>"
      ],
      "text/plain": [
       "                0           1           2           3           4           5\n",
       "count  300.000000  300.000000  300.000000  300.000000  300.000000  300.000000\n",
       "mean     0.486330    0.486124    0.498493    0.510599    0.487709    0.483970\n",
       "std      0.268055    0.291861    0.296479    0.282264    0.289278    0.281900\n",
       "min      0.007088    0.002950    0.000165    0.001130    0.003485    0.011507\n",
       "25%      0.267382    0.223942    0.232823    0.274848    0.244081    0.233065\n",
       "50%      0.467757    0.489746    0.501046    0.539850    0.482044    0.488386\n",
       "75%      0.703702    0.754868    0.753768    0.741595    0.744401    0.733402\n",
       "max      0.999769    0.989640    0.996479    0.997351    0.991346    0.999086"
      ]
     },
     "execution_count": 40,
     "metadata": {},
     "output_type": "execute_result"
    }
   ],
   "source": [
    "newdf.describe()"
   ]
  },
  {
   "cell_type": "code",
   "execution_count": 41,
   "id": "27650666",
   "metadata": {},
   "outputs": [
    {
     "data": {
      "text/html": [
       "<div>\n",
       "<style scoped>\n",
       "    .dataframe tbody tr th:only-of-type {\n",
       "        vertical-align: middle;\n",
       "    }\n",
       "\n",
       "    .dataframe tbody tr th {\n",
       "        vertical-align: top;\n",
       "    }\n",
       "\n",
       "    .dataframe thead th {\n",
       "        text-align: right;\n",
       "    }\n",
       "</style>\n",
       "<table border=\"1\" class=\"dataframe\">\n",
       "  <thead>\n",
       "    <tr style=\"text-align: right;\">\n",
       "      <th></th>\n",
       "      <th>0</th>\n",
       "      <th>1</th>\n",
       "      <th>2</th>\n",
       "      <th>3</th>\n",
       "      <th>4</th>\n",
       "      <th>5</th>\n",
       "    </tr>\n",
       "  </thead>\n",
       "  <tbody>\n",
       "    <tr>\n",
       "      <th>0</th>\n",
       "      <td>0.357639</td>\n",
       "      <td>0.413809</td>\n",
       "      <td>0.914230</td>\n",
       "      <td>0.112138</td>\n",
       "      <td>0.180895</td>\n",
       "      <td>0.794762</td>\n",
       "    </tr>\n",
       "    <tr>\n",
       "      <th>1</th>\n",
       "      <td>0.549146</td>\n",
       "      <td>0.755584</td>\n",
       "      <td>0.333722</td>\n",
       "      <td>0.462887</td>\n",
       "      <td>0.818644</td>\n",
       "      <td>0.941976</td>\n",
       "    </tr>\n",
       "    <tr>\n",
       "      <th>2</th>\n",
       "      <td>0.053611</td>\n",
       "      <td>0.031760</td>\n",
       "      <td>0.142191</td>\n",
       "      <td>0.986711</td>\n",
       "      <td>0.317914</td>\n",
       "      <td>0.057681</td>\n",
       "    </tr>\n",
       "    <tr>\n",
       "      <th>3</th>\n",
       "      <td>0.539467</td>\n",
       "      <td>0.479716</td>\n",
       "      <td>0.623971</td>\n",
       "      <td>0.220219</td>\n",
       "      <td>0.043050</td>\n",
       "      <td>0.194866</td>\n",
       "    </tr>\n",
       "    <tr>\n",
       "      <th>4</th>\n",
       "      <td>0.952016</td>\n",
       "      <td>0.439789</td>\n",
       "      <td>0.496625</td>\n",
       "      <td>0.767611</td>\n",
       "      <td>0.196192</td>\n",
       "      <td>0.901185</td>\n",
       "    </tr>\n",
       "    <tr>\n",
       "      <th>5</th>\n",
       "      <td>0.222943</td>\n",
       "      <td>0.313437</td>\n",
       "      <td>0.130480</td>\n",
       "      <td>0.150448</td>\n",
       "      <td>0.302517</td>\n",
       "      <td>0.881642</td>\n",
       "    </tr>\n",
       "    <tr>\n",
       "      <th>6</th>\n",
       "      <td>0.396002</td>\n",
       "      <td>0.577276</td>\n",
       "      <td>0.284766</td>\n",
       "      <td>0.774095</td>\n",
       "      <td>0.922270</td>\n",
       "      <td>0.295996</td>\n",
       "    </tr>\n",
       "    <tr>\n",
       "      <th>7</th>\n",
       "      <td>0.934156</td>\n",
       "      <td>0.300363</td>\n",
       "      <td>0.141506</td>\n",
       "      <td>0.452122</td>\n",
       "      <td>0.876696</td>\n",
       "      <td>0.747810</td>\n",
       "    </tr>\n",
       "  </tbody>\n",
       "</table>\n",
       "</div>"
      ],
      "text/plain": [
       "          0         1         2         3         4         5\n",
       "0  0.357639  0.413809  0.914230  0.112138  0.180895  0.794762\n",
       "1  0.549146  0.755584  0.333722  0.462887  0.818644  0.941976\n",
       "2  0.053611  0.031760  0.142191  0.986711  0.317914  0.057681\n",
       "3  0.539467  0.479716  0.623971  0.220219  0.043050  0.194866\n",
       "4  0.952016  0.439789  0.496625  0.767611  0.196192  0.901185\n",
       "5  0.222943  0.313437  0.130480  0.150448  0.302517  0.881642\n",
       "6  0.396002  0.577276  0.284766  0.774095  0.922270  0.295996\n",
       "7  0.934156  0.300363  0.141506  0.452122  0.876696  0.747810"
      ]
     },
     "execution_count": 41,
     "metadata": {},
     "output_type": "execute_result"
    }
   ],
   "source": [
    "newdf.head(8)"
   ]
  },
  {
   "cell_type": "code",
   "execution_count": 42,
   "id": "59c10682",
   "metadata": {},
   "outputs": [
    {
     "data": {
      "text/html": [
       "<div>\n",
       "<style scoped>\n",
       "    .dataframe tbody tr th:only-of-type {\n",
       "        vertical-align: middle;\n",
       "    }\n",
       "\n",
       "    .dataframe tbody tr th {\n",
       "        vertical-align: top;\n",
       "    }\n",
       "\n",
       "    .dataframe thead th {\n",
       "        text-align: right;\n",
       "    }\n",
       "</style>\n",
       "<table border=\"1\" class=\"dataframe\">\n",
       "  <thead>\n",
       "    <tr style=\"text-align: right;\">\n",
       "      <th></th>\n",
       "      <th>0</th>\n",
       "      <th>1</th>\n",
       "      <th>2</th>\n",
       "      <th>3</th>\n",
       "      <th>4</th>\n",
       "      <th>5</th>\n",
       "    </tr>\n",
       "  </thead>\n",
       "  <tbody>\n",
       "    <tr>\n",
       "      <th>292</th>\n",
       "      <td>0.591536</td>\n",
       "      <td>0.136162</td>\n",
       "      <td>0.229616</td>\n",
       "      <td>0.882444</td>\n",
       "      <td>0.886938</td>\n",
       "      <td>0.195924</td>\n",
       "    </tr>\n",
       "    <tr>\n",
       "      <th>293</th>\n",
       "      <td>0.537411</td>\n",
       "      <td>0.470589</td>\n",
       "      <td>0.319966</td>\n",
       "      <td>0.536877</td>\n",
       "      <td>0.538548</td>\n",
       "      <td>0.627580</td>\n",
       "    </tr>\n",
       "    <tr>\n",
       "      <th>294</th>\n",
       "      <td>0.741159</td>\n",
       "      <td>0.765648</td>\n",
       "      <td>0.144951</td>\n",
       "      <td>0.618280</td>\n",
       "      <td>0.225842</td>\n",
       "      <td>0.174061</td>\n",
       "    </tr>\n",
       "    <tr>\n",
       "      <th>295</th>\n",
       "      <td>0.316267</td>\n",
       "      <td>0.215729</td>\n",
       "      <td>0.820555</td>\n",
       "      <td>0.711764</td>\n",
       "      <td>0.423014</td>\n",
       "      <td>0.361745</td>\n",
       "    </tr>\n",
       "    <tr>\n",
       "      <th>296</th>\n",
       "      <td>0.379220</td>\n",
       "      <td>0.266539</td>\n",
       "      <td>0.360699</td>\n",
       "      <td>0.856993</td>\n",
       "      <td>0.292892</td>\n",
       "      <td>0.709032</td>\n",
       "    </tr>\n",
       "    <tr>\n",
       "      <th>297</th>\n",
       "      <td>0.659804</td>\n",
       "      <td>0.443282</td>\n",
       "      <td>0.526278</td>\n",
       "      <td>0.045622</td>\n",
       "      <td>0.851947</td>\n",
       "      <td>0.677020</td>\n",
       "    </tr>\n",
       "    <tr>\n",
       "      <th>298</th>\n",
       "      <td>0.101283</td>\n",
       "      <td>0.591223</td>\n",
       "      <td>0.651709</td>\n",
       "      <td>0.394781</td>\n",
       "      <td>0.287535</td>\n",
       "      <td>0.678117</td>\n",
       "    </tr>\n",
       "    <tr>\n",
       "      <th>299</th>\n",
       "      <td>0.018376</td>\n",
       "      <td>0.574222</td>\n",
       "      <td>0.948061</td>\n",
       "      <td>0.429952</td>\n",
       "      <td>0.568233</td>\n",
       "      <td>0.069313</td>\n",
       "    </tr>\n",
       "  </tbody>\n",
       "</table>\n",
       "</div>"
      ],
      "text/plain": [
       "            0         1         2         3         4         5\n",
       "292  0.591536  0.136162  0.229616  0.882444  0.886938  0.195924\n",
       "293  0.537411  0.470589  0.319966  0.536877  0.538548  0.627580\n",
       "294  0.741159  0.765648  0.144951  0.618280  0.225842  0.174061\n",
       "295  0.316267  0.215729  0.820555  0.711764  0.423014  0.361745\n",
       "296  0.379220  0.266539  0.360699  0.856993  0.292892  0.709032\n",
       "297  0.659804  0.443282  0.526278  0.045622  0.851947  0.677020\n",
       "298  0.101283  0.591223  0.651709  0.394781  0.287535  0.678117\n",
       "299  0.018376  0.574222  0.948061  0.429952  0.568233  0.069313"
      ]
     },
     "execution_count": 42,
     "metadata": {},
     "output_type": "execute_result"
    }
   ],
   "source": [
    "newdf.tail(8)"
   ]
  },
  {
   "cell_type": "code",
   "execution_count": 43,
   "id": "3a99d3ec",
   "metadata": {},
   "outputs": [
    {
     "data": {
      "text/plain": [
       "0    float64\n",
       "1    float64\n",
       "2    float64\n",
       "3    float64\n",
       "4    float64\n",
       "5    float64\n",
       "dtype: object"
      ]
     },
     "execution_count": 43,
     "metadata": {},
     "output_type": "execute_result"
    }
   ],
   "source": [
    "newdf.dtypes"
   ]
  },
  {
   "cell_type": "code",
   "execution_count": 44,
   "id": "9c3cd0c2",
   "metadata": {},
   "outputs": [
    {
     "data": {
      "text/plain": [
       "0.49089570432187457"
      ]
     },
     "execution_count": 44,
     "metadata": {},
     "output_type": "execute_result"
    }
   ],
   "source": [
    "newdf[5][115] "
   ]
  },
  {
   "cell_type": "code",
   "execution_count": 45,
   "id": "c76c4e44",
   "metadata": {},
   "outputs": [
    {
     "name": "stderr",
     "output_type": "stream",
     "text": [
      "/tmp/ipykernel_72377/732091781.py:3: SettingWithCopyWarning: \n",
      "A value is trying to be set on a copy of a slice from a DataFrame\n",
      "\n",
      "See the caveats in the documentation: https://pandas.pydata.org/pandas-docs/stable/user_guide/indexing.html#returning-a-view-versus-a-copy\n",
      "  newdf[1][1] = \"Tq\"\n"
     ]
    }
   ],
   "source": [
    "# mutating the data-frame, raises a warning though\n",
    "newdf[5][3] = \"Hii\"\n",
    "newdf[1][1] = \"Tq\""
   ]
  },
  {
   "cell_type": "code",
   "execution_count": 46,
   "id": "dd2f255a",
   "metadata": {},
   "outputs": [
    {
     "data": {
      "text/html": [
       "<div>\n",
       "<style scoped>\n",
       "    .dataframe tbody tr th:only-of-type {\n",
       "        vertical-align: middle;\n",
       "    }\n",
       "\n",
       "    .dataframe tbody tr th {\n",
       "        vertical-align: top;\n",
       "    }\n",
       "\n",
       "    .dataframe thead th {\n",
       "        text-align: right;\n",
       "    }\n",
       "</style>\n",
       "<table border=\"1\" class=\"dataframe\">\n",
       "  <thead>\n",
       "    <tr style=\"text-align: right;\">\n",
       "      <th></th>\n",
       "      <th>0</th>\n",
       "      <th>1</th>\n",
       "      <th>2</th>\n",
       "      <th>3</th>\n",
       "      <th>4</th>\n",
       "      <th>5</th>\n",
       "    </tr>\n",
       "  </thead>\n",
       "  <tbody>\n",
       "    <tr>\n",
       "      <th>0</th>\n",
       "      <td>0.357639</td>\n",
       "      <td>0.413809</td>\n",
       "      <td>0.914230</td>\n",
       "      <td>0.112138</td>\n",
       "      <td>0.180895</td>\n",
       "      <td>0.794762</td>\n",
       "    </tr>\n",
       "    <tr>\n",
       "      <th>1</th>\n",
       "      <td>0.549146</td>\n",
       "      <td>Tq</td>\n",
       "      <td>0.333722</td>\n",
       "      <td>0.462887</td>\n",
       "      <td>0.818644</td>\n",
       "      <td>0.941976</td>\n",
       "    </tr>\n",
       "    <tr>\n",
       "      <th>2</th>\n",
       "      <td>0.053611</td>\n",
       "      <td>0.03176</td>\n",
       "      <td>0.142191</td>\n",
       "      <td>0.986711</td>\n",
       "      <td>0.317914</td>\n",
       "      <td>0.057681</td>\n",
       "    </tr>\n",
       "    <tr>\n",
       "      <th>3</th>\n",
       "      <td>0.539467</td>\n",
       "      <td>0.479716</td>\n",
       "      <td>0.623971</td>\n",
       "      <td>0.220219</td>\n",
       "      <td>0.043050</td>\n",
       "      <td>Hii</td>\n",
       "    </tr>\n",
       "    <tr>\n",
       "      <th>4</th>\n",
       "      <td>0.952016</td>\n",
       "      <td>0.439789</td>\n",
       "      <td>0.496625</td>\n",
       "      <td>0.767611</td>\n",
       "      <td>0.196192</td>\n",
       "      <td>0.901185</td>\n",
       "    </tr>\n",
       "    <tr>\n",
       "      <th>...</th>\n",
       "      <td>...</td>\n",
       "      <td>...</td>\n",
       "      <td>...</td>\n",
       "      <td>...</td>\n",
       "      <td>...</td>\n",
       "      <td>...</td>\n",
       "    </tr>\n",
       "    <tr>\n",
       "      <th>295</th>\n",
       "      <td>0.316267</td>\n",
       "      <td>0.215729</td>\n",
       "      <td>0.820555</td>\n",
       "      <td>0.711764</td>\n",
       "      <td>0.423014</td>\n",
       "      <td>0.361745</td>\n",
       "    </tr>\n",
       "    <tr>\n",
       "      <th>296</th>\n",
       "      <td>0.379220</td>\n",
       "      <td>0.266539</td>\n",
       "      <td>0.360699</td>\n",
       "      <td>0.856993</td>\n",
       "      <td>0.292892</td>\n",
       "      <td>0.709032</td>\n",
       "    </tr>\n",
       "    <tr>\n",
       "      <th>297</th>\n",
       "      <td>0.659804</td>\n",
       "      <td>0.443282</td>\n",
       "      <td>0.526278</td>\n",
       "      <td>0.045622</td>\n",
       "      <td>0.851947</td>\n",
       "      <td>0.67702</td>\n",
       "    </tr>\n",
       "    <tr>\n",
       "      <th>298</th>\n",
       "      <td>0.101283</td>\n",
       "      <td>0.591223</td>\n",
       "      <td>0.651709</td>\n",
       "      <td>0.394781</td>\n",
       "      <td>0.287535</td>\n",
       "      <td>0.678117</td>\n",
       "    </tr>\n",
       "    <tr>\n",
       "      <th>299</th>\n",
       "      <td>0.018376</td>\n",
       "      <td>0.574222</td>\n",
       "      <td>0.948061</td>\n",
       "      <td>0.429952</td>\n",
       "      <td>0.568233</td>\n",
       "      <td>0.069313</td>\n",
       "    </tr>\n",
       "  </tbody>\n",
       "</table>\n",
       "<p>300 rows × 6 columns</p>\n",
       "</div>"
      ],
      "text/plain": [
       "            0         1         2         3         4         5\n",
       "0    0.357639  0.413809  0.914230  0.112138  0.180895  0.794762\n",
       "1    0.549146        Tq  0.333722  0.462887  0.818644  0.941976\n",
       "2    0.053611   0.03176  0.142191  0.986711  0.317914  0.057681\n",
       "3    0.539467  0.479716  0.623971  0.220219  0.043050       Hii\n",
       "4    0.952016  0.439789  0.496625  0.767611  0.196192  0.901185\n",
       "..        ...       ...       ...       ...       ...       ...\n",
       "295  0.316267  0.215729  0.820555  0.711764  0.423014  0.361745\n",
       "296  0.379220  0.266539  0.360699  0.856993  0.292892  0.709032\n",
       "297  0.659804  0.443282  0.526278  0.045622  0.851947   0.67702\n",
       "298  0.101283  0.591223  0.651709  0.394781  0.287535  0.678117\n",
       "299  0.018376  0.574222  0.948061  0.429952  0.568233  0.069313\n",
       "\n",
       "[300 rows x 6 columns]"
      ]
     },
     "execution_count": 46,
     "metadata": {},
     "output_type": "execute_result"
    }
   ],
   "source": [
    "newdf"
   ]
  },
  {
   "cell_type": "code",
   "execution_count": 47,
   "id": "b4259c70",
   "metadata": {},
   "outputs": [
    {
     "data": {
      "text/plain": [
       "0    float64\n",
       "1     object\n",
       "2    float64\n",
       "3    float64\n",
       "4    float64\n",
       "5     object\n",
       "dtype: object"
      ]
     },
     "execution_count": 47,
     "metadata": {},
     "output_type": "execute_result"
    }
   ],
   "source": [
    "newdf.dtypes"
   ]
  },
  {
   "cell_type": "code",
   "execution_count": 48,
   "id": "5ecd15ce",
   "metadata": {},
   "outputs": [
    {
     "data": {
      "text/plain": [
       "RangeIndex(start=0, stop=6, step=1)"
      ]
     },
     "execution_count": 48,
     "metadata": {},
     "output_type": "execute_result"
    }
   ],
   "source": [
    "newdf.columns"
   ]
  },
  {
   "cell_type": "code",
   "execution_count": 49,
   "id": "19442994",
   "metadata": {},
   "outputs": [
    {
     "data": {
      "text/plain": [
       "array([[ 1,  2,  3,  4,  5],\n",
       "       [ 6,  7,  8,  9, 10],\n",
       "       [11, 12, 13, 14, 15],\n",
       "       [16, 17, 18, 19, 20],\n",
       "       [21, 22, 23, 24, 25],\n",
       "       [26, 27, 28, 29, 30]])"
      ]
     },
     "execution_count": 49,
     "metadata": {},
     "output_type": "execute_result"
    }
   ],
   "source": [
    "myarr"
   ]
  },
  {
   "cell_type": "code",
   "execution_count": 50,
   "id": "0fbedbfa",
   "metadata": {},
   "outputs": [
    {
     "data": {
      "text/plain": [
       "array([[ 1,  6, 11, 16, 21, 26],\n",
       "       [ 2,  7, 12, 17, 22, 27],\n",
       "       [ 3,  8, 13, 18, 23, 28],\n",
       "       [ 4,  9, 14, 19, 24, 29],\n",
       "       [ 5, 10, 15, 20, 25, 30]])"
      ]
     },
     "execution_count": 50,
     "metadata": {},
     "output_type": "execute_result"
    }
   ],
   "source": [
    "myarr.T # taking transpose of an array"
   ]
  },
  {
   "cell_type": "code",
   "execution_count": 51,
   "id": "50a0b645",
   "metadata": {},
   "outputs": [],
   "source": [
    "arrdf = pd.DataFrame(myarr)"
   ]
  },
  {
   "cell_type": "code",
   "execution_count": 52,
   "id": "ceeda696",
   "metadata": {},
   "outputs": [
    {
     "data": {
      "text/html": [
       "<div>\n",
       "<style scoped>\n",
       "    .dataframe tbody tr th:only-of-type {\n",
       "        vertical-align: middle;\n",
       "    }\n",
       "\n",
       "    .dataframe tbody tr th {\n",
       "        vertical-align: top;\n",
       "    }\n",
       "\n",
       "    .dataframe thead th {\n",
       "        text-align: right;\n",
       "    }\n",
       "</style>\n",
       "<table border=\"1\" class=\"dataframe\">\n",
       "  <thead>\n",
       "    <tr style=\"text-align: right;\">\n",
       "      <th></th>\n",
       "      <th>0</th>\n",
       "      <th>1</th>\n",
       "      <th>2</th>\n",
       "      <th>3</th>\n",
       "      <th>4</th>\n",
       "    </tr>\n",
       "  </thead>\n",
       "  <tbody>\n",
       "    <tr>\n",
       "      <th>0</th>\n",
       "      <td>1</td>\n",
       "      <td>2</td>\n",
       "      <td>3</td>\n",
       "      <td>4</td>\n",
       "      <td>5</td>\n",
       "    </tr>\n",
       "    <tr>\n",
       "      <th>1</th>\n",
       "      <td>6</td>\n",
       "      <td>7</td>\n",
       "      <td>8</td>\n",
       "      <td>9</td>\n",
       "      <td>10</td>\n",
       "    </tr>\n",
       "    <tr>\n",
       "      <th>2</th>\n",
       "      <td>11</td>\n",
       "      <td>12</td>\n",
       "      <td>13</td>\n",
       "      <td>14</td>\n",
       "      <td>15</td>\n",
       "    </tr>\n",
       "    <tr>\n",
       "      <th>3</th>\n",
       "      <td>16</td>\n",
       "      <td>17</td>\n",
       "      <td>18</td>\n",
       "      <td>19</td>\n",
       "      <td>20</td>\n",
       "    </tr>\n",
       "    <tr>\n",
       "      <th>4</th>\n",
       "      <td>21</td>\n",
       "      <td>22</td>\n",
       "      <td>23</td>\n",
       "      <td>24</td>\n",
       "      <td>25</td>\n",
       "    </tr>\n",
       "    <tr>\n",
       "      <th>5</th>\n",
       "      <td>26</td>\n",
       "      <td>27</td>\n",
       "      <td>28</td>\n",
       "      <td>29</td>\n",
       "      <td>30</td>\n",
       "    </tr>\n",
       "  </tbody>\n",
       "</table>\n",
       "</div>"
      ],
      "text/plain": [
       "    0   1   2   3   4\n",
       "0   1   2   3   4   5\n",
       "1   6   7   8   9  10\n",
       "2  11  12  13  14  15\n",
       "3  16  17  18  19  20\n",
       "4  21  22  23  24  25\n",
       "5  26  27  28  29  30"
      ]
     },
     "execution_count": 52,
     "metadata": {},
     "output_type": "execute_result"
    }
   ],
   "source": [
    "arrdf"
   ]
  },
  {
   "cell_type": "code",
   "execution_count": 53,
   "id": "01c8a481",
   "metadata": {},
   "outputs": [
    {
     "data": {
      "text/plain": [
       "0    1\n",
       "1    2\n",
       "2    3\n",
       "3    4\n",
       "4    5\n",
       "Name: 0, dtype: int64"
      ]
     },
     "execution_count": 53,
     "metadata": {},
     "output_type": "execute_result"
    }
   ],
   "source": [
    "arrdf.loc[0] # returns first row"
   ]
  },
  {
   "cell_type": "code",
   "execution_count": 54,
   "id": "44787c72",
   "metadata": {},
   "outputs": [
    {
     "data": {
      "text/plain": [
       "3"
      ]
     },
     "execution_count": 54,
     "metadata": {},
     "output_type": "execute_result"
    }
   ],
   "source": [
    "arrdf.loc[0, 2] # returns first row, third column"
   ]
  },
  {
   "cell_type": "code",
   "execution_count": 55,
   "id": "0c374501",
   "metadata": {},
   "outputs": [],
   "source": [
    "arrdf.loc[0,5] = 123 # non- =existent column will be created"
   ]
  },
  {
   "cell_type": "code",
   "execution_count": 56,
   "id": "f8018ed4",
   "metadata": {},
   "outputs": [
    {
     "data": {
      "text/html": [
       "<div>\n",
       "<style scoped>\n",
       "    .dataframe tbody tr th:only-of-type {\n",
       "        vertical-align: middle;\n",
       "    }\n",
       "\n",
       "    .dataframe tbody tr th {\n",
       "        vertical-align: top;\n",
       "    }\n",
       "\n",
       "    .dataframe thead th {\n",
       "        text-align: right;\n",
       "    }\n",
       "</style>\n",
       "<table border=\"1\" class=\"dataframe\">\n",
       "  <thead>\n",
       "    <tr style=\"text-align: right;\">\n",
       "      <th></th>\n",
       "      <th>0</th>\n",
       "      <th>1</th>\n",
       "      <th>2</th>\n",
       "      <th>3</th>\n",
       "      <th>4</th>\n",
       "      <th>5</th>\n",
       "    </tr>\n",
       "  </thead>\n",
       "  <tbody>\n",
       "    <tr>\n",
       "      <th>0</th>\n",
       "      <td>1</td>\n",
       "      <td>2</td>\n",
       "      <td>3</td>\n",
       "      <td>4</td>\n",
       "      <td>5</td>\n",
       "      <td>123.0</td>\n",
       "    </tr>\n",
       "    <tr>\n",
       "      <th>1</th>\n",
       "      <td>6</td>\n",
       "      <td>7</td>\n",
       "      <td>8</td>\n",
       "      <td>9</td>\n",
       "      <td>10</td>\n",
       "      <td>NaN</td>\n",
       "    </tr>\n",
       "    <tr>\n",
       "      <th>2</th>\n",
       "      <td>11</td>\n",
       "      <td>12</td>\n",
       "      <td>13</td>\n",
       "      <td>14</td>\n",
       "      <td>15</td>\n",
       "      <td>NaN</td>\n",
       "    </tr>\n",
       "    <tr>\n",
       "      <th>3</th>\n",
       "      <td>16</td>\n",
       "      <td>17</td>\n",
       "      <td>18</td>\n",
       "      <td>19</td>\n",
       "      <td>20</td>\n",
       "      <td>NaN</td>\n",
       "    </tr>\n",
       "    <tr>\n",
       "      <th>4</th>\n",
       "      <td>21</td>\n",
       "      <td>22</td>\n",
       "      <td>23</td>\n",
       "      <td>24</td>\n",
       "      <td>25</td>\n",
       "      <td>NaN</td>\n",
       "    </tr>\n",
       "    <tr>\n",
       "      <th>5</th>\n",
       "      <td>26</td>\n",
       "      <td>27</td>\n",
       "      <td>28</td>\n",
       "      <td>29</td>\n",
       "      <td>30</td>\n",
       "      <td>NaN</td>\n",
       "    </tr>\n",
       "  </tbody>\n",
       "</table>\n",
       "</div>"
      ],
      "text/plain": [
       "    0   1   2   3   4      5\n",
       "0   1   2   3   4   5  123.0\n",
       "1   6   7   8   9  10    NaN\n",
       "2  11  12  13  14  15    NaN\n",
       "3  16  17  18  19  20    NaN\n",
       "4  21  22  23  24  25    NaN\n",
       "5  26  27  28  29  30    NaN"
      ]
     },
     "execution_count": 56,
     "metadata": {},
     "output_type": "execute_result"
    }
   ],
   "source": [
    "arrdf"
   ]
  },
  {
   "cell_type": "code",
   "execution_count": 57,
   "id": "b84ddccc",
   "metadata": {},
   "outputs": [
    {
     "data": {
      "text/html": [
       "<div>\n",
       "<style scoped>\n",
       "    .dataframe tbody tr th:only-of-type {\n",
       "        vertical-align: middle;\n",
       "    }\n",
       "\n",
       "    .dataframe tbody tr th {\n",
       "        vertical-align: top;\n",
       "    }\n",
       "\n",
       "    .dataframe thead th {\n",
       "        text-align: right;\n",
       "    }\n",
       "</style>\n",
       "<table border=\"1\" class=\"dataframe\">\n",
       "  <thead>\n",
       "    <tr style=\"text-align: right;\">\n",
       "      <th></th>\n",
       "      <th>0</th>\n",
       "      <th>1</th>\n",
       "      <th>2</th>\n",
       "      <th>3</th>\n",
       "      <th>4</th>\n",
       "      <th>5</th>\n",
       "    </tr>\n",
       "  </thead>\n",
       "  <tbody>\n",
       "    <tr>\n",
       "      <th>0</th>\n",
       "      <td>1</td>\n",
       "      <td>2</td>\n",
       "      <td>3</td>\n",
       "      <td>4</td>\n",
       "      <td>5</td>\n",
       "      <td>123.0</td>\n",
       "    </tr>\n",
       "    <tr>\n",
       "      <th>1</th>\n",
       "      <td>6</td>\n",
       "      <td>7</td>\n",
       "      <td>8</td>\n",
       "      <td>9</td>\n",
       "      <td>10</td>\n",
       "      <td>NaN</td>\n",
       "    </tr>\n",
       "    <tr>\n",
       "      <th>2</th>\n",
       "      <td>11</td>\n",
       "      <td>12</td>\n",
       "      <td>13</td>\n",
       "      <td>14</td>\n",
       "      <td>15</td>\n",
       "      <td>NaN</td>\n",
       "    </tr>\n",
       "    <tr>\n",
       "      <th>3</th>\n",
       "      <td>16</td>\n",
       "      <td>17</td>\n",
       "      <td>18</td>\n",
       "      <td>19</td>\n",
       "      <td>20</td>\n",
       "      <td>NaN</td>\n",
       "    </tr>\n",
       "    <tr>\n",
       "      <th>4</th>\n",
       "      <td>21</td>\n",
       "      <td>22</td>\n",
       "      <td>23</td>\n",
       "      <td>24</td>\n",
       "      <td>25</td>\n",
       "      <td>NaN</td>\n",
       "    </tr>\n",
       "  </tbody>\n",
       "</table>\n",
       "</div>"
      ],
      "text/plain": [
       "    0   1   2   3   4      5\n",
       "0   1   2   3   4   5  123.0\n",
       "1   6   7   8   9  10    NaN\n",
       "2  11  12  13  14  15    NaN\n",
       "3  16  17  18  19  20    NaN\n",
       "4  21  22  23  24  25    NaN"
      ]
     },
     "execution_count": 57,
     "metadata": {},
     "output_type": "execute_result"
    }
   ],
   "source": [
    "arrdf.drop(5, axis = 0) # axis 0 refers to rows and index 5 means row index 5"
   ]
  },
  {
   "cell_type": "code",
   "execution_count": 58,
   "id": "acfd7ccf",
   "metadata": {},
   "outputs": [
    {
     "data": {
      "text/html": [
       "<div>\n",
       "<style scoped>\n",
       "    .dataframe tbody tr th:only-of-type {\n",
       "        vertical-align: middle;\n",
       "    }\n",
       "\n",
       "    .dataframe tbody tr th {\n",
       "        vertical-align: top;\n",
       "    }\n",
       "\n",
       "    .dataframe thead th {\n",
       "        text-align: right;\n",
       "    }\n",
       "</style>\n",
       "<table border=\"1\" class=\"dataframe\">\n",
       "  <thead>\n",
       "    <tr style=\"text-align: right;\">\n",
       "      <th></th>\n",
       "      <th>0</th>\n",
       "      <th>1</th>\n",
       "      <th>2</th>\n",
       "      <th>3</th>\n",
       "      <th>4</th>\n",
       "    </tr>\n",
       "  </thead>\n",
       "  <tbody>\n",
       "    <tr>\n",
       "      <th>0</th>\n",
       "      <td>1</td>\n",
       "      <td>2</td>\n",
       "      <td>3</td>\n",
       "      <td>4</td>\n",
       "      <td>5</td>\n",
       "    </tr>\n",
       "    <tr>\n",
       "      <th>1</th>\n",
       "      <td>6</td>\n",
       "      <td>7</td>\n",
       "      <td>8</td>\n",
       "      <td>9</td>\n",
       "      <td>10</td>\n",
       "    </tr>\n",
       "    <tr>\n",
       "      <th>2</th>\n",
       "      <td>11</td>\n",
       "      <td>12</td>\n",
       "      <td>13</td>\n",
       "      <td>14</td>\n",
       "      <td>15</td>\n",
       "    </tr>\n",
       "    <tr>\n",
       "      <th>3</th>\n",
       "      <td>16</td>\n",
       "      <td>17</td>\n",
       "      <td>18</td>\n",
       "      <td>19</td>\n",
       "      <td>20</td>\n",
       "    </tr>\n",
       "    <tr>\n",
       "      <th>4</th>\n",
       "      <td>21</td>\n",
       "      <td>22</td>\n",
       "      <td>23</td>\n",
       "      <td>24</td>\n",
       "      <td>25</td>\n",
       "    </tr>\n",
       "    <tr>\n",
       "      <th>5</th>\n",
       "      <td>26</td>\n",
       "      <td>27</td>\n",
       "      <td>28</td>\n",
       "      <td>29</td>\n",
       "      <td>30</td>\n",
       "    </tr>\n",
       "  </tbody>\n",
       "</table>\n",
       "</div>"
      ],
      "text/plain": [
       "    0   1   2   3   4\n",
       "0   1   2   3   4   5\n",
       "1   6   7   8   9  10\n",
       "2  11  12  13  14  15\n",
       "3  16  17  18  19  20\n",
       "4  21  22  23  24  25\n",
       "5  26  27  28  29  30"
      ]
     },
     "execution_count": 58,
     "metadata": {},
     "output_type": "execute_result"
    }
   ],
   "source": [
    "arrdf.drop(5, axis = 1) # axis 1 refers to column and index 5 means column index 5"
   ]
  },
  {
   "cell_type": "code",
   "execution_count": 59,
   "id": "4f300182",
   "metadata": {},
   "outputs": [
    {
     "ename": "ValueError",
     "evalue": "Length mismatch: Expected axis has 6 elements, new values have 5 elements",
     "output_type": "error",
     "traceback": [
      "\u001b[0;31m---------------------------------------------------------------------------\u001b[0m",
      "\u001b[0;31mValueError\u001b[0m                                Traceback (most recent call last)",
      "Cell \u001b[0;32mIn[59], line 1\u001b[0m\n\u001b[0;32m----> 1\u001b[0m \u001b[43marrdf\u001b[49m\u001b[38;5;241;43m.\u001b[39;49m\u001b[43mcolumns\u001b[49m \u001b[38;5;241m=\u001b[39m [\u001b[38;5;124m'\u001b[39m\u001b[38;5;124ma\u001b[39m\u001b[38;5;124m'\u001b[39m, \u001b[38;5;124m'\u001b[39m\u001b[38;5;124mb\u001b[39m\u001b[38;5;124m'\u001b[39m, \u001b[38;5;124m'\u001b[39m\u001b[38;5;124mc\u001b[39m\u001b[38;5;124m'\u001b[39m, \u001b[38;5;124m'\u001b[39m\u001b[38;5;124md\u001b[39m\u001b[38;5;124m'\u001b[39m, \u001b[38;5;124m'\u001b[39m\u001b[38;5;124me\u001b[39m\u001b[38;5;124m'\u001b[39m]\n",
      "File \u001b[0;32m~/.local/lib/python3.10/site-packages/pandas/core/generic.py:6002\u001b[0m, in \u001b[0;36mNDFrame.__setattr__\u001b[0;34m(self, name, value)\u001b[0m\n\u001b[1;32m   6000\u001b[0m \u001b[38;5;28;01mtry\u001b[39;00m:\n\u001b[1;32m   6001\u001b[0m     \u001b[38;5;28mobject\u001b[39m\u001b[38;5;241m.\u001b[39m\u001b[38;5;21m__getattribute__\u001b[39m(\u001b[38;5;28mself\u001b[39m, name)\n\u001b[0;32m-> 6002\u001b[0m     \u001b[38;5;28;01mreturn\u001b[39;00m \u001b[38;5;28;43mobject\u001b[39;49m\u001b[38;5;241;43m.\u001b[39;49m\u001b[38;5;21;43m__setattr__\u001b[39;49m\u001b[43m(\u001b[49m\u001b[38;5;28;43mself\u001b[39;49m\u001b[43m,\u001b[49m\u001b[43m \u001b[49m\u001b[43mname\u001b[49m\u001b[43m,\u001b[49m\u001b[43m \u001b[49m\u001b[43mvalue\u001b[49m\u001b[43m)\u001b[49m\n\u001b[1;32m   6003\u001b[0m \u001b[38;5;28;01mexcept\u001b[39;00m \u001b[38;5;167;01mAttributeError\u001b[39;00m:\n\u001b[1;32m   6004\u001b[0m     \u001b[38;5;28;01mpass\u001b[39;00m\n",
      "File \u001b[0;32m~/.local/lib/python3.10/site-packages/pandas/_libs/properties.pyx:69\u001b[0m, in \u001b[0;36mpandas._libs.properties.AxisProperty.__set__\u001b[0;34m()\u001b[0m\n",
      "File \u001b[0;32m~/.local/lib/python3.10/site-packages/pandas/core/generic.py:730\u001b[0m, in \u001b[0;36mNDFrame._set_axis\u001b[0;34m(self, axis, labels)\u001b[0m\n\u001b[1;32m    725\u001b[0m \u001b[38;5;250m\u001b[39m\u001b[38;5;124;03m\"\"\"\u001b[39;00m\n\u001b[1;32m    726\u001b[0m \u001b[38;5;124;03mThis is called from the cython code when we set the `index` attribute\u001b[39;00m\n\u001b[1;32m    727\u001b[0m \u001b[38;5;124;03mdirectly, e.g. `series.index = [1, 2, 3]`.\u001b[39;00m\n\u001b[1;32m    728\u001b[0m \u001b[38;5;124;03m\"\"\"\u001b[39;00m\n\u001b[1;32m    729\u001b[0m labels \u001b[38;5;241m=\u001b[39m ensure_index(labels)\n\u001b[0;32m--> 730\u001b[0m \u001b[38;5;28;43mself\u001b[39;49m\u001b[38;5;241;43m.\u001b[39;49m\u001b[43m_mgr\u001b[49m\u001b[38;5;241;43m.\u001b[39;49m\u001b[43mset_axis\u001b[49m\u001b[43m(\u001b[49m\u001b[43maxis\u001b[49m\u001b[43m,\u001b[49m\u001b[43m \u001b[49m\u001b[43mlabels\u001b[49m\u001b[43m)\u001b[49m\n\u001b[1;32m    731\u001b[0m \u001b[38;5;28mself\u001b[39m\u001b[38;5;241m.\u001b[39m_clear_item_cache()\n",
      "File \u001b[0;32m~/.local/lib/python3.10/site-packages/pandas/core/internals/managers.py:225\u001b[0m, in \u001b[0;36mBaseBlockManager.set_axis\u001b[0;34m(self, axis, new_labels)\u001b[0m\n\u001b[1;32m    223\u001b[0m \u001b[38;5;28;01mdef\u001b[39;00m \u001b[38;5;21mset_axis\u001b[39m(\u001b[38;5;28mself\u001b[39m, axis: AxisInt, new_labels: Index) \u001b[38;5;241m-\u001b[39m\u001b[38;5;241m>\u001b[39m \u001b[38;5;28;01mNone\u001b[39;00m:\n\u001b[1;32m    224\u001b[0m     \u001b[38;5;66;03m# Caller is responsible for ensuring we have an Index object.\u001b[39;00m\n\u001b[0;32m--> 225\u001b[0m     \u001b[38;5;28;43mself\u001b[39;49m\u001b[38;5;241;43m.\u001b[39;49m\u001b[43m_validate_set_axis\u001b[49m\u001b[43m(\u001b[49m\u001b[43maxis\u001b[49m\u001b[43m,\u001b[49m\u001b[43m \u001b[49m\u001b[43mnew_labels\u001b[49m\u001b[43m)\u001b[49m\n\u001b[1;32m    226\u001b[0m     \u001b[38;5;28mself\u001b[39m\u001b[38;5;241m.\u001b[39maxes[axis] \u001b[38;5;241m=\u001b[39m new_labels\n",
      "File \u001b[0;32m~/.local/lib/python3.10/site-packages/pandas/core/internals/base.py:70\u001b[0m, in \u001b[0;36mDataManager._validate_set_axis\u001b[0;34m(self, axis, new_labels)\u001b[0m\n\u001b[1;32m     67\u001b[0m     \u001b[38;5;28;01mpass\u001b[39;00m\n\u001b[1;32m     69\u001b[0m \u001b[38;5;28;01melif\u001b[39;00m new_len \u001b[38;5;241m!=\u001b[39m old_len:\n\u001b[0;32m---> 70\u001b[0m     \u001b[38;5;28;01mraise\u001b[39;00m \u001b[38;5;167;01mValueError\u001b[39;00m(\n\u001b[1;32m     71\u001b[0m         \u001b[38;5;124mf\u001b[39m\u001b[38;5;124m\"\u001b[39m\u001b[38;5;124mLength mismatch: Expected axis has \u001b[39m\u001b[38;5;132;01m{\u001b[39;00mold_len\u001b[38;5;132;01m}\u001b[39;00m\u001b[38;5;124m elements, new \u001b[39m\u001b[38;5;124m\"\u001b[39m\n\u001b[1;32m     72\u001b[0m         \u001b[38;5;124mf\u001b[39m\u001b[38;5;124m\"\u001b[39m\u001b[38;5;124mvalues have \u001b[39m\u001b[38;5;132;01m{\u001b[39;00mnew_len\u001b[38;5;132;01m}\u001b[39;00m\u001b[38;5;124m elements\u001b[39m\u001b[38;5;124m\"\u001b[39m\n\u001b[1;32m     73\u001b[0m     )\n",
      "\u001b[0;31mValueError\u001b[0m: Length mismatch: Expected axis has 6 elements, new values have 5 elements"
     ]
    }
   ],
   "source": [
    "arrdf.columns = ['a', 'b', 'c', 'd', 'e']"
   ]
  },
  {
   "cell_type": "code",
   "execution_count": null,
   "id": "c4bfaf44",
   "metadata": {},
   "outputs": [],
   "source": [
    "arrdf"
   ]
  },
  {
   "cell_type": "code",
   "execution_count": null,
   "id": "9e77e43b",
   "metadata": {},
   "outputs": [],
   "source": [
    "arrdf.loc[[1,3],['b','d']] # specific portion of the data frame"
   ]
  },
  {
   "cell_type": "code",
   "execution_count": null,
   "id": "3068b666",
   "metadata": {},
   "outputs": [],
   "source": []
  }
 ],
 "metadata": {
  "kernelspec": {
   "display_name": "Python 3 (ipykernel)",
   "language": "python",
   "name": "python3"
  },
  "language_info": {
   "codemirror_mode": {
    "name": "ipython",
    "version": 3
   },
   "file_extension": ".py",
   "mimetype": "text/x-python",
   "name": "python",
   "nbconvert_exporter": "python",
   "pygments_lexer": "ipython3",
   "version": "3.10.6"
  }
 },
 "nbformat": 4,
 "nbformat_minor": 5
}
