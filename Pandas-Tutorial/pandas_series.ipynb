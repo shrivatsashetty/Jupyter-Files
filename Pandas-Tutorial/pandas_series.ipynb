{
 "cells": [
  {
   "cell_type": "code",
   "execution_count": 1,
   "id": "ac422c50",
   "metadata": {},
   "outputs": [],
   "source": [
    "import numpy as np\n",
    "import pandas as pd"
   ]
  },
  {
   "cell_type": "code",
   "execution_count": 2,
   "id": "1d9bf2a3",
   "metadata": {},
   "outputs": [],
   "source": [
    "# creating a pandas series from a simple list"
   ]
  },
  {
   "cell_type": "code",
   "execution_count": 3,
   "id": "635678df",
   "metadata": {},
   "outputs": [],
   "source": [
    "sci_consts = [ 3.14, 2.718, 6.69, 2.999 ]"
   ]
  },
  {
   "cell_type": "code",
   "execution_count": 4,
   "id": "81eb4ec2",
   "metadata": {},
   "outputs": [
    {
     "data": {
      "text/plain": [
       "list"
      ]
     },
     "execution_count": 4,
     "metadata": {},
     "output_type": "execute_result"
    }
   ],
   "source": [
    "type(sci_consts)"
   ]
  },
  {
   "cell_type": "code",
   "execution_count": 5,
   "id": "9b734c7f",
   "metadata": {},
   "outputs": [],
   "source": [
    "mysr = pd.Series(sci_consts) "
   ]
  },
  {
   "cell_type": "code",
   "execution_count": 6,
   "id": "c3984a23",
   "metadata": {},
   "outputs": [
    {
     "data": {
      "text/plain": [
       "0    3.140\n",
       "1    2.718\n",
       "2    6.690\n",
       "3    2.999\n",
       "dtype: float64"
      ]
     },
     "execution_count": 6,
     "metadata": {},
     "output_type": "execute_result"
    }
   ],
   "source": [
    "mysr"
   ]
  },
  {
   "cell_type": "code",
   "execution_count": 7,
   "id": "0b863db6",
   "metadata": {},
   "outputs": [],
   "source": [
    "digits = [0,1,2,3,4,5,6,7,8,9]"
   ]
  },
  {
   "cell_type": "code",
   "execution_count": 8,
   "id": "30dea7c4",
   "metadata": {},
   "outputs": [
    {
     "data": {
      "text/plain": [
       "0    0\n",
       "1    1\n",
       "2    2\n",
       "3    3\n",
       "4    4\n",
       "5    5\n",
       "6    6\n",
       "7    7\n",
       "8    8\n",
       "9    9\n",
       "dtype: int64"
      ]
     },
     "execution_count": 8,
     "metadata": {},
     "output_type": "execute_result"
    }
   ],
   "source": [
    "pd.Series(digits)"
   ]
  },
  {
   "cell_type": "code",
   "execution_count": 9,
   "id": "f05fbadd",
   "metadata": {},
   "outputs": [],
   "source": [
    "# strings are considred as objects\n",
    "# even if one string present in list then whole list considered as object"
   ]
  },
  {
   "cell_type": "code",
   "execution_count": 10,
   "id": "25774af2",
   "metadata": {},
   "outputs": [],
   "source": [
    "names = [\"Hari\",\"Manu\",\"Abin\"]"
   ]
  },
  {
   "cell_type": "code",
   "execution_count": 11,
   "id": "8e57f9a4",
   "metadata": {},
   "outputs": [
    {
     "data": {
      "text/plain": [
       "0    Hari\n",
       "1    Manu\n",
       "2    Abin\n",
       "dtype: object"
      ]
     },
     "execution_count": 11,
     "metadata": {},
     "output_type": "execute_result"
    }
   ],
   "source": [
    "pd.Series(names)"
   ]
  },
  {
   "cell_type": "code",
   "execution_count": 12,
   "id": "d15e0e28",
   "metadata": {},
   "outputs": [],
   "source": [
    " # peresence of one float causes internal conversion to float "
   ]
  },
  {
   "cell_type": "code",
   "execution_count": 13,
   "id": "43bf9e1a",
   "metadata": {},
   "outputs": [],
   "source": [
    "mix1 = [0, 2, 3.23] # dtype: float64"
   ]
  },
  {
   "cell_type": "code",
   "execution_count": 14,
   "id": "0f99cd48",
   "metadata": {},
   "outputs": [
    {
     "data": {
      "text/plain": [
       "0    0.00\n",
       "1    2.00\n",
       "2    3.23\n",
       "dtype: float64"
      ]
     },
     "execution_count": 14,
     "metadata": {},
     "output_type": "execute_result"
    }
   ],
   "source": [
    "pd.Series(mix1) # by default the indexes will start from zero to n-1"
   ]
  },
  {
   "cell_type": "code",
   "execution_count": 15,
   "id": "6a36a720",
   "metadata": {},
   "outputs": [],
   "source": [
    "mix2 = [1,2,\"hi\"] # dtype: object"
   ]
  },
  {
   "cell_type": "code",
   "execution_count": 16,
   "id": "41b133aa",
   "metadata": {},
   "outputs": [
    {
     "data": {
      "text/plain": [
       "0     1\n",
       "1     2\n",
       "2    hi\n",
       "dtype: object"
      ]
     },
     "execution_count": 16,
     "metadata": {},
     "output_type": "execute_result"
    }
   ],
   "source": [
    "pd.Series(mix2)"
   ]
  },
  {
   "cell_type": "code",
   "execution_count": 17,
   "id": "99f2c535",
   "metadata": {},
   "outputs": [],
   "source": [
    "# creating an array of random numbers in range [0,1)"
   ]
  },
  {
   "cell_type": "code",
   "execution_count": 18,
   "id": "f97a6143",
   "metadata": {},
   "outputs": [],
   "source": [
    "random_nums = np.random.rand(15) "
   ]
  },
  {
   "cell_type": "code",
   "execution_count": 19,
   "id": "a6d842c4",
   "metadata": {},
   "outputs": [
    {
     "data": {
      "text/plain": [
       "array([0.97794743, 0.39516949, 0.41894379, 0.5601118 , 0.90867509,\n",
       "       0.66454558, 0.65291054, 0.83228341, 0.11269044, 0.97783545,\n",
       "       0.09191105, 0.1966318 , 0.56080553, 0.95807783, 0.32277718])"
      ]
     },
     "execution_count": 19,
     "metadata": {},
     "output_type": "execute_result"
    }
   ],
   "source": [
    "random_nums"
   ]
  },
  {
   "cell_type": "code",
   "execution_count": 20,
   "id": "1180834d",
   "metadata": {},
   "outputs": [],
   "source": [
    "rand_series = pd.Series(random_nums)"
   ]
  },
  {
   "cell_type": "code",
   "execution_count": 21,
   "id": "21cf3729",
   "metadata": {},
   "outputs": [
    {
     "data": {
      "text/plain": [
       "0     0.977947\n",
       "1     0.395169\n",
       "2     0.418944\n",
       "3     0.560112\n",
       "4     0.908675\n",
       "5     0.664546\n",
       "6     0.652911\n",
       "7     0.832283\n",
       "8     0.112690\n",
       "9     0.977835\n",
       "10    0.091911\n",
       "11    0.196632\n",
       "12    0.560806\n",
       "13    0.958078\n",
       "14    0.322777\n",
       "dtype: float64"
      ]
     },
     "execution_count": 21,
     "metadata": {},
     "output_type": "execute_result"
    }
   ],
   "source": [
    "rand_series"
   ]
  },
  {
   "cell_type": "code",
   "execution_count": 22,
   "id": "e2f5f67a",
   "metadata": {},
   "outputs": [
    {
     "data": {
      "text/plain": [
       "pandas.core.series.Series"
      ]
     },
     "execution_count": 22,
     "metadata": {},
     "output_type": "execute_result"
    }
   ],
   "source": [
    "type(rand_series)"
   ]
  },
  {
   "cell_type": "code",
   "execution_count": 23,
   "id": "9b71670d",
   "metadata": {},
   "outputs": [],
   "source": [
    "myarr = np.arange(1,30+1).reshape(6,5) # an array having 1 to 30 numbers"
   ]
  },
  {
   "cell_type": "code",
   "execution_count": 24,
   "id": "5c2fb1b4",
   "metadata": {},
   "outputs": [
    {
     "data": {
      "text/plain": [
       "array([[ 1,  2,  3,  4,  5],\n",
       "       [ 6,  7,  8,  9, 10],\n",
       "       [11, 12, 13, 14, 15],\n",
       "       [16, 17, 18, 19, 20],\n",
       "       [21, 22, 23, 24, 25],\n",
       "       [26, 27, 28, 29, 30]])"
      ]
     },
     "execution_count": 24,
     "metadata": {},
     "output_type": "execute_result"
    }
   ],
   "source": [
    "myarr"
   ]
  },
  {
   "cell_type": "code",
   "execution_count": 25,
   "id": "b4547d0c",
   "metadata": {},
   "outputs": [
    {
     "data": {
      "text/plain": [
       "30"
      ]
     },
     "execution_count": 25,
     "metadata": {},
     "output_type": "execute_result"
    }
   ],
   "source": [
    "myarr.size"
   ]
  },
  {
   "cell_type": "code",
   "execution_count": 26,
   "id": "de219639",
   "metadata": {},
   "outputs": [
    {
     "data": {
      "text/plain": [
       "(6, 5)"
      ]
     },
     "execution_count": 26,
     "metadata": {},
     "output_type": "execute_result"
    }
   ],
   "source": [
    "myarr.shape"
   ]
  },
  {
   "cell_type": "code",
   "execution_count": 27,
   "id": "0048ff95",
   "metadata": {},
   "outputs": [],
   "source": [
    "mydf = pd.DataFrame(myarr, index = range(6)) "
   ]
  },
  {
   "cell_type": "code",
   "execution_count": 28,
   "id": "c91d0a11",
   "metadata": {},
   "outputs": [
    {
     "data": {
      "text/html": [
       "<div>\n",
       "<style scoped>\n",
       "    .dataframe tbody tr th:only-of-type {\n",
       "        vertical-align: middle;\n",
       "    }\n",
       "\n",
       "    .dataframe tbody tr th {\n",
       "        vertical-align: top;\n",
       "    }\n",
       "\n",
       "    .dataframe thead th {\n",
       "        text-align: right;\n",
       "    }\n",
       "</style>\n",
       "<table border=\"1\" class=\"dataframe\">\n",
       "  <thead>\n",
       "    <tr style=\"text-align: right;\">\n",
       "      <th></th>\n",
       "      <th>0</th>\n",
       "      <th>1</th>\n",
       "      <th>2</th>\n",
       "      <th>3</th>\n",
       "      <th>4</th>\n",
       "    </tr>\n",
       "  </thead>\n",
       "  <tbody>\n",
       "    <tr>\n",
       "      <th>0</th>\n",
       "      <td>1</td>\n",
       "      <td>2</td>\n",
       "      <td>3</td>\n",
       "      <td>4</td>\n",
       "      <td>5</td>\n",
       "    </tr>\n",
       "    <tr>\n",
       "      <th>1</th>\n",
       "      <td>6</td>\n",
       "      <td>7</td>\n",
       "      <td>8</td>\n",
       "      <td>9</td>\n",
       "      <td>10</td>\n",
       "    </tr>\n",
       "    <tr>\n",
       "      <th>2</th>\n",
       "      <td>11</td>\n",
       "      <td>12</td>\n",
       "      <td>13</td>\n",
       "      <td>14</td>\n",
       "      <td>15</td>\n",
       "    </tr>\n",
       "    <tr>\n",
       "      <th>3</th>\n",
       "      <td>16</td>\n",
       "      <td>17</td>\n",
       "      <td>18</td>\n",
       "      <td>19</td>\n",
       "      <td>20</td>\n",
       "    </tr>\n",
       "    <tr>\n",
       "      <th>4</th>\n",
       "      <td>21</td>\n",
       "      <td>22</td>\n",
       "      <td>23</td>\n",
       "      <td>24</td>\n",
       "      <td>25</td>\n",
       "    </tr>\n",
       "    <tr>\n",
       "      <th>5</th>\n",
       "      <td>26</td>\n",
       "      <td>27</td>\n",
       "      <td>28</td>\n",
       "      <td>29</td>\n",
       "      <td>30</td>\n",
       "    </tr>\n",
       "  </tbody>\n",
       "</table>\n",
       "</div>"
      ],
      "text/plain": [
       "    0   1   2   3   4\n",
       "0   1   2   3   4   5\n",
       "1   6   7   8   9  10\n",
       "2  11  12  13  14  15\n",
       "3  16  17  18  19  20\n",
       "4  21  22  23  24  25\n",
       "5  26  27  28  29  30"
      ]
     },
     "execution_count": 28,
     "metadata": {},
     "output_type": "execute_result"
    }
   ],
   "source": [
    "mydf"
   ]
  },
  {
   "cell_type": "code",
   "execution_count": 29,
   "id": "1b144c56",
   "metadata": {},
   "outputs": [
    {
     "data": {
      "text/plain": [
       "array([0.1, 0.2, 0.3, 0.4, 0.5, 0.6, 0.7, 0.8, 0.9, 1. ])"
      ]
     },
     "execution_count": 29,
     "metadata": {},
     "output_type": "execute_result"
    }
   ],
   "source": [
    "np.linspace(0.1,1,10)"
   ]
  },
  {
   "cell_type": "code",
   "execution_count": 30,
   "id": "55d8e03b",
   "metadata": {},
   "outputs": [
    {
     "data": {
      "text/plain": [
       "'index = np.linspace(0.1,0.5,5)'"
      ]
     },
     "execution_count": 30,
     "metadata": {},
     "output_type": "execute_result"
    }
   ],
   "source": [
    "\"\"\"index = np.linspace(0.1,0.5,5)\"\"\" "
   ]
  },
  {
   "cell_type": "code",
   "execution_count": 31,
   "id": "ae912940",
   "metadata": {},
   "outputs": [],
   "source": [
    "testdf = pd.DataFrame(np.empty((9,5),dtype=int), index = np.linspace(0.2, 1.8, 9))"
   ]
  },
  {
   "cell_type": "code",
   "execution_count": 32,
   "id": "6ecd8f21",
   "metadata": {},
   "outputs": [],
   "source": [
    "testdf.columns = (\"A\",\"B\",\"C\",\"D\",\"E\") # changing the index of the columns"
   ]
  },
  {
   "cell_type": "code",
   "execution_count": 33,
   "id": "2b0523b2",
   "metadata": {},
   "outputs": [
    {
     "data": {
      "text/html": [
       "<div>\n",
       "<style scoped>\n",
       "    .dataframe tbody tr th:only-of-type {\n",
       "        vertical-align: middle;\n",
       "    }\n",
       "\n",
       "    .dataframe tbody tr th {\n",
       "        vertical-align: top;\n",
       "    }\n",
       "\n",
       "    .dataframe thead th {\n",
       "        text-align: right;\n",
       "    }\n",
       "</style>\n",
       "<table border=\"1\" class=\"dataframe\">\n",
       "  <thead>\n",
       "    <tr style=\"text-align: right;\">\n",
       "      <th></th>\n",
       "      <th>A</th>\n",
       "      <th>B</th>\n",
       "      <th>C</th>\n",
       "      <th>D</th>\n",
       "      <th>E</th>\n",
       "    </tr>\n",
       "  </thead>\n",
       "  <tbody>\n",
       "    <tr>\n",
       "      <th>0.2</th>\n",
       "      <td>93918491199747</td>\n",
       "      <td>0</td>\n",
       "      <td>140665488707120</td>\n",
       "      <td>140665488508656</td>\n",
       "      <td>140665466519344</td>\n",
       "    </tr>\n",
       "    <tr>\n",
       "      <th>0.4</th>\n",
       "      <td>140665466399872</td>\n",
       "      <td>140665487922928</td>\n",
       "      <td>140665466519488</td>\n",
       "      <td>140665488103536</td>\n",
       "      <td>140665487929712</td>\n",
       "    </tr>\n",
       "    <tr>\n",
       "      <th>0.6</th>\n",
       "      <td>140665466585200</td>\n",
       "      <td>140665466585392</td>\n",
       "      <td>140665466585648</td>\n",
       "      <td>140665466585840</td>\n",
       "      <td>140665466573392</td>\n",
       "    </tr>\n",
       "    <tr>\n",
       "      <th>0.8</th>\n",
       "      <td>140665488233584</td>\n",
       "      <td>140665488885232</td>\n",
       "      <td>140665466586160</td>\n",
       "      <td>140665466586224</td>\n",
       "      <td>140665477780208</td>\n",
       "    </tr>\n",
       "    <tr>\n",
       "      <th>1.0</th>\n",
       "      <td>140665466586416</td>\n",
       "      <td>140665466586480</td>\n",
       "      <td>140665466586736</td>\n",
       "      <td>140665466586816</td>\n",
       "      <td>140665487922160</td>\n",
       "    </tr>\n",
       "    <tr>\n",
       "      <th>1.2</th>\n",
       "      <td>140665487928304</td>\n",
       "      <td>140665487922224</td>\n",
       "      <td>140665487922288</td>\n",
       "      <td>140665487922352</td>\n",
       "      <td>140665487922096</td>\n",
       "    </tr>\n",
       "    <tr>\n",
       "      <th>1.4</th>\n",
       "      <td>140665487350256</td>\n",
       "      <td>140665486939120</td>\n",
       "      <td>140665487918256</td>\n",
       "      <td>140665488230384</td>\n",
       "      <td>140665487884464</td>\n",
       "    </tr>\n",
       "    <tr>\n",
       "      <th>1.6</th>\n",
       "      <td>140665486725040</td>\n",
       "      <td>140665487419440</td>\n",
       "      <td>140665465699120</td>\n",
       "      <td>140665488507824</td>\n",
       "      <td>140665488503664</td>\n",
       "    </tr>\n",
       "    <tr>\n",
       "      <th>1.8</th>\n",
       "      <td>140665488357424</td>\n",
       "      <td>140665487929392</td>\n",
       "      <td>140665488241584</td>\n",
       "      <td>140665487930928</td>\n",
       "      <td>368</td>\n",
       "    </tr>\n",
       "  </tbody>\n",
       "</table>\n",
       "</div>"
      ],
      "text/plain": [
       "                   A                B                C                D  \\\n",
       "0.2   93918491199747                0  140665488707120  140665488508656   \n",
       "0.4  140665466399872  140665487922928  140665466519488  140665488103536   \n",
       "0.6  140665466585200  140665466585392  140665466585648  140665466585840   \n",
       "0.8  140665488233584  140665488885232  140665466586160  140665466586224   \n",
       "1.0  140665466586416  140665466586480  140665466586736  140665466586816   \n",
       "1.2  140665487928304  140665487922224  140665487922288  140665487922352   \n",
       "1.4  140665487350256  140665486939120  140665487918256  140665488230384   \n",
       "1.6  140665486725040  140665487419440  140665465699120  140665488507824   \n",
       "1.8  140665488357424  140665487929392  140665488241584  140665487930928   \n",
       "\n",
       "                   E  \n",
       "0.2  140665466519344  \n",
       "0.4  140665487929712  \n",
       "0.6  140665466573392  \n",
       "0.8  140665477780208  \n",
       "1.0  140665487922160  \n",
       "1.2  140665487922096  \n",
       "1.4  140665487884464  \n",
       "1.6  140665488503664  \n",
       "1.8              368  "
      ]
     },
     "execution_count": 33,
     "metadata": {},
     "output_type": "execute_result"
    }
   ],
   "source": [
    "testdf"
   ]
  },
  {
   "cell_type": "code",
   "execution_count": 34,
   "id": "52bf5a9f",
   "metadata": {},
   "outputs": [],
   "source": [
    "# Acessing the values"
   ]
  },
  {
   "cell_type": "code",
   "execution_count": 35,
   "id": "4237def8",
   "metadata": {},
   "outputs": [
    {
     "data": {
      "text/plain": [
       "140665466399872"
      ]
     },
     "execution_count": 35,
     "metadata": {},
     "output_type": "execute_result"
    }
   ],
   "source": [
    "testdf['A'][0.4]"
   ]
  },
  {
   "cell_type": "code",
   "execution_count": 36,
   "id": "3930872e",
   "metadata": {},
   "outputs": [
    {
     "data": {
      "text/html": [
       "<div>\n",
       "<style scoped>\n",
       "    .dataframe tbody tr th:only-of-type {\n",
       "        vertical-align: middle;\n",
       "    }\n",
       "\n",
       "    .dataframe tbody tr th {\n",
       "        vertical-align: top;\n",
       "    }\n",
       "\n",
       "    .dataframe thead th {\n",
       "        text-align: right;\n",
       "    }\n",
       "</style>\n",
       "<table border=\"1\" class=\"dataframe\">\n",
       "  <thead>\n",
       "    <tr style=\"text-align: right;\">\n",
       "      <th></th>\n",
       "      <th>0.2</th>\n",
       "      <th>0.4</th>\n",
       "      <th>0.6</th>\n",
       "      <th>0.8</th>\n",
       "      <th>1.0</th>\n",
       "      <th>1.2</th>\n",
       "      <th>1.4</th>\n",
       "      <th>1.6</th>\n",
       "      <th>1.8</th>\n",
       "    </tr>\n",
       "  </thead>\n",
       "  <tbody>\n",
       "    <tr>\n",
       "      <th>A</th>\n",
       "      <td>93918491199747</td>\n",
       "      <td>140665466399872</td>\n",
       "      <td>140665466585200</td>\n",
       "      <td>140665488233584</td>\n",
       "      <td>140665466586416</td>\n",
       "      <td>140665487928304</td>\n",
       "      <td>140665487350256</td>\n",
       "      <td>140665486725040</td>\n",
       "      <td>140665488357424</td>\n",
       "    </tr>\n",
       "    <tr>\n",
       "      <th>B</th>\n",
       "      <td>0</td>\n",
       "      <td>140665487922928</td>\n",
       "      <td>140665466585392</td>\n",
       "      <td>140665488885232</td>\n",
       "      <td>140665466586480</td>\n",
       "      <td>140665487922224</td>\n",
       "      <td>140665486939120</td>\n",
       "      <td>140665487419440</td>\n",
       "      <td>140665487929392</td>\n",
       "    </tr>\n",
       "    <tr>\n",
       "      <th>C</th>\n",
       "      <td>140665488707120</td>\n",
       "      <td>140665466519488</td>\n",
       "      <td>140665466585648</td>\n",
       "      <td>140665466586160</td>\n",
       "      <td>140665466586736</td>\n",
       "      <td>140665487922288</td>\n",
       "      <td>140665487918256</td>\n",
       "      <td>140665465699120</td>\n",
       "      <td>140665488241584</td>\n",
       "    </tr>\n",
       "    <tr>\n",
       "      <th>D</th>\n",
       "      <td>140665488508656</td>\n",
       "      <td>140665488103536</td>\n",
       "      <td>140665466585840</td>\n",
       "      <td>140665466586224</td>\n",
       "      <td>140665466586816</td>\n",
       "      <td>140665487922352</td>\n",
       "      <td>140665488230384</td>\n",
       "      <td>140665488507824</td>\n",
       "      <td>140665487930928</td>\n",
       "    </tr>\n",
       "    <tr>\n",
       "      <th>E</th>\n",
       "      <td>140665466519344</td>\n",
       "      <td>140665487929712</td>\n",
       "      <td>140665466573392</td>\n",
       "      <td>140665477780208</td>\n",
       "      <td>140665487922160</td>\n",
       "      <td>140665487922096</td>\n",
       "      <td>140665487884464</td>\n",
       "      <td>140665488503664</td>\n",
       "      <td>368</td>\n",
       "    </tr>\n",
       "  </tbody>\n",
       "</table>\n",
       "</div>"
      ],
      "text/plain": [
       "               0.2              0.4              0.6              0.8  \\\n",
       "A   93918491199747  140665466399872  140665466585200  140665488233584   \n",
       "B                0  140665487922928  140665466585392  140665488885232   \n",
       "C  140665488707120  140665466519488  140665466585648  140665466586160   \n",
       "D  140665488508656  140665488103536  140665466585840  140665466586224   \n",
       "E  140665466519344  140665487929712  140665466573392  140665477780208   \n",
       "\n",
       "               1.0              1.2              1.4              1.6  \\\n",
       "A  140665466586416  140665487928304  140665487350256  140665486725040   \n",
       "B  140665466586480  140665487922224  140665486939120  140665487419440   \n",
       "C  140665466586736  140665487922288  140665487918256  140665465699120   \n",
       "D  140665466586816  140665487922352  140665488230384  140665488507824   \n",
       "E  140665487922160  140665487922096  140665487884464  140665488503664   \n",
       "\n",
       "               1.8  \n",
       "A  140665488357424  \n",
       "B  140665487929392  \n",
       "C  140665488241584  \n",
       "D  140665487930928  \n",
       "E              368  "
      ]
     },
     "execution_count": 36,
     "metadata": {},
     "output_type": "execute_result"
    }
   ],
   "source": [
    "testdf.T # taking transpose of the dataframe"
   ]
  },
  {
   "cell_type": "code",
   "execution_count": 37,
   "id": "454e4a65",
   "metadata": {},
   "outputs": [],
   "source": [
    "newdf = pd.DataFrame(np.random.rand(300,6),index = np.arange(300))"
   ]
  },
  {
   "cell_type": "code",
   "execution_count": 38,
   "id": "e232ab80",
   "metadata": {},
   "outputs": [
    {
     "data": {
      "text/html": [
       "<div>\n",
       "<style scoped>\n",
       "    .dataframe tbody tr th:only-of-type {\n",
       "        vertical-align: middle;\n",
       "    }\n",
       "\n",
       "    .dataframe tbody tr th {\n",
       "        vertical-align: top;\n",
       "    }\n",
       "\n",
       "    .dataframe thead th {\n",
       "        text-align: right;\n",
       "    }\n",
       "</style>\n",
       "<table border=\"1\" class=\"dataframe\">\n",
       "  <thead>\n",
       "    <tr style=\"text-align: right;\">\n",
       "      <th></th>\n",
       "      <th>0</th>\n",
       "      <th>1</th>\n",
       "      <th>2</th>\n",
       "      <th>3</th>\n",
       "      <th>4</th>\n",
       "      <th>5</th>\n",
       "    </tr>\n",
       "  </thead>\n",
       "  <tbody>\n",
       "    <tr>\n",
       "      <th>0</th>\n",
       "      <td>0.344422</td>\n",
       "      <td>0.926697</td>\n",
       "      <td>0.778187</td>\n",
       "      <td>0.274398</td>\n",
       "      <td>0.343690</td>\n",
       "      <td>0.458606</td>\n",
       "    </tr>\n",
       "    <tr>\n",
       "      <th>1</th>\n",
       "      <td>0.223485</td>\n",
       "      <td>0.347856</td>\n",
       "      <td>0.465580</td>\n",
       "      <td>0.108333</td>\n",
       "      <td>0.369583</td>\n",
       "      <td>0.595442</td>\n",
       "    </tr>\n",
       "    <tr>\n",
       "      <th>2</th>\n",
       "      <td>0.168075</td>\n",
       "      <td>0.676383</td>\n",
       "      <td>0.410130</td>\n",
       "      <td>0.704352</td>\n",
       "      <td>0.578163</td>\n",
       "      <td>0.199384</td>\n",
       "    </tr>\n",
       "    <tr>\n",
       "      <th>3</th>\n",
       "      <td>0.342149</td>\n",
       "      <td>0.309322</td>\n",
       "      <td>0.309085</td>\n",
       "      <td>0.051587</td>\n",
       "      <td>0.294236</td>\n",
       "      <td>0.859212</td>\n",
       "    </tr>\n",
       "    <tr>\n",
       "      <th>4</th>\n",
       "      <td>0.901422</td>\n",
       "      <td>0.060224</td>\n",
       "      <td>0.851643</td>\n",
       "      <td>0.018221</td>\n",
       "      <td>0.033832</td>\n",
       "      <td>0.320243</td>\n",
       "    </tr>\n",
       "    <tr>\n",
       "      <th>...</th>\n",
       "      <td>...</td>\n",
       "      <td>...</td>\n",
       "      <td>...</td>\n",
       "      <td>...</td>\n",
       "      <td>...</td>\n",
       "      <td>...</td>\n",
       "    </tr>\n",
       "    <tr>\n",
       "      <th>295</th>\n",
       "      <td>0.998935</td>\n",
       "      <td>0.378079</td>\n",
       "      <td>0.596371</td>\n",
       "      <td>0.512926</td>\n",
       "      <td>0.514446</td>\n",
       "      <td>0.901336</td>\n",
       "    </tr>\n",
       "    <tr>\n",
       "      <th>296</th>\n",
       "      <td>0.735239</td>\n",
       "      <td>0.143443</td>\n",
       "      <td>0.122653</td>\n",
       "      <td>0.053561</td>\n",
       "      <td>0.752470</td>\n",
       "      <td>0.527585</td>\n",
       "    </tr>\n",
       "    <tr>\n",
       "      <th>297</th>\n",
       "      <td>0.780893</td>\n",
       "      <td>0.672075</td>\n",
       "      <td>0.677806</td>\n",
       "      <td>0.985171</td>\n",
       "      <td>0.026632</td>\n",
       "      <td>0.788937</td>\n",
       "    </tr>\n",
       "    <tr>\n",
       "      <th>298</th>\n",
       "      <td>0.643694</td>\n",
       "      <td>0.917853</td>\n",
       "      <td>0.336956</td>\n",
       "      <td>0.051020</td>\n",
       "      <td>0.486341</td>\n",
       "      <td>0.456941</td>\n",
       "    </tr>\n",
       "    <tr>\n",
       "      <th>299</th>\n",
       "      <td>0.341368</td>\n",
       "      <td>0.423533</td>\n",
       "      <td>0.986259</td>\n",
       "      <td>0.021008</td>\n",
       "      <td>0.471760</td>\n",
       "      <td>0.457408</td>\n",
       "    </tr>\n",
       "  </tbody>\n",
       "</table>\n",
       "<p>300 rows × 6 columns</p>\n",
       "</div>"
      ],
      "text/plain": [
       "            0         1         2         3         4         5\n",
       "0    0.344422  0.926697  0.778187  0.274398  0.343690  0.458606\n",
       "1    0.223485  0.347856  0.465580  0.108333  0.369583  0.595442\n",
       "2    0.168075  0.676383  0.410130  0.704352  0.578163  0.199384\n",
       "3    0.342149  0.309322  0.309085  0.051587  0.294236  0.859212\n",
       "4    0.901422  0.060224  0.851643  0.018221  0.033832  0.320243\n",
       "..        ...       ...       ...       ...       ...       ...\n",
       "295  0.998935  0.378079  0.596371  0.512926  0.514446  0.901336\n",
       "296  0.735239  0.143443  0.122653  0.053561  0.752470  0.527585\n",
       "297  0.780893  0.672075  0.677806  0.985171  0.026632  0.788937\n",
       "298  0.643694  0.917853  0.336956  0.051020  0.486341  0.456941\n",
       "299  0.341368  0.423533  0.986259  0.021008  0.471760  0.457408\n",
       "\n",
       "[300 rows x 6 columns]"
      ]
     },
     "execution_count": 38,
     "metadata": {},
     "output_type": "execute_result"
    }
   ],
   "source": [
    "newdf"
   ]
  },
  {
   "cell_type": "code",
   "execution_count": 39,
   "id": "e4a07cd8",
   "metadata": {},
   "outputs": [
    {
     "data": {
      "text/plain": [
       "pandas.core.frame.DataFrame"
      ]
     },
     "execution_count": 39,
     "metadata": {},
     "output_type": "execute_result"
    }
   ],
   "source": [
    "type(newdf)"
   ]
  },
  {
   "cell_type": "code",
   "execution_count": 40,
   "id": "77b1f824",
   "metadata": {},
   "outputs": [
    {
     "data": {
      "text/html": [
       "<div>\n",
       "<style scoped>\n",
       "    .dataframe tbody tr th:only-of-type {\n",
       "        vertical-align: middle;\n",
       "    }\n",
       "\n",
       "    .dataframe tbody tr th {\n",
       "        vertical-align: top;\n",
       "    }\n",
       "\n",
       "    .dataframe thead th {\n",
       "        text-align: right;\n",
       "    }\n",
       "</style>\n",
       "<table border=\"1\" class=\"dataframe\">\n",
       "  <thead>\n",
       "    <tr style=\"text-align: right;\">\n",
       "      <th></th>\n",
       "      <th>0</th>\n",
       "      <th>1</th>\n",
       "      <th>2</th>\n",
       "      <th>3</th>\n",
       "      <th>4</th>\n",
       "      <th>5</th>\n",
       "    </tr>\n",
       "  </thead>\n",
       "  <tbody>\n",
       "    <tr>\n",
       "      <th>count</th>\n",
       "      <td>300.000000</td>\n",
       "      <td>300.000000</td>\n",
       "      <td>300.000000</td>\n",
       "      <td>300.000000</td>\n",
       "      <td>300.000000</td>\n",
       "      <td>300.000000</td>\n",
       "    </tr>\n",
       "    <tr>\n",
       "      <th>mean</th>\n",
       "      <td>0.516159</td>\n",
       "      <td>0.476536</td>\n",
       "      <td>0.529062</td>\n",
       "      <td>0.477105</td>\n",
       "      <td>0.497846</td>\n",
       "      <td>0.500906</td>\n",
       "    </tr>\n",
       "    <tr>\n",
       "      <th>std</th>\n",
       "      <td>0.273147</td>\n",
       "      <td>0.281630</td>\n",
       "      <td>0.299643</td>\n",
       "      <td>0.277983</td>\n",
       "      <td>0.288400</td>\n",
       "      <td>0.281591</td>\n",
       "    </tr>\n",
       "    <tr>\n",
       "      <th>min</th>\n",
       "      <td>0.000173</td>\n",
       "      <td>0.003061</td>\n",
       "      <td>0.000149</td>\n",
       "      <td>0.003200</td>\n",
       "      <td>0.001737</td>\n",
       "      <td>0.000184</td>\n",
       "    </tr>\n",
       "    <tr>\n",
       "      <th>25%</th>\n",
       "      <td>0.279139</td>\n",
       "      <td>0.236748</td>\n",
       "      <td>0.248327</td>\n",
       "      <td>0.242421</td>\n",
       "      <td>0.236596</td>\n",
       "      <td>0.269728</td>\n",
       "    </tr>\n",
       "    <tr>\n",
       "      <th>50%</th>\n",
       "      <td>0.531930</td>\n",
       "      <td>0.448920</td>\n",
       "      <td>0.538922</td>\n",
       "      <td>0.482931</td>\n",
       "      <td>0.519210</td>\n",
       "      <td>0.493485</td>\n",
       "    </tr>\n",
       "    <tr>\n",
       "      <th>75%</th>\n",
       "      <td>0.753957</td>\n",
       "      <td>0.695137</td>\n",
       "      <td>0.789107</td>\n",
       "      <td>0.683587</td>\n",
       "      <td>0.750155</td>\n",
       "      <td>0.755577</td>\n",
       "    </tr>\n",
       "    <tr>\n",
       "      <th>max</th>\n",
       "      <td>0.998935</td>\n",
       "      <td>0.999580</td>\n",
       "      <td>0.992369</td>\n",
       "      <td>0.992614</td>\n",
       "      <td>0.995432</td>\n",
       "      <td>0.996836</td>\n",
       "    </tr>\n",
       "  </tbody>\n",
       "</table>\n",
       "</div>"
      ],
      "text/plain": [
       "                0           1           2           3           4           5\n",
       "count  300.000000  300.000000  300.000000  300.000000  300.000000  300.000000\n",
       "mean     0.516159    0.476536    0.529062    0.477105    0.497846    0.500906\n",
       "std      0.273147    0.281630    0.299643    0.277983    0.288400    0.281591\n",
       "min      0.000173    0.003061    0.000149    0.003200    0.001737    0.000184\n",
       "25%      0.279139    0.236748    0.248327    0.242421    0.236596    0.269728\n",
       "50%      0.531930    0.448920    0.538922    0.482931    0.519210    0.493485\n",
       "75%      0.753957    0.695137    0.789107    0.683587    0.750155    0.755577\n",
       "max      0.998935    0.999580    0.992369    0.992614    0.995432    0.996836"
      ]
     },
     "execution_count": 40,
     "metadata": {},
     "output_type": "execute_result"
    }
   ],
   "source": [
    "newdf.describe()"
   ]
  },
  {
   "cell_type": "code",
   "execution_count": 41,
   "id": "27650666",
   "metadata": {},
   "outputs": [
    {
     "data": {
      "text/html": [
       "<div>\n",
       "<style scoped>\n",
       "    .dataframe tbody tr th:only-of-type {\n",
       "        vertical-align: middle;\n",
       "    }\n",
       "\n",
       "    .dataframe tbody tr th {\n",
       "        vertical-align: top;\n",
       "    }\n",
       "\n",
       "    .dataframe thead th {\n",
       "        text-align: right;\n",
       "    }\n",
       "</style>\n",
       "<table border=\"1\" class=\"dataframe\">\n",
       "  <thead>\n",
       "    <tr style=\"text-align: right;\">\n",
       "      <th></th>\n",
       "      <th>0</th>\n",
       "      <th>1</th>\n",
       "      <th>2</th>\n",
       "      <th>3</th>\n",
       "      <th>4</th>\n",
       "      <th>5</th>\n",
       "    </tr>\n",
       "  </thead>\n",
       "  <tbody>\n",
       "    <tr>\n",
       "      <th>0</th>\n",
       "      <td>0.344422</td>\n",
       "      <td>0.926697</td>\n",
       "      <td>0.778187</td>\n",
       "      <td>0.274398</td>\n",
       "      <td>0.343690</td>\n",
       "      <td>0.458606</td>\n",
       "    </tr>\n",
       "    <tr>\n",
       "      <th>1</th>\n",
       "      <td>0.223485</td>\n",
       "      <td>0.347856</td>\n",
       "      <td>0.465580</td>\n",
       "      <td>0.108333</td>\n",
       "      <td>0.369583</td>\n",
       "      <td>0.595442</td>\n",
       "    </tr>\n",
       "    <tr>\n",
       "      <th>2</th>\n",
       "      <td>0.168075</td>\n",
       "      <td>0.676383</td>\n",
       "      <td>0.410130</td>\n",
       "      <td>0.704352</td>\n",
       "      <td>0.578163</td>\n",
       "      <td>0.199384</td>\n",
       "    </tr>\n",
       "    <tr>\n",
       "      <th>3</th>\n",
       "      <td>0.342149</td>\n",
       "      <td>0.309322</td>\n",
       "      <td>0.309085</td>\n",
       "      <td>0.051587</td>\n",
       "      <td>0.294236</td>\n",
       "      <td>0.859212</td>\n",
       "    </tr>\n",
       "    <tr>\n",
       "      <th>4</th>\n",
       "      <td>0.901422</td>\n",
       "      <td>0.060224</td>\n",
       "      <td>0.851643</td>\n",
       "      <td>0.018221</td>\n",
       "      <td>0.033832</td>\n",
       "      <td>0.320243</td>\n",
       "    </tr>\n",
       "    <tr>\n",
       "      <th>5</th>\n",
       "      <td>0.706156</td>\n",
       "      <td>0.396901</td>\n",
       "      <td>0.078843</td>\n",
       "      <td>0.783731</td>\n",
       "      <td>0.001737</td>\n",
       "      <td>0.223744</td>\n",
       "    </tr>\n",
       "    <tr>\n",
       "      <th>6</th>\n",
       "      <td>0.649125</td>\n",
       "      <td>0.161890</td>\n",
       "      <td>0.066613</td>\n",
       "      <td>0.775399</td>\n",
       "      <td>0.541802</td>\n",
       "      <td>0.034465</td>\n",
       "    </tr>\n",
       "    <tr>\n",
       "      <th>7</th>\n",
       "      <td>0.398451</td>\n",
       "      <td>0.891473</td>\n",
       "      <td>0.259242</td>\n",
       "      <td>0.119087</td>\n",
       "      <td>0.129747</td>\n",
       "      <td>0.049299</td>\n",
       "    </tr>\n",
       "  </tbody>\n",
       "</table>\n",
       "</div>"
      ],
      "text/plain": [
       "          0         1         2         3         4         5\n",
       "0  0.344422  0.926697  0.778187  0.274398  0.343690  0.458606\n",
       "1  0.223485  0.347856  0.465580  0.108333  0.369583  0.595442\n",
       "2  0.168075  0.676383  0.410130  0.704352  0.578163  0.199384\n",
       "3  0.342149  0.309322  0.309085  0.051587  0.294236  0.859212\n",
       "4  0.901422  0.060224  0.851643  0.018221  0.033832  0.320243\n",
       "5  0.706156  0.396901  0.078843  0.783731  0.001737  0.223744\n",
       "6  0.649125  0.161890  0.066613  0.775399  0.541802  0.034465\n",
       "7  0.398451  0.891473  0.259242  0.119087  0.129747  0.049299"
      ]
     },
     "execution_count": 41,
     "metadata": {},
     "output_type": "execute_result"
    }
   ],
   "source": [
    "newdf.head(8)"
   ]
  },
  {
   "cell_type": "code",
   "execution_count": 42,
   "id": "59c10682",
   "metadata": {},
   "outputs": [
    {
     "data": {
      "text/html": [
       "<div>\n",
       "<style scoped>\n",
       "    .dataframe tbody tr th:only-of-type {\n",
       "        vertical-align: middle;\n",
       "    }\n",
       "\n",
       "    .dataframe tbody tr th {\n",
       "        vertical-align: top;\n",
       "    }\n",
       "\n",
       "    .dataframe thead th {\n",
       "        text-align: right;\n",
       "    }\n",
       "</style>\n",
       "<table border=\"1\" class=\"dataframe\">\n",
       "  <thead>\n",
       "    <tr style=\"text-align: right;\">\n",
       "      <th></th>\n",
       "      <th>0</th>\n",
       "      <th>1</th>\n",
       "      <th>2</th>\n",
       "      <th>3</th>\n",
       "      <th>4</th>\n",
       "      <th>5</th>\n",
       "    </tr>\n",
       "  </thead>\n",
       "  <tbody>\n",
       "    <tr>\n",
       "      <th>292</th>\n",
       "      <td>0.160110</td>\n",
       "      <td>0.458284</td>\n",
       "      <td>0.960899</td>\n",
       "      <td>0.097131</td>\n",
       "      <td>0.946460</td>\n",
       "      <td>0.404372</td>\n",
       "    </tr>\n",
       "    <tr>\n",
       "      <th>293</th>\n",
       "      <td>0.413518</td>\n",
       "      <td>0.672250</td>\n",
       "      <td>0.947116</td>\n",
       "      <td>0.736484</td>\n",
       "      <td>0.212964</td>\n",
       "      <td>0.642239</td>\n",
       "    </tr>\n",
       "    <tr>\n",
       "      <th>294</th>\n",
       "      <td>0.933953</td>\n",
       "      <td>0.793277</td>\n",
       "      <td>0.124639</td>\n",
       "      <td>0.620223</td>\n",
       "      <td>0.544128</td>\n",
       "      <td>0.376710</td>\n",
       "    </tr>\n",
       "    <tr>\n",
       "      <th>295</th>\n",
       "      <td>0.998935</td>\n",
       "      <td>0.378079</td>\n",
       "      <td>0.596371</td>\n",
       "      <td>0.512926</td>\n",
       "      <td>0.514446</td>\n",
       "      <td>0.901336</td>\n",
       "    </tr>\n",
       "    <tr>\n",
       "      <th>296</th>\n",
       "      <td>0.735239</td>\n",
       "      <td>0.143443</td>\n",
       "      <td>0.122653</td>\n",
       "      <td>0.053561</td>\n",
       "      <td>0.752470</td>\n",
       "      <td>0.527585</td>\n",
       "    </tr>\n",
       "    <tr>\n",
       "      <th>297</th>\n",
       "      <td>0.780893</td>\n",
       "      <td>0.672075</td>\n",
       "      <td>0.677806</td>\n",
       "      <td>0.985171</td>\n",
       "      <td>0.026632</td>\n",
       "      <td>0.788937</td>\n",
       "    </tr>\n",
       "    <tr>\n",
       "      <th>298</th>\n",
       "      <td>0.643694</td>\n",
       "      <td>0.917853</td>\n",
       "      <td>0.336956</td>\n",
       "      <td>0.051020</td>\n",
       "      <td>0.486341</td>\n",
       "      <td>0.456941</td>\n",
       "    </tr>\n",
       "    <tr>\n",
       "      <th>299</th>\n",
       "      <td>0.341368</td>\n",
       "      <td>0.423533</td>\n",
       "      <td>0.986259</td>\n",
       "      <td>0.021008</td>\n",
       "      <td>0.471760</td>\n",
       "      <td>0.457408</td>\n",
       "    </tr>\n",
       "  </tbody>\n",
       "</table>\n",
       "</div>"
      ],
      "text/plain": [
       "            0         1         2         3         4         5\n",
       "292  0.160110  0.458284  0.960899  0.097131  0.946460  0.404372\n",
       "293  0.413518  0.672250  0.947116  0.736484  0.212964  0.642239\n",
       "294  0.933953  0.793277  0.124639  0.620223  0.544128  0.376710\n",
       "295  0.998935  0.378079  0.596371  0.512926  0.514446  0.901336\n",
       "296  0.735239  0.143443  0.122653  0.053561  0.752470  0.527585\n",
       "297  0.780893  0.672075  0.677806  0.985171  0.026632  0.788937\n",
       "298  0.643694  0.917853  0.336956  0.051020  0.486341  0.456941\n",
       "299  0.341368  0.423533  0.986259  0.021008  0.471760  0.457408"
      ]
     },
     "execution_count": 42,
     "metadata": {},
     "output_type": "execute_result"
    }
   ],
   "source": [
    "newdf.tail(8)"
   ]
  },
  {
   "cell_type": "code",
   "execution_count": 43,
   "id": "3a99d3ec",
   "metadata": {},
   "outputs": [
    {
     "data": {
      "text/plain": [
       "0    float64\n",
       "1    float64\n",
       "2    float64\n",
       "3    float64\n",
       "4    float64\n",
       "5    float64\n",
       "dtype: object"
      ]
     },
     "execution_count": 43,
     "metadata": {},
     "output_type": "execute_result"
    }
   ],
   "source": [
    "newdf.dtypes"
   ]
  },
  {
   "cell_type": "code",
   "execution_count": 44,
   "id": "9c3cd0c2",
   "metadata": {},
   "outputs": [
    {
     "data": {
      "text/plain": [
       "0.7020523801585512"
      ]
     },
     "execution_count": 44,
     "metadata": {},
     "output_type": "execute_result"
    }
   ],
   "source": [
    "newdf[5][115] "
   ]
  },
  {
   "cell_type": "code",
   "execution_count": 45,
   "id": "c76c4e44",
   "metadata": {},
   "outputs": [
    {
     "name": "stderr",
     "output_type": "stream",
     "text": [
      "/tmp/ipykernel_73809/732091781.py:3: SettingWithCopyWarning: \n",
      "A value is trying to be set on a copy of a slice from a DataFrame\n",
      "\n",
      "See the caveats in the documentation: https://pandas.pydata.org/pandas-docs/stable/user_guide/indexing.html#returning-a-view-versus-a-copy\n",
      "  newdf[1][1] = \"Tq\"\n"
     ]
    }
   ],
   "source": [
    "# mutating the data-frame, raises a warning though\n",
    "newdf[5][3] = \"Hii\"\n",
    "newdf[1][1] = \"Tq\""
   ]
  },
  {
   "cell_type": "code",
   "execution_count": 46,
   "id": "dd2f255a",
   "metadata": {},
   "outputs": [
    {
     "data": {
      "text/html": [
       "<div>\n",
       "<style scoped>\n",
       "    .dataframe tbody tr th:only-of-type {\n",
       "        vertical-align: middle;\n",
       "    }\n",
       "\n",
       "    .dataframe tbody tr th {\n",
       "        vertical-align: top;\n",
       "    }\n",
       "\n",
       "    .dataframe thead th {\n",
       "        text-align: right;\n",
       "    }\n",
       "</style>\n",
       "<table border=\"1\" class=\"dataframe\">\n",
       "  <thead>\n",
       "    <tr style=\"text-align: right;\">\n",
       "      <th></th>\n",
       "      <th>0</th>\n",
       "      <th>1</th>\n",
       "      <th>2</th>\n",
       "      <th>3</th>\n",
       "      <th>4</th>\n",
       "      <th>5</th>\n",
       "    </tr>\n",
       "  </thead>\n",
       "  <tbody>\n",
       "    <tr>\n",
       "      <th>0</th>\n",
       "      <td>0.344422</td>\n",
       "      <td>0.926697</td>\n",
       "      <td>0.778187</td>\n",
       "      <td>0.274398</td>\n",
       "      <td>0.343690</td>\n",
       "      <td>0.458606</td>\n",
       "    </tr>\n",
       "    <tr>\n",
       "      <th>1</th>\n",
       "      <td>0.223485</td>\n",
       "      <td>Tq</td>\n",
       "      <td>0.465580</td>\n",
       "      <td>0.108333</td>\n",
       "      <td>0.369583</td>\n",
       "      <td>0.595442</td>\n",
       "    </tr>\n",
       "    <tr>\n",
       "      <th>2</th>\n",
       "      <td>0.168075</td>\n",
       "      <td>0.676383</td>\n",
       "      <td>0.410130</td>\n",
       "      <td>0.704352</td>\n",
       "      <td>0.578163</td>\n",
       "      <td>0.199384</td>\n",
       "    </tr>\n",
       "    <tr>\n",
       "      <th>3</th>\n",
       "      <td>0.342149</td>\n",
       "      <td>0.309322</td>\n",
       "      <td>0.309085</td>\n",
       "      <td>0.051587</td>\n",
       "      <td>0.294236</td>\n",
       "      <td>Hii</td>\n",
       "    </tr>\n",
       "    <tr>\n",
       "      <th>4</th>\n",
       "      <td>0.901422</td>\n",
       "      <td>0.060224</td>\n",
       "      <td>0.851643</td>\n",
       "      <td>0.018221</td>\n",
       "      <td>0.033832</td>\n",
       "      <td>0.320243</td>\n",
       "    </tr>\n",
       "    <tr>\n",
       "      <th>...</th>\n",
       "      <td>...</td>\n",
       "      <td>...</td>\n",
       "      <td>...</td>\n",
       "      <td>...</td>\n",
       "      <td>...</td>\n",
       "      <td>...</td>\n",
       "    </tr>\n",
       "    <tr>\n",
       "      <th>295</th>\n",
       "      <td>0.998935</td>\n",
       "      <td>0.378079</td>\n",
       "      <td>0.596371</td>\n",
       "      <td>0.512926</td>\n",
       "      <td>0.514446</td>\n",
       "      <td>0.901336</td>\n",
       "    </tr>\n",
       "    <tr>\n",
       "      <th>296</th>\n",
       "      <td>0.735239</td>\n",
       "      <td>0.143443</td>\n",
       "      <td>0.122653</td>\n",
       "      <td>0.053561</td>\n",
       "      <td>0.752470</td>\n",
       "      <td>0.527585</td>\n",
       "    </tr>\n",
       "    <tr>\n",
       "      <th>297</th>\n",
       "      <td>0.780893</td>\n",
       "      <td>0.672075</td>\n",
       "      <td>0.677806</td>\n",
       "      <td>0.985171</td>\n",
       "      <td>0.026632</td>\n",
       "      <td>0.788937</td>\n",
       "    </tr>\n",
       "    <tr>\n",
       "      <th>298</th>\n",
       "      <td>0.643694</td>\n",
       "      <td>0.917853</td>\n",
       "      <td>0.336956</td>\n",
       "      <td>0.051020</td>\n",
       "      <td>0.486341</td>\n",
       "      <td>0.456941</td>\n",
       "    </tr>\n",
       "    <tr>\n",
       "      <th>299</th>\n",
       "      <td>0.341368</td>\n",
       "      <td>0.423533</td>\n",
       "      <td>0.986259</td>\n",
       "      <td>0.021008</td>\n",
       "      <td>0.471760</td>\n",
       "      <td>0.457408</td>\n",
       "    </tr>\n",
       "  </tbody>\n",
       "</table>\n",
       "<p>300 rows × 6 columns</p>\n",
       "</div>"
      ],
      "text/plain": [
       "            0         1         2         3         4         5\n",
       "0    0.344422  0.926697  0.778187  0.274398  0.343690  0.458606\n",
       "1    0.223485        Tq  0.465580  0.108333  0.369583  0.595442\n",
       "2    0.168075  0.676383  0.410130  0.704352  0.578163  0.199384\n",
       "3    0.342149  0.309322  0.309085  0.051587  0.294236       Hii\n",
       "4    0.901422  0.060224  0.851643  0.018221  0.033832  0.320243\n",
       "..        ...       ...       ...       ...       ...       ...\n",
       "295  0.998935  0.378079  0.596371  0.512926  0.514446  0.901336\n",
       "296  0.735239  0.143443  0.122653  0.053561  0.752470  0.527585\n",
       "297  0.780893  0.672075  0.677806  0.985171  0.026632  0.788937\n",
       "298  0.643694  0.917853  0.336956  0.051020  0.486341  0.456941\n",
       "299  0.341368  0.423533  0.986259  0.021008  0.471760  0.457408\n",
       "\n",
       "[300 rows x 6 columns]"
      ]
     },
     "execution_count": 46,
     "metadata": {},
     "output_type": "execute_result"
    }
   ],
   "source": [
    "newdf"
   ]
  },
  {
   "cell_type": "code",
   "execution_count": 47,
   "id": "b4259c70",
   "metadata": {},
   "outputs": [
    {
     "data": {
      "text/plain": [
       "0    float64\n",
       "1     object\n",
       "2    float64\n",
       "3    float64\n",
       "4    float64\n",
       "5     object\n",
       "dtype: object"
      ]
     },
     "execution_count": 47,
     "metadata": {},
     "output_type": "execute_result"
    }
   ],
   "source": [
    "newdf.dtypes"
   ]
  },
  {
   "cell_type": "code",
   "execution_count": 48,
   "id": "5ecd15ce",
   "metadata": {},
   "outputs": [
    {
     "data": {
      "text/plain": [
       "RangeIndex(start=0, stop=6, step=1)"
      ]
     },
     "execution_count": 48,
     "metadata": {},
     "output_type": "execute_result"
    }
   ],
   "source": [
    "newdf.columns"
   ]
  },
  {
   "cell_type": "code",
   "execution_count": 49,
   "id": "19442994",
   "metadata": {},
   "outputs": [
    {
     "data": {
      "text/plain": [
       "array([[ 1,  2,  3,  4,  5],\n",
       "       [ 6,  7,  8,  9, 10],\n",
       "       [11, 12, 13, 14, 15],\n",
       "       [16, 17, 18, 19, 20],\n",
       "       [21, 22, 23, 24, 25],\n",
       "       [26, 27, 28, 29, 30]])"
      ]
     },
     "execution_count": 49,
     "metadata": {},
     "output_type": "execute_result"
    }
   ],
   "source": [
    "myarr"
   ]
  },
  {
   "cell_type": "code",
   "execution_count": 50,
   "id": "0fbedbfa",
   "metadata": {},
   "outputs": [
    {
     "data": {
      "text/plain": [
       "array([[ 1,  6, 11, 16, 21, 26],\n",
       "       [ 2,  7, 12, 17, 22, 27],\n",
       "       [ 3,  8, 13, 18, 23, 28],\n",
       "       [ 4,  9, 14, 19, 24, 29],\n",
       "       [ 5, 10, 15, 20, 25, 30]])"
      ]
     },
     "execution_count": 50,
     "metadata": {},
     "output_type": "execute_result"
    }
   ],
   "source": [
    "myarr.T # taking transpose of an array"
   ]
  },
  {
   "cell_type": "code",
   "execution_count": 51,
   "id": "0ad6955e",
   "metadata": {},
   "outputs": [],
   "source": [
    "arrdf = pd.DataFrame(myarr)"
   ]
  },
  {
   "cell_type": "code",
   "execution_count": 52,
   "id": "a95ecf1f",
   "metadata": {},
   "outputs": [
    {
     "data": {
      "text/html": [
       "<div>\n",
       "<style scoped>\n",
       "    .dataframe tbody tr th:only-of-type {\n",
       "        vertical-align: middle;\n",
       "    }\n",
       "\n",
       "    .dataframe tbody tr th {\n",
       "        vertical-align: top;\n",
       "    }\n",
       "\n",
       "    .dataframe thead th {\n",
       "        text-align: right;\n",
       "    }\n",
       "</style>\n",
       "<table border=\"1\" class=\"dataframe\">\n",
       "  <thead>\n",
       "    <tr style=\"text-align: right;\">\n",
       "      <th></th>\n",
       "      <th>0</th>\n",
       "      <th>1</th>\n",
       "      <th>2</th>\n",
       "      <th>3</th>\n",
       "      <th>4</th>\n",
       "    </tr>\n",
       "  </thead>\n",
       "  <tbody>\n",
       "    <tr>\n",
       "      <th>0</th>\n",
       "      <td>1</td>\n",
       "      <td>2</td>\n",
       "      <td>3</td>\n",
       "      <td>4</td>\n",
       "      <td>5</td>\n",
       "    </tr>\n",
       "    <tr>\n",
       "      <th>1</th>\n",
       "      <td>6</td>\n",
       "      <td>7</td>\n",
       "      <td>8</td>\n",
       "      <td>9</td>\n",
       "      <td>10</td>\n",
       "    </tr>\n",
       "    <tr>\n",
       "      <th>2</th>\n",
       "      <td>11</td>\n",
       "      <td>12</td>\n",
       "      <td>13</td>\n",
       "      <td>14</td>\n",
       "      <td>15</td>\n",
       "    </tr>\n",
       "    <tr>\n",
       "      <th>3</th>\n",
       "      <td>16</td>\n",
       "      <td>17</td>\n",
       "      <td>18</td>\n",
       "      <td>19</td>\n",
       "      <td>20</td>\n",
       "    </tr>\n",
       "    <tr>\n",
       "      <th>4</th>\n",
       "      <td>21</td>\n",
       "      <td>22</td>\n",
       "      <td>23</td>\n",
       "      <td>24</td>\n",
       "      <td>25</td>\n",
       "    </tr>\n",
       "    <tr>\n",
       "      <th>5</th>\n",
       "      <td>26</td>\n",
       "      <td>27</td>\n",
       "      <td>28</td>\n",
       "      <td>29</td>\n",
       "      <td>30</td>\n",
       "    </tr>\n",
       "  </tbody>\n",
       "</table>\n",
       "</div>"
      ],
      "text/plain": [
       "    0   1   2   3   4\n",
       "0   1   2   3   4   5\n",
       "1   6   7   8   9  10\n",
       "2  11  12  13  14  15\n",
       "3  16  17  18  19  20\n",
       "4  21  22  23  24  25\n",
       "5  26  27  28  29  30"
      ]
     },
     "execution_count": 52,
     "metadata": {},
     "output_type": "execute_result"
    }
   ],
   "source": [
    "arrdf"
   ]
  },
  {
   "cell_type": "code",
   "execution_count": 53,
   "id": "62f59261",
   "metadata": {},
   "outputs": [
    {
     "data": {
      "text/plain": [
       "0    1\n",
       "1    2\n",
       "2    3\n",
       "3    4\n",
       "4    5\n",
       "Name: 0, dtype: int64"
      ]
     },
     "execution_count": 53,
     "metadata": {},
     "output_type": "execute_result"
    }
   ],
   "source": [
    "arrdf.loc[0] # returns first row"
   ]
  },
  {
   "cell_type": "code",
   "execution_count": 54,
   "id": "4a995e99",
   "metadata": {},
   "outputs": [
    {
     "data": {
      "text/plain": [
       "3"
      ]
     },
     "execution_count": 54,
     "metadata": {},
     "output_type": "execute_result"
    }
   ],
   "source": [
    "arrdf.loc[0, 2] # returns first row, third column"
   ]
  },
  {
   "cell_type": "code",
   "execution_count": 55,
   "id": "71a28060",
   "metadata": {},
   "outputs": [],
   "source": [
    "arrdf.loc[0,5] = 123 # non- =existent column will be created"
   ]
  },
  {
   "cell_type": "code",
   "execution_count": 56,
   "id": "5b556a78",
   "metadata": {},
   "outputs": [
    {
     "data": {
      "text/html": [
       "<div>\n",
       "<style scoped>\n",
       "    .dataframe tbody tr th:only-of-type {\n",
       "        vertical-align: middle;\n",
       "    }\n",
       "\n",
       "    .dataframe tbody tr th {\n",
       "        vertical-align: top;\n",
       "    }\n",
       "\n",
       "    .dataframe thead th {\n",
       "        text-align: right;\n",
       "    }\n",
       "</style>\n",
       "<table border=\"1\" class=\"dataframe\">\n",
       "  <thead>\n",
       "    <tr style=\"text-align: right;\">\n",
       "      <th></th>\n",
       "      <th>0</th>\n",
       "      <th>1</th>\n",
       "      <th>2</th>\n",
       "      <th>3</th>\n",
       "      <th>4</th>\n",
       "      <th>5</th>\n",
       "    </tr>\n",
       "  </thead>\n",
       "  <tbody>\n",
       "    <tr>\n",
       "      <th>0</th>\n",
       "      <td>1</td>\n",
       "      <td>2</td>\n",
       "      <td>3</td>\n",
       "      <td>4</td>\n",
       "      <td>5</td>\n",
       "      <td>123.0</td>\n",
       "    </tr>\n",
       "    <tr>\n",
       "      <th>1</th>\n",
       "      <td>6</td>\n",
       "      <td>7</td>\n",
       "      <td>8</td>\n",
       "      <td>9</td>\n",
       "      <td>10</td>\n",
       "      <td>NaN</td>\n",
       "    </tr>\n",
       "    <tr>\n",
       "      <th>2</th>\n",
       "      <td>11</td>\n",
       "      <td>12</td>\n",
       "      <td>13</td>\n",
       "      <td>14</td>\n",
       "      <td>15</td>\n",
       "      <td>NaN</td>\n",
       "    </tr>\n",
       "    <tr>\n",
       "      <th>3</th>\n",
       "      <td>16</td>\n",
       "      <td>17</td>\n",
       "      <td>18</td>\n",
       "      <td>19</td>\n",
       "      <td>20</td>\n",
       "      <td>NaN</td>\n",
       "    </tr>\n",
       "    <tr>\n",
       "      <th>4</th>\n",
       "      <td>21</td>\n",
       "      <td>22</td>\n",
       "      <td>23</td>\n",
       "      <td>24</td>\n",
       "      <td>25</td>\n",
       "      <td>NaN</td>\n",
       "    </tr>\n",
       "    <tr>\n",
       "      <th>5</th>\n",
       "      <td>26</td>\n",
       "      <td>27</td>\n",
       "      <td>28</td>\n",
       "      <td>29</td>\n",
       "      <td>30</td>\n",
       "      <td>NaN</td>\n",
       "    </tr>\n",
       "  </tbody>\n",
       "</table>\n",
       "</div>"
      ],
      "text/plain": [
       "    0   1   2   3   4      5\n",
       "0   1   2   3   4   5  123.0\n",
       "1   6   7   8   9  10    NaN\n",
       "2  11  12  13  14  15    NaN\n",
       "3  16  17  18  19  20    NaN\n",
       "4  21  22  23  24  25    NaN\n",
       "5  26  27  28  29  30    NaN"
      ]
     },
     "execution_count": 56,
     "metadata": {},
     "output_type": "execute_result"
    }
   ],
   "source": [
    "arrdf"
   ]
  },
  {
   "cell_type": "code",
   "execution_count": 57,
   "id": "3095a058",
   "metadata": {},
   "outputs": [
    {
     "data": {
      "text/html": [
       "<div>\n",
       "<style scoped>\n",
       "    .dataframe tbody tr th:only-of-type {\n",
       "        vertical-align: middle;\n",
       "    }\n",
       "\n",
       "    .dataframe tbody tr th {\n",
       "        vertical-align: top;\n",
       "    }\n",
       "\n",
       "    .dataframe thead th {\n",
       "        text-align: right;\n",
       "    }\n",
       "</style>\n",
       "<table border=\"1\" class=\"dataframe\">\n",
       "  <thead>\n",
       "    <tr style=\"text-align: right;\">\n",
       "      <th></th>\n",
       "      <th>0</th>\n",
       "      <th>1</th>\n",
       "      <th>2</th>\n",
       "      <th>3</th>\n",
       "      <th>4</th>\n",
       "      <th>5</th>\n",
       "    </tr>\n",
       "  </thead>\n",
       "  <tbody>\n",
       "    <tr>\n",
       "      <th>0</th>\n",
       "      <td>1</td>\n",
       "      <td>2</td>\n",
       "      <td>3</td>\n",
       "      <td>4</td>\n",
       "      <td>5</td>\n",
       "      <td>123.0</td>\n",
       "    </tr>\n",
       "    <tr>\n",
       "      <th>1</th>\n",
       "      <td>6</td>\n",
       "      <td>7</td>\n",
       "      <td>8</td>\n",
       "      <td>9</td>\n",
       "      <td>10</td>\n",
       "      <td>NaN</td>\n",
       "    </tr>\n",
       "    <tr>\n",
       "      <th>2</th>\n",
       "      <td>11</td>\n",
       "      <td>12</td>\n",
       "      <td>13</td>\n",
       "      <td>14</td>\n",
       "      <td>15</td>\n",
       "      <td>NaN</td>\n",
       "    </tr>\n",
       "    <tr>\n",
       "      <th>3</th>\n",
       "      <td>16</td>\n",
       "      <td>17</td>\n",
       "      <td>18</td>\n",
       "      <td>19</td>\n",
       "      <td>20</td>\n",
       "      <td>NaN</td>\n",
       "    </tr>\n",
       "    <tr>\n",
       "      <th>4</th>\n",
       "      <td>21</td>\n",
       "      <td>22</td>\n",
       "      <td>23</td>\n",
       "      <td>24</td>\n",
       "      <td>25</td>\n",
       "      <td>NaN</td>\n",
       "    </tr>\n",
       "  </tbody>\n",
       "</table>\n",
       "</div>"
      ],
      "text/plain": [
       "    0   1   2   3   4      5\n",
       "0   1   2   3   4   5  123.0\n",
       "1   6   7   8   9  10    NaN\n",
       "2  11  12  13  14  15    NaN\n",
       "3  16  17  18  19  20    NaN\n",
       "4  21  22  23  24  25    NaN"
      ]
     },
     "execution_count": 57,
     "metadata": {},
     "output_type": "execute_result"
    }
   ],
   "source": [
    "arrdf.drop(5, axis = 0) # axis 0 refers to rows and index 5 means row index 5"
   ]
  },
  {
   "cell_type": "code",
   "execution_count": 58,
   "id": "596cc203",
   "metadata": {},
   "outputs": [
    {
     "data": {
      "text/html": [
       "<div>\n",
       "<style scoped>\n",
       "    .dataframe tbody tr th:only-of-type {\n",
       "        vertical-align: middle;\n",
       "    }\n",
       "\n",
       "    .dataframe tbody tr th {\n",
       "        vertical-align: top;\n",
       "    }\n",
       "\n",
       "    .dataframe thead th {\n",
       "        text-align: right;\n",
       "    }\n",
       "</style>\n",
       "<table border=\"1\" class=\"dataframe\">\n",
       "  <thead>\n",
       "    <tr style=\"text-align: right;\">\n",
       "      <th></th>\n",
       "      <th>0</th>\n",
       "      <th>1</th>\n",
       "      <th>2</th>\n",
       "      <th>3</th>\n",
       "      <th>4</th>\n",
       "    </tr>\n",
       "  </thead>\n",
       "  <tbody>\n",
       "    <tr>\n",
       "      <th>0</th>\n",
       "      <td>1</td>\n",
       "      <td>2</td>\n",
       "      <td>3</td>\n",
       "      <td>4</td>\n",
       "      <td>5</td>\n",
       "    </tr>\n",
       "    <tr>\n",
       "      <th>1</th>\n",
       "      <td>6</td>\n",
       "      <td>7</td>\n",
       "      <td>8</td>\n",
       "      <td>9</td>\n",
       "      <td>10</td>\n",
       "    </tr>\n",
       "    <tr>\n",
       "      <th>2</th>\n",
       "      <td>11</td>\n",
       "      <td>12</td>\n",
       "      <td>13</td>\n",
       "      <td>14</td>\n",
       "      <td>15</td>\n",
       "    </tr>\n",
       "    <tr>\n",
       "      <th>3</th>\n",
       "      <td>16</td>\n",
       "      <td>17</td>\n",
       "      <td>18</td>\n",
       "      <td>19</td>\n",
       "      <td>20</td>\n",
       "    </tr>\n",
       "    <tr>\n",
       "      <th>4</th>\n",
       "      <td>21</td>\n",
       "      <td>22</td>\n",
       "      <td>23</td>\n",
       "      <td>24</td>\n",
       "      <td>25</td>\n",
       "    </tr>\n",
       "    <tr>\n",
       "      <th>5</th>\n",
       "      <td>26</td>\n",
       "      <td>27</td>\n",
       "      <td>28</td>\n",
       "      <td>29</td>\n",
       "      <td>30</td>\n",
       "    </tr>\n",
       "  </tbody>\n",
       "</table>\n",
       "</div>"
      ],
      "text/plain": [
       "    0   1   2   3   4\n",
       "0   1   2   3   4   5\n",
       "1   6   7   8   9  10\n",
       "2  11  12  13  14  15\n",
       "3  16  17  18  19  20\n",
       "4  21  22  23  24  25\n",
       "5  26  27  28  29  30"
      ]
     },
     "execution_count": 58,
     "metadata": {},
     "output_type": "execute_result"
    }
   ],
   "source": [
    "arrdf.drop(5, axis = 1) # axis 1 refers to column and index 5 means column index 5"
   ]
  },
  {
   "cell_type": "code",
   "execution_count": 59,
   "id": "6ab34a80",
   "metadata": {},
   "outputs": [],
   "source": [
    "arrdf.columns = ['a', 'b', 'c', 'd', 'e', 'f']"
   ]
  },
  {
   "cell_type": "code",
   "execution_count": 60,
   "id": "e2472315",
   "metadata": {},
   "outputs": [
    {
     "data": {
      "text/html": [
       "<div>\n",
       "<style scoped>\n",
       "    .dataframe tbody tr th:only-of-type {\n",
       "        vertical-align: middle;\n",
       "    }\n",
       "\n",
       "    .dataframe tbody tr th {\n",
       "        vertical-align: top;\n",
       "    }\n",
       "\n",
       "    .dataframe thead th {\n",
       "        text-align: right;\n",
       "    }\n",
       "</style>\n",
       "<table border=\"1\" class=\"dataframe\">\n",
       "  <thead>\n",
       "    <tr style=\"text-align: right;\">\n",
       "      <th></th>\n",
       "      <th>a</th>\n",
       "      <th>b</th>\n",
       "      <th>c</th>\n",
       "      <th>d</th>\n",
       "      <th>e</th>\n",
       "      <th>f</th>\n",
       "    </tr>\n",
       "  </thead>\n",
       "  <tbody>\n",
       "    <tr>\n",
       "      <th>0</th>\n",
       "      <td>1</td>\n",
       "      <td>2</td>\n",
       "      <td>3</td>\n",
       "      <td>4</td>\n",
       "      <td>5</td>\n",
       "      <td>123.0</td>\n",
       "    </tr>\n",
       "    <tr>\n",
       "      <th>1</th>\n",
       "      <td>6</td>\n",
       "      <td>7</td>\n",
       "      <td>8</td>\n",
       "      <td>9</td>\n",
       "      <td>10</td>\n",
       "      <td>NaN</td>\n",
       "    </tr>\n",
       "    <tr>\n",
       "      <th>2</th>\n",
       "      <td>11</td>\n",
       "      <td>12</td>\n",
       "      <td>13</td>\n",
       "      <td>14</td>\n",
       "      <td>15</td>\n",
       "      <td>NaN</td>\n",
       "    </tr>\n",
       "    <tr>\n",
       "      <th>3</th>\n",
       "      <td>16</td>\n",
       "      <td>17</td>\n",
       "      <td>18</td>\n",
       "      <td>19</td>\n",
       "      <td>20</td>\n",
       "      <td>NaN</td>\n",
       "    </tr>\n",
       "    <tr>\n",
       "      <th>4</th>\n",
       "      <td>21</td>\n",
       "      <td>22</td>\n",
       "      <td>23</td>\n",
       "      <td>24</td>\n",
       "      <td>25</td>\n",
       "      <td>NaN</td>\n",
       "    </tr>\n",
       "    <tr>\n",
       "      <th>5</th>\n",
       "      <td>26</td>\n",
       "      <td>27</td>\n",
       "      <td>28</td>\n",
       "      <td>29</td>\n",
       "      <td>30</td>\n",
       "      <td>NaN</td>\n",
       "    </tr>\n",
       "  </tbody>\n",
       "</table>\n",
       "</div>"
      ],
      "text/plain": [
       "    a   b   c   d   e      f\n",
       "0   1   2   3   4   5  123.0\n",
       "1   6   7   8   9  10    NaN\n",
       "2  11  12  13  14  15    NaN\n",
       "3  16  17  18  19  20    NaN\n",
       "4  21  22  23  24  25    NaN\n",
       "5  26  27  28  29  30    NaN"
      ]
     },
     "execution_count": 60,
     "metadata": {},
     "output_type": "execute_result"
    }
   ],
   "source": [
    "arrdf"
   ]
  },
  {
   "cell_type": "code",
   "execution_count": 61,
   "id": "346baf7b",
   "metadata": {},
   "outputs": [
    {
     "data": {
      "text/html": [
       "<div>\n",
       "<style scoped>\n",
       "    .dataframe tbody tr th:only-of-type {\n",
       "        vertical-align: middle;\n",
       "    }\n",
       "\n",
       "    .dataframe tbody tr th {\n",
       "        vertical-align: top;\n",
       "    }\n",
       "\n",
       "    .dataframe thead th {\n",
       "        text-align: right;\n",
       "    }\n",
       "</style>\n",
       "<table border=\"1\" class=\"dataframe\">\n",
       "  <thead>\n",
       "    <tr style=\"text-align: right;\">\n",
       "      <th></th>\n",
       "      <th>b</th>\n",
       "      <th>d</th>\n",
       "    </tr>\n",
       "  </thead>\n",
       "  <tbody>\n",
       "    <tr>\n",
       "      <th>1</th>\n",
       "      <td>7</td>\n",
       "      <td>9</td>\n",
       "    </tr>\n",
       "    <tr>\n",
       "      <th>3</th>\n",
       "      <td>17</td>\n",
       "      <td>19</td>\n",
       "    </tr>\n",
       "  </tbody>\n",
       "</table>\n",
       "</div>"
      ],
      "text/plain": [
       "    b   d\n",
       "1   7   9\n",
       "3  17  19"
      ]
     },
     "execution_count": 61,
     "metadata": {},
     "output_type": "execute_result"
    }
   ],
   "source": [
    "arrdf.loc[[1,3],['b','d']] # specific portion of the data frame"
   ]
  },
  {
   "cell_type": "code",
   "execution_count": null,
   "id": "bdb1529c",
   "metadata": {},
   "outputs": [],
   "source": []
  }
 ],
 "metadata": {
  "kernelspec": {
   "display_name": "Python 3 (ipykernel)",
   "language": "python",
   "name": "python3"
  },
  "language_info": {
   "codemirror_mode": {
    "name": "ipython",
    "version": 3
   },
   "file_extension": ".py",
   "mimetype": "text/x-python",
   "name": "python",
   "nbconvert_exporter": "python",
   "pygments_lexer": "ipython3",
   "version": "3.10.6"
  }
 },
 "nbformat": 4,
 "nbformat_minor": 5
}
